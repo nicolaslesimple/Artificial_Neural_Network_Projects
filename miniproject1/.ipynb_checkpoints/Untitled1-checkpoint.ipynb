{
 "cells": [
  {
   "cell_type": "code",
   "execution_count": null,
   "metadata": {},
   "outputs": [],
   "source": [
    "'''\n",
    " * Python program to use contours to crop the objects in an image.\n",
    " *\n",
    " * usage: python ContourCrop.py <filename> <threshold>\n",
    "'''\n",
    "import cv2, sys, numpy as np\n",
    "\n",
    "# read command-line arguments\n",
    "filename = sys.argv[1]\n",
    "t = int(sys.argv[2])\n",
    "\n",
    "# read original image\n",
    "img = cv2.imread(filename)\n",
    "\n",
    "# create binary image\n",
    "gray = cv2.cvtColor(img, cv2.COLOR_BGR2GRAY)\n",
    "blur = cv2.GaussianBlur(gray, (5, 5), 0)\n",
    "(t, binary) = cv2.threshold(blur, t, 255, cv2.THRESH_BINARY)\n",
    "\n",
    "# find contours\n",
    "(_, contours, _) = cv2.findContours(binary, cv2.RETR_EXTERNAL, \n",
    "    cv2.CHAIN_APPROX_SIMPLE)\n",
    "\n",
    "# create all-black mask image\n",
    "mask = np.zeros(img.shape, dtype=\"uint8\")\n",
    "\n",
    "# draw white rectangles for each object's bounding box\n",
    "for c in contours:\n",
    "    (x, y, w, h) = cv2.boundingRect(c)\n",
    "    cv2.rectangle(mask, (x, y), (x + w, y + h), (255, 255, 255), -1)\n",
    "\n",
    "# apply mask to the original image\n",
    "img = cv2.bitwise_and(img, mask)\n",
    "\n",
    "# display masked image\n",
    "cv2.namedWindow(\"output\", cv2.WINDOW_NORMAL)\n",
    "cv2.imshow(\"output\", img)\n",
    "cv2.waitKey(0)"
   ]
  }
 ],
 "metadata": {
  "kernelspec": {
   "display_name": "Python 3",
   "language": "python",
   "name": "python3"
  },
  "language_info": {
   "codemirror_mode": {
    "name": "ipython",
    "version": 3
   },
   "file_extension": ".py",
   "mimetype": "text/x-python",
   "name": "python",
   "nbconvert_exporter": "python",
   "pygments_lexer": "ipython3",
   "version": "3.6.3"
  }
 },
 "nbformat": 4,
 "nbformat_minor": 2
}
