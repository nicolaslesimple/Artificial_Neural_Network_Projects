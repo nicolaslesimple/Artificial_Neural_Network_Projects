{
 "cells": [
  {
   "cell_type": "markdown",
   "metadata": {},
   "source": [
    "# Miniproject 2: Melody generation\n",
    "\n",
    "## Introduction\n",
    "\n",
    "### Description\n",
    "\n",
    "To develop a model employing ANN on real-world data requires going through several major steps, each of which with important design choices that directly impact the end results. In this project, we guide you through these choices starting from a large database of [Irish folk melodies](https://github.com/IraKorshunova/folk-rnn/tree/master/data) to your own model of symbolic music composition. \n",
    "\n",
    "\n",
    "### Prerequisites\n",
    "\n",
    "- You should have a running installation of [tensorflow](https://www.tensorflow.org/install/) and [keras](https://keras.io/).\n",
    "- You should know the concepts \"recurrent neural networks\", \"LSTM\", \"training and validation data\", \"overfitting\" and \"early stopping\".\n",
    "\n",
    "### What you will learn\n",
    "\n",
    "- You will be guided through a data processing procedure and understand the importance of design choices in ANN modeling\n",
    "- You will learn how to define recurrent neural networks in keras and fit them to data.\n",
    "- You will be guided through a prototyping procedure for the application of deep learning to a specific domain.\n",
    "- You will get in contact with concepts discussed later in the lecture, like \"overfitting\", \"LSTM network\", and \"Generative model\".\n",
    "- You will learn to be more patient :) Some fits may take your computer quite a bit of time; run them over night.\n",
    "\n",
    "### Evaluation criteria\n",
    "\n",
    "The evaluation is (mostly) based on the figures you submit and your answer sentences. \n",
    "We will only do random tests of your code and not re-run the full notebook. Please ensure that your notebook is fully executed before handing it in. "
   ]
  },
  {
   "cell_type": "markdown",
   "metadata": {},
   "source": [
    "## Functions and imports\n",
    "\n",
    "For your convenience we import some libraries and provide some functions below. Some libraries (`midi` and `music21==5.1.0`) should be added. If you work with the docker image, pull it `docker pull zifeo/artificial-neural-networks:cpu` before to get the latest version where these libraries are added and stop/relaunch the container (as stated in the instructions https://github.com/zifeo/artificial-neural-networks). If you work locally, be sure to import them. If you do not find the midi library for python3, install it with `python setup.py install` inside the `python3-midi` folder after cloning https://github.com/louisabraham/python3-midi.git.\n",
    "\n",
    "Finally, fill in your sciper number(s) for the random seed and simply run the following cell."
   ]
  },
  {
   "cell_type": "code",
   "execution_count": 1,
   "metadata": {},
   "outputs": [
    {
     "name": "stderr",
     "output_type": "stream",
     "text": [
      "Using Theano backend.\n"
     ]
    }
   ],
   "source": [
    "from __future__ import print_function\n",
    "import numpy as np\n",
    "import matplotlib.pyplot as plt\n",
    "import os, sys\n",
    "import copy\n",
    "\n",
    "\n",
    "sciper = {'student_1': 237699, 'student_2': 279617}\n",
    "seed = sciper['student_1']+sciper['student_2']\n",
    "\n",
    "\n",
    "\n",
    "plt.rcParams['font.size'] = 28\n",
    "plt.style.use('ggplot')\n",
    "plt.rcParams[\"axes.grid\"] = False\n",
    "c = plt.rcParams['axes.prop_cycle'].by_key()['color']\n",
    "plt.rcParams['figure.figsize'] = 8, 4\n",
    "\n",
    "import keras\n",
    "from keras.models import Model, load_model\n",
    "from keras.layers import Input, Masking, TimeDistributed, Dense, Concatenate, Dropout, LSTM, GRU, SimpleRNN\n",
    "from keras.optimizers import Adam\n",
    "from keras.utils import np_utils\n",
    "from keras.preprocessing.sequence import pad_sequences\n",
    "from keras.callbacks import ModelCheckpoint\n",
    "\n",
    "import midi\n",
    "import music21"
   ]
  },
  {
   "cell_type": "code",
   "execution_count": 2,
   "metadata": {},
   "outputs": [],
   "source": [
    "def plotMelody(P, T, dictionaries, PrP=None, PrT=None, H=None):\n",
    "    \"\"\"\n",
    "    P: The pitch array (integer representation) or matrix (one-hot encoding)\n",
    "    T: The duration array (integer representation) or matrix (one-hot encoding)\n",
    "    dictionaries: The dictionaries relating integer to a pitch or duration\n",
    "    PrP: (Optional) If provided with PrT, plot the transition probabilities\n",
    "    PrT: (Optional) If provided with PrP, plot the transition probabilities\n",
    "    H: (Optional) Add a plot with the hidden state dynamic sorted by frequency\n",
    "    \"\"\"\n",
    "    P = np.asarray(P)\n",
    "    T = np.asarray(T)\n",
    "    if len(P.shape) == 1:#if array\n",
    "        P = np_utils.to_categorical(P, len(dictionaries['P']))\n",
    "    if len(T.shape) == 1:#if array\n",
    "        T = np_utils.to_categorical(T, len(dictionaries['T']))\n",
    "    \n",
    "    xlim = [-1,np.where(P==1)[0][-1]+1]\n",
    "    \n",
    "    activeidxes = np.where(np.sum(P, axis=0)>0.)[0]\n",
    "    plt.figure(figsize=(8,4))\n",
    "    if PrP is not None:\n",
    "        targets = np.where(P[:,activeidxes]==1)\n",
    "        plt.imshow(PrP[:,activeidxes].T, origin='lower', aspect='auto', interpolation='nearest', cmap=plt.cm.gray_r, vmin=0, vmax=1)\n",
    "        plt.scatter(targets[0]-1,targets[1], color='red',s=10, marker='.') \n",
    "    else:\n",
    "        plt.imshow(P[:,activeidxes].T, origin='lower', aspect='auto', interpolation='nearest', cmap=plt.cm.gray_r, vmin=0, vmax=1)\n",
    "    plt.ylim([-0.5,len(activeidxes)-0.5])\n",
    "    plt.yticks(range(len(activeidxes)),[dictionaries[\"P\"][i] for i in activeidxes])\n",
    "    plt.tight_layout()\n",
    "    plt.xlabel(\"$n$\")\n",
    "    plt.ylabel(\"$P[n]$\")\n",
    "    plt.xlim(xlim)\n",
    "    plt.show()\n",
    "    \n",
    "    activeidxes = np.where(np.sum(T, axis=0)>0.)[0]\n",
    "    plt.figure(figsize=(8,4))\n",
    "    if PrT is not None:\n",
    "        targets = np.where(T[:,activeidxes]==1)\n",
    "        plt.imshow(PrT[:,activeidxes].T, origin='lower', aspect='auto', interpolation='nearest', cmap=plt.cm.gray_r, vmin=0, vmax=1)\n",
    "        plt.scatter(targets[0]-1,targets[1], color='red',s=10, marker='.')\n",
    "    else:\n",
    "        plt.imshow(T[:,activeidxes].T, origin='lower', aspect='auto', interpolation='nearest', cmap=plt.cm.gray_r, vmin=0, vmax=1)\n",
    "    plt.ylim([-0.5,len(activeidxes)-0.5])\n",
    "    plt.yticks(range(len(activeidxes)),[dictionaries[\"T\"][i] for i in activeidxes])\n",
    "    plt.tight_layout()\n",
    "    plt.xlabel(\"$n$\")\n",
    "    plt.ylabel(\"$T[n]$\")\n",
    "    plt.xlim(xlim)\n",
    "    plt.show()\n",
    "    \n",
    "    \n",
    "    if H is not None:\n",
    "        diff = np.mean([[abs(j-i) for i,j in zip(H[:xlim[1]-1,k], H[1:xlim[1],k])] for k in range(H.shape[1])], axis=1)\n",
    "        sortidx = np.argsort(-diff)\n",
    "        H = H[:,sortidx]\n",
    "        plt.figure(figsize=(8,4))\n",
    "        plt.imshow(H.T, origin='lower', aspect='auto', interpolation='nearest', cmap=plt.cm.seismic, vmin=-1, vmax=1)\n",
    "        plt.xlim([-1,np.where(T==1)[0][-1]+1])\n",
    "        plt.tight_layout()\n",
    "        plt.xlabel(\"$n$\")\n",
    "        plt.ylabel(\"$H[n]$\")\n",
    "        plt.show()\n",
    "\n",
    "\n",
    "def plotLearningCurves(History):\n",
    "    \n",
    "    log = History.history\n",
    "    \n",
    "    plt.figure(figsize=(8,4))\n",
    "    plt.plot(log['YP_loss'], '--', c=c[0], label='Pitch train loss')\n",
    "    plt.plot(log['val_YP_loss'], c=c[0], label='Pitch val loss')\n",
    "    \n",
    "    plt.plot(log['YT_loss'], '--', c=c[1], label='Dur train loss')\n",
    "    plt.plot(log['val_YT_loss'], c=c[1], label='Dur val loss')\n",
    "    plt.legend(loc='best')\n",
    "    \n",
    "    plt.figure(figsize=(8,4))\n",
    "    plt.plot(log['YP_acc'], '--', c=c[0], label='Pitch train acc')\n",
    "    plt.plot(log['val_YP_acc'], c=c[0], label='Pitch val acc')\n",
    "    \n",
    "    plt.plot(log['YT_acc'], '--', c=c[1], label='Dur train acc')\n",
    "    plt.plot(log['val_YT_acc'], c=c[1], label='Dur val acc')\n",
    "    plt.legend(loc='best')\n",
    "\n",
    "def sample(preds, temperature=1.):\n",
    "    \"\"\"Helper function to sample an index from a probability array\"\"\"\n",
    "    preds = np.asarray(preds).astype('float64')\n",
    "    preds = np.log(preds) / temperature\n",
    "    exp_preds = np.exp(preds)\n",
    "    preds = exp_preds / np.sum(exp_preds)\n",
    "    probas = np.random.multinomial(1, preds, 1)\n",
    "    print(probas.shape)\n",
    "    return np.argmax(probas)\n",
    "\n",
    "def writeMIDI(xP, xT, dictionaries, label):\n",
    "\n",
    "    # Instantiate a MIDI Pattern (contains a list of tracks)\n",
    "    pattern = midi.Pattern(format = 0, resolution=480)\n",
    "    # Instantiate a MIDI Track (contains a list of MIDI events)\n",
    "    track = midi.Track()\n",
    "    # Append the track to the pattern\n",
    "    pattern.append(track)\n",
    "    Events = []\n",
    "    \n",
    "    pseq = [dictionaries['P'][p] for p in xP]\n",
    "    tseq = [dictionaries['T'][t] for t in xT]\n",
    "    for t, p in zip(tseq, pseq):\n",
    "        e = midi.NoteOnEvent(tick=0, velocity=90, pitch=p)\n",
    "        track.append(e)\n",
    "        e = midi.NoteOffEvent(tick=t, velocity=0, pitch=p)\n",
    "        track.append(e)\n",
    "        \n",
    "    eot = midi.EndOfTrackEvent(tick=1)\n",
    "    track.append(eot)\n",
    "    # Save the pattern to disk\n",
    "    midi.write_midifile(label, pattern)"
   ]
  },
  {
   "cell_type": "markdown",
   "metadata": {},
   "source": [
    "## Exercise 1 : Data processing\n",
    "### Description\n",
    "\n",
    "For a real world application of ANNs, the original data should be translated into a representation understandable by an ANN. This step is often neglected but is of outmost importance. In order for you to better understand how ANN are applied to real world problems, the first step of this miniproject will guide you through a possible representation. \n",
    "\n",
    "Note that in general, your representation should be normalized in order to obtain homogeneous data from which a structure can be extracted by your ANN model. Importantly, all processing steps toward your representation should not (or minimally) distort your original data.\n",
    "\n",
    "To represent MIDI files, we provide you with a Python MIDI library. You should then\n",
    "\n",
    "0. Download the MIDI tar file from [this link](https://github.com/IraKorshunova/folk-rnn/tree/master/data) and put it in a folder named \"chorpus\" at the same level of this notebook.\n",
    "1. Parse the chorpus to extract the label of (a random subset of) the data (code is provided)\n",
    "2. Read each MIDI file in the subset with the midi [library](https://github.com/louisabraham/python3-midi)\n",
    "3. For each data sequence extract the sequence of MIDI notes defined by two dimensions (\"P\": the sequence of note pitches (integer between 0 and 127 representing a piano key), \"T\": the sequence of note durations.\n",
    "4. Select two melodies and display them both as sequences of MIDI events and sequence of notes in two dimensions. Control that your representation is correct.\n",
    "\n",
    "For step 3, you should learn how MIDI files are constructed. Below, we give a minimal explanation and some code for this particular project. For a more complete explanation, look for MIDI in your favorite search engine. Given this dataset, you can observe that it is monophonic (one note at a time) and there's a small delay (1 tick) inbetween each note. You could decide to ignore this delay or correct (recommanded) for it.\n",
    "\n",
    "A MIDI files is composed of timed events of many kinds. For this project, we focus on the events related to notes being played or stopped. Those are MIDI events \"Note Off\" and \"Note On\". Each event is timed with respect with the previous one (dt). The duration of a note is therefore given by the cummulated dt inbetween the event associated to a note's onset and the event associated with the same note's offset.\n",
    "        "
   ]
  },
  {
   "cell_type": "markdown",
   "metadata": {},
   "source": [
    "### Minimal code to read MIDI files"
   ]
  },
  {
   "cell_type": "code",
   "execution_count": 3,
   "metadata": {
    "scrolled": false
   },
   "outputs": [
    {
     "name": "stdout",
     "output_type": "stream",
     "text": [
      "File: chorpus/sessiontune0.mid\n",
      "\n",
      "########################################\n",
      "tick \t pitch \t message \t velocity\n",
      "########################################\n",
      "1 \t 67 \t Note On \t 105\n",
      "240 \t 67 \t Note Off \t 0\n",
      "241 \t 64 \t Note On \t 80\n",
      "480 \t 64 \t Note Off \t 0\n",
      "481 \t 64 \t Note On \t 80\n",
      "720 \t 64 \t Note Off \t 0\n",
      "721 \t 64 \t Note On \t 95\n",
      "1200 \t 64 \t Note Off \t 0\n",
      "1201 \t 62 \t Note On \t 80\n",
      ". \t . \t . \t \t .\n",
      ". \t . \t . \t \t .\n",
      ". \t . \t . \t \t .\n",
      "33601 \t 67 \t Note On \t 80\n",
      "33840 \t 67 \t Note Off \t 0\n",
      "33841 \t 69 \t Note On \t 95\n",
      "34080 \t 69 \t Note Off \t 0\n",
      "34081 \t 71 \t Note On \t 80\n",
      "34320 \t 71 \t Note Off \t 0\n",
      "34321 \t 72 \t Note On \t 80\n",
      "34560 \t 72 \t Note Off \t 0\n",
      "########################################\n",
      "\n",
      "4634/45853 melodies retained\n"
     ]
    }
   ],
   "source": [
    "def display(midi_file=\"chorpus/sessiontune0.mid\"):\n",
    "    #index 0 for first track only\n",
    "    events = midi.read_midifile(midi_file)[0] \n",
    "    tick = 0\n",
    "    print(\"File: {}\\n\".format(midi_file))\n",
    "    print(\"#\"*40)\n",
    "    print(\"tick \\t pitch \\t message \\t velocity\")\n",
    "    print(\"#\"*40)\n",
    "    #print(events)\n",
    "    for n, event in enumerate(events):\n",
    "        tick += event.tick\n",
    "        if event.name in ['Note On', 'Note Off']:\n",
    "            if n<13 or n>len(events)-10:\n",
    "                print(\"%i \\t %i \\t %s \\t %i\"%(tick, event.data[0], event.name, event.data[1]))\n",
    "            if n in range(20,23):\n",
    "                print(\". \\t . \\t . \\t \\t .\")\n",
    "    print(\"#\"*40+'\\n')\n",
    "\n",
    "display()\n",
    "\n",
    "datapath = \"chorpus/\"\n",
    "dataset = {}\n",
    "np.random.seed(seed)\n",
    "\n",
    "for filename in os.listdir(datapath):\n",
    "    if filename.endswith(\"mid\"):\n",
    "        label = filename[:-4]\n",
    "        #Down sample dataset\n",
    "        if np.random.rand() < 0.1:\n",
    "            dataset[label] = {\"T\":[], \"P\": []}\n",
    "print(\"%i/%i melodies retained\"%(len(list(dataset.keys())), len(os.listdir(datapath))))"
   ]
  },
  {
   "cell_type": "markdown",
   "metadata": {},
   "source": [
    "### Solution"
   ]
  },
  {
   "cell_type": "code",
   "execution_count": 4,
   "metadata": {},
   "outputs": [
    {
     "name": "stdout",
     "output_type": "stream",
     "text": [
      "File: sessiontune27925\n",
      "MIDI events\n",
      "File: chorpus/sessiontune27925.mid\n",
      "\n",
      "########################################\n",
      "tick \t pitch \t message \t velocity\n",
      "########################################\n",
      "1 \t 61 \t Note On \t 105\n",
      "60 \t 61 \t Note Off \t 0\n",
      "61 \t 63 \t Note On \t 80\n",
      "120 \t 63 \t Note Off \t 0\n",
      "121 \t 65 \t Note On \t 80\n",
      "180 \t 65 \t Note Off \t 0\n",
      "181 \t 66 \t Note On \t 80\n",
      "240 \t 66 \t Note Off \t 0\n",
      "241 \t 68 \t Note On \t 105\n",
      ". \t . \t . \t \t .\n",
      ". \t . \t . \t \t .\n",
      ". \t . \t . \t \t .\n",
      "60121 \t 70 \t Note On \t 80\n",
      "60240 \t 70 \t Note Off \t 0\n",
      "60241 \t 68 \t Note On \t 80\n",
      "60360 \t 68 \t Note Off \t 0\n",
      "60361 \t 60 \t Note On \t 80\n",
      "60720 \t 60 \t Note Off \t 0\n",
      "60721 \t 61 \t Note On \t 95\n",
      "61440 \t 61 \t Note Off \t 0\n",
      "########################################\n",
      "\n",
      "Note representation\n",
      "{'T': [60, 60, 60, 60, 360, 120, 120, 360, 120, 360, 360, 120, 360, 120, 360, 120, 120, 360, 360, 120, 360, 120, 360, 120, 360, 120, 360, 120, 360, 240, 360, 120, 120, 120, 120, 120, 360, 120, 360, 120, 120, 360, 120, 360, 360, 120, 360, 120, 360, 120, 120, 360, 360, 120, 360, 120, 360, 120, 360, 120, 360, 120, 360, 120, 120, 360, 600, 60, 60, 60, 60, 360, 120, 120, 360, 120, 360, 360, 120, 360, 120, 360, 120, 120, 360, 360, 120, 360, 120, 360, 120, 360, 120, 360, 120, 360, 240, 360, 120, 120, 120, 120, 120, 360, 120, 360, 120, 120, 360, 120, 360, 360, 120, 360, 120, 360, 120, 120, 360, 360, 120, 360, 120, 360, 120, 360, 120, 360, 120, 360, 120, 120, 360, 600, 240, 120, 360, 360, 120, 120, 360, 360, 120, 120, 360, 360, 120, 120, 360, 240, 240, 120, 360, 360, 120, 120, 360, 240, 240, 120, 360, 360, 120, 120, 120, 120, 120, 360, 120, 120, 360, 360, 120, 120, 360, 360, 120, 120, 360, 360, 120, 120, 360, 360, 120, 360, 120, 360, 120, 360, 120, 360, 120, 360, 120, 120, 360, 720, 240, 120, 360, 360, 120, 120, 360, 360, 120, 120, 360, 360, 120, 120, 360, 240, 240, 120, 360, 360, 120, 120, 360, 240, 240, 120, 360, 360, 120, 120, 120, 120, 120, 360, 120, 120, 360, 360, 120, 120, 360, 360, 120, 120, 360, 360, 120, 120, 360, 360, 120, 360, 120, 360, 120, 360, 120, 360, 120, 360, 120, 120, 360, 720], 'P': [61, 63, 65, 66, 68, 70, 68, 73, 68, 65, 65, 63, 61, 63, 65, 63, 61, 56, 56, 57, 58, 61, 56, 61, 54, 61, 53, 61, 58, 63, 63, 61, 60, 61, 63, 60, 56, 65, 68, 70, 68, 73, 68, 65, 65, 63, 61, 63, 65, 63, 61, 56, 56, 57, 58, 66, 56, 65, 54, 63, 53, 70, 68, 70, 68, 60, 61, 61, 63, 65, 66, 68, 70, 68, 73, 68, 65, 65, 63, 61, 63, 65, 63, 61, 56, 56, 57, 58, 61, 56, 61, 54, 61, 53, 61, 58, 63, 63, 61, 60, 61, 63, 60, 56, 65, 68, 70, 68, 73, 68, 65, 65, 63, 61, 63, 65, 63, 61, 56, 56, 57, 58, 66, 56, 65, 54, 63, 53, 70, 68, 70, 68, 60, 61, 75, 77, 73, 73, 77, 75, 72, 72, 75, 73, 70, 70, 79, 80, 68, 68, 71, 70, 66, 66, 70, 68, 65, 65, 68, 70, 63, 63, 61, 60, 61, 63, 60, 56, 63, 65, 61, 61, 65, 63, 60, 60, 63, 61, 58, 58, 67, 68, 56, 56, 61, 58, 66, 56, 65, 54, 63, 53, 70, 68, 70, 68, 60, 61, 75, 77, 73, 73, 77, 75, 72, 72, 75, 73, 70, 70, 79, 80, 68, 68, 71, 70, 66, 66, 70, 68, 65, 65, 68, 70, 63, 63, 61, 60, 61, 63, 60, 56, 63, 65, 61, 61, 65, 63, 60, 60, 63, 61, 58, 58, 67, 68, 56, 56, 61, 58, 66, 56, 65, 54, 63, 53, 70, 68, 70, 68, 60, 61]}\n",
      "\n",
      "\n",
      "File: sessiontune4405\n",
      "MIDI events\n",
      "File: chorpus/sessiontune4405.mid\n",
      "\n",
      "########################################\n",
      "tick \t pitch \t message \t velocity\n",
      "########################################\n",
      "1 \t 55 \t Note On \t 105\n",
      "240 \t 55 \t Note Off \t 0\n",
      "241 \t 60 \t Note On \t 105\n",
      "480 \t 60 \t Note Off \t 0\n",
      "481 \t 59 \t Note On \t 80\n",
      "720 \t 59 \t Note Off \t 0\n",
      "721 \t 60 \t Note On \t 80\n",
      "960 \t 60 \t Note Off \t 0\n",
      "961 \t 62 \t Note On \t 80\n",
      ". \t . \t . \t \t .\n",
      ". \t . \t . \t \t .\n",
      ". \t . \t . \t \t .\n",
      "29681 \t 76 \t Note On \t 80\n",
      "29840 \t 76 \t Note Off \t 0\n",
      "29841 \t 77 \t Note On \t 80\n",
      "30000 \t 77 \t Note Off \t 0\n",
      "30001 \t 76 \t Note On \t 95\n",
      "30240 \t 76 \t Note Off \t 0\n",
      "30241 \t 72 \t Note On \t 80\n",
      "30720 \t 72 \t Note Off \t 0\n",
      "########################################\n",
      "\n",
      "Note representation\n",
      "{'T': [240, 240, 240, 240, 240, 240, 240, 240, 240, 240, 240, 240, 240, 240, 240, 240, 240, 240, 240, 240, 240, 240, 240, 240, 240, 240, 240, 240, 240, 240, 240, 240, 240, 240, 240, 240, 240, 240, 240, 240, 240, 240, 240, 240, 240, 240, 240, 240, 240, 240, 240, 240, 240, 240, 240, 240, 240, 240, 240, 240, 240, 240, 240, 240, 240, 240, 240, 240, 240, 240, 240, 240, 240, 240, 240, 240, 240, 240, 240, 240, 240, 240, 240, 240, 240, 240, 240, 240, 240, 240, 240, 160, 160, 160, 240, 240, 240, 240, 240, 240, 240, 240, 240, 240, 240, 240, 240, 240, 240, 240, 240, 240, 240, 240, 240, 240, 240, 240, 240, 240, 240, 240, 240, 240, 160, 160, 160, 240, 480], 'P': [55, 60, 59, 60, 62, 64, 67, 67, 71, 72, 74, 76, 74, 72, 69, 69, 67, 69, 72, 67, 72, 69, 81, 81, 78, 79, 76, 72, 74, 76, 74, 74, 55, 60, 59, 60, 62, 64, 67, 67, 71, 72, 74, 76, 74, 72, 69, 69, 67, 69, 72, 67, 72, 69, 81, 81, 78, 79, 76, 74, 77, 76, 72, 72, 77, 79, 78, 79, 81, 79, 76, 76, 72, 77, 76, 74, 72, 76, 72, 72, 67, 69, 72, 67, 72, 69, 81, 80, 81, 79, 76, 71, 72, 74, 76, 74, 74, 77, 79, 78, 79, 81, 79, 76, 76, 72, 77, 76, 74, 72, 76, 72, 72, 67, 69, 72, 67, 72, 69, 81, 80, 81, 79, 76, 74, 76, 77, 76, 72]}\n",
      "\n",
      "\n"
     ]
    }
   ],
   "source": [
    "def parseMIDI(midi_file):\n",
    "    events = midi.read_midifile(midi_file)[0] #index 0 for first track only  \n",
    "    T = []\n",
    "    P = []\n",
    "    tick=0\n",
    "    for n, event in enumerate(events):\n",
    "        if event.name in ['Note On']:\n",
    "            tick = event.tick \n",
    "        elif event.name in ['Note Off']:\n",
    "            tick += event.tick\n",
    "            T.append(tick)\n",
    "            P.append(event.data[0])\n",
    "        else:\n",
    "            tick += event.tick\n",
    "    return P, T\n",
    "\n",
    "for label in list(dataset.keys()):\n",
    "    Pseq, Tseq = parseMIDI(datapath+label+\".mid\")\n",
    "    dataset[label]['T']= Tseq\n",
    "    dataset[label]['P']= Pseq\n",
    "\n",
    "for label in np.random.choice(list(dataset.keys()), 2):\n",
    "    print(\"File: {}\".format(label))\n",
    "    print(\"MIDI events\")\n",
    "    display(datapath+label+\".mid\")\n",
    "    print(\"Note representation\")\n",
    "    print(dataset[label])\n",
    "    print('\\n')"
   ]
  },
  {
   "cell_type": "markdown",
   "metadata": {},
   "source": [
    "## Exercise 2: Tokenzation and translation to integer\n",
    "### Description\n",
    "\n",
    "Now you should have a \"dataset\" dictionary where each entry corresponds to one melody example from a subset of the full dataset. In turn, every melody example is represented by a dictionary with two sequences: the \"P\" entry being the sequence of pitches and the \"T\" entry, the sequence of durations. Here, you will implement the first steps to translate this dataset in a language that can be read by your ANN models. To achieve that, we will later use the [one-hot encoding scheme](https://machinelearningmastery.com/why-one-hot-encode-data-in-machine-learning/), which will associate each input (and output) unit of your network to a unique pitch or duration. In your network, these units will then be sequentially activated in the same order as their corresponding pitch/duration in your dataset. And at each note, the model will be trained to approximate the probability distributions of the upcoming pitch and duration.\n",
    "\n",
    "1. Gather in a list of all possible pitches and durations in your dataset. These two lists will be your \"dictionaries\" translating a pitch/duration to a unique integer between 0 and the number of entries (-1) in the pitch/duration dictionary.\n",
    "2. Translate the pitch/duration sequence of each melody to the integer representation.\n",
    "3. Select randomly two melodies and display them in the note representation and translated to integer. Check that the translation is correct."
   ]
  },
  {
   "cell_type": "markdown",
   "metadata": {},
   "source": [
    "### Solution"
   ]
  },
  {
   "cell_type": "code",
   "execution_count": 5,
   "metadata": {},
   "outputs": [
    {
     "name": "stdout",
     "output_type": "stream",
     "text": [
      "\n",
      "T_dictionary:\n",
      " [  30   40   45   50   59   60   80   90  106  119  120  127  144  150  159\n",
      "  160  179  180  200  213  220  229  230  239  240  280  300  319  320  321\n",
      "  359  360  400  460  469  479  480  560  600  639  640  719  720  800  840\n",
      "  880  959  960 1040 1080 1120 1199 1200 1280 1320 1439 1440 1680 1840 1919\n",
      " 1920 2080 2159 2160 2399 2400 2640 2720 2879 2880 3120 3360 3840 4320 5040\n",
      " 5520 5760]\n",
      "\n",
      "P_dictionary:\n",
      " [48 49 50 51 52 53 54 55 56 57 58 59 60 61 62 63 64 65 66 67 68 69 70 71 72\n",
      " 73 74 75 76 77 78 79 80 81 82 83 84 85 86 87 88 89 90 91 92 93 94]\n",
      "\n",
      "Question 2 :  \n",
      "\n",
      "Note representation for T:\n",
      " [240, 240, 240, 240, 240, 240, 240, 240, 240, 240, 240, 240, 240, 240, 240, 240, 240, 240, 240, 240, 240, 240, 240, 240, 240, 240, 240, 240, 240, 240, 240, 240, 240, 240, 240, 240, 240, 240, 240, 240, 240, 240, 240, 240, 240, 240, 240, 240, 240, 240, 240, 240, 240, 240, 240, 240, 240, 240, 240, 240, 240, 240, 240, 240, 240, 240, 240, 240, 240, 240, 240, 240, 240, 240, 240, 240, 240, 240, 240, 240, 240, 240, 240, 240, 240, 240, 240, 240, 240, 240, 240, 240, 240, 240, 240, 240, 240, 240, 240, 240, 240, 240, 240, 240, 240, 240, 240, 240, 240, 240, 240, 240, 240, 240, 240, 240, 240, 240, 240, 240]\n",
      "\n",
      "Integer representation for T:\n",
      " [24, 24, 24, 24, 24, 24, 24, 24, 24, 24, 24, 24, 24, 24, 24, 24, 24, 24, 24, 24, 24, 24, 24, 24, 24, 24, 24, 24, 24, 24, 24, 24, 24, 24, 24, 24, 24, 24, 24, 24, 24, 24, 24, 24, 24, 24, 24, 24, 24, 24, 24, 24, 24, 24, 24, 24, 24, 24, 24, 24, 24, 24, 24, 24, 24, 24, 24, 24, 24, 24, 24, 24, 24, 24, 24, 24, 24, 24, 24, 24, 24, 24, 24, 24, 24, 24, 24, 24, 24, 24, 24, 24, 24, 24, 24, 24, 24, 24, 24, 24, 24, 24, 24, 24, 24, 24, 24, 24, 24, 24, 24, 24, 24, 24, 24, 24, 24, 24, 24, 24]\n",
      "\n",
      "Note representation for P:\n",
      " [67, 59, 74, 59, 67, 59, 74, 59, 67, 59, 74, 59, 72, 69, 77, 69, 67, 59, 74, 59, 67, 59, 74, 59, 67, 59, 74, 59, 77, 76, 74, 72, 69, 65, 65, 67, 59, 74, 59, 67, 59, 74, 59, 67, 59, 74, 59, 72, 69, 77, 69, 67, 59, 74, 59, 67, 59, 74, 59, 67, 59, 74, 59, 77, 76, 74, 72, 69, 65, 65, 74, 79, 79, 74, 79, 79, 74, 81, 81, 74, 81, 81, 74, 79, 79, 74, 79, 79, 77, 76, 74, 72, 69, 65, 65, 74, 79, 79, 74, 79, 79, 74, 81, 81, 74, 81, 81, 74, 79, 79, 74, 79, 79, 77, 76, 74, 72, 69, 65, 65]\n",
      "\n",
      "Integer representation for P:\n",
      " [19, 11, 26, 11, 19, 11, 26, 11, 19, 11, 26, 11, 24, 21, 29, 21, 19, 11, 26, 11, 19, 11, 26, 11, 19, 11, 26, 11, 29, 28, 26, 24, 21, 17, 17, 19, 11, 26, 11, 19, 11, 26, 11, 19, 11, 26, 11, 24, 21, 29, 21, 19, 11, 26, 11, 19, 11, 26, 11, 19, 11, 26, 11, 29, 28, 26, 24, 21, 17, 17, 26, 31, 31, 26, 31, 31, 26, 33, 33, 26, 33, 33, 26, 31, 31, 26, 31, 31, 29, 28, 26, 24, 21, 17, 17, 26, 31, 31, 26, 31, 31, 26, 33, 33, 26, 33, 33, 26, 31, 31, 26, 31, 31, 29, 28, 26, 24, 21, 17, 17]\n",
      "\n",
      "Question 3\n",
      "\n",
      "File: chorpus/sessiontune28124.mid\n",
      "\n",
      "########################################\n",
      "tick \t pitch \t message \t velocity\n",
      "########################################\n",
      "1 \t 80 \t Note On \t 105\n",
      "160 \t 80 \t Note Off \t 0\n",
      "161 \t 82 \t Note On \t 80\n",
      "320 \t 82 \t Note Off \t 0\n",
      "321 \t 84 \t Note On \t 80\n",
      "480 \t 84 \t Note Off \t 0\n",
      "481 \t 85 \t Note On \t 105\n",
      "800 \t 85 \t Note Off \t 0\n",
      "801 \t 85 \t Note On \t 80\n",
      ". \t . \t . \t \t .\n",
      ". \t . \t . \t \t .\n",
      ". \t . \t . \t \t .\n",
      "59841 \t 72 \t Note On \t 80\n",
      "60000 \t 72 \t Note Off \t 0\n",
      "60001 \t 73 \t Note On \t 105\n",
      "60480 \t 73 \t Note Off \t 0\n",
      "60481 \t 77 \t Note On \t 80\n",
      "60960 \t 77 \t Note Off \t 0\n",
      "60961 \t 73 \t Note On \t 95\n",
      "61440 \t 73 \t Note Off \t 0\n",
      "########################################\n",
      "\n",
      "Note representation\n",
      "{'T': [160, 160, 160, 320, 160, 320, 160, 320, 160, 320, 160, 320, 160, 320, 160, 320, 160, 320, 160, 320, 160, 320, 160, 320, 160, 320, 160, 320, 160, 320, 160, 320, 160, 320, 160, 320, 160, 320, 160, 320, 160, 320, 160, 320, 160, 320, 160, 320, 160, 320, 160, 320, 160, 320, 160, 320, 160, 320, 160, 480, 480, 480, 160, 160, 160, 320, 160, 320, 160, 320, 160, 320, 160, 320, 160, 320, 160, 320, 160, 320, 160, 320, 160, 320, 160, 320, 160, 320, 160, 320, 160, 320, 160, 320, 160, 320, 160, 320, 160, 320, 160, 320, 160, 320, 160, 320, 160, 320, 160, 320, 160, 320, 160, 320, 160, 320, 160, 320, 160, 320, 160, 480, 480, 480, 320, 160, 320, 160, 320, 160, 320, 160, 320, 160, 320, 160, 320, 160, 320, 160, 320, 160, 320, 160, 320, 160, 320, 160, 320, 160, 320, 160, 320, 160, 320, 160, 320, 160, 160, 160, 160, 320, 160, 160, 160, 160, 320, 160, 160, 160, 160, 320, 160, 160, 160, 160, 320, 160, 320, 160, 320, 160, 320, 160, 320, 160, 480, 480, 480, 320, 160, 320, 160, 320, 160, 320, 160, 320, 160, 320, 160, 320, 160, 320, 160, 320, 160, 320, 160, 320, 160, 320, 160, 320, 160, 320, 160, 320, 160, 320, 160, 320, 160, 160, 160, 160, 320, 160, 160, 160, 160, 320, 160, 160, 160, 160, 320, 160, 160, 160, 160, 320, 160, 320, 160, 320, 160, 320, 160, 320, 160, 480, 480, 480], 'P': [80, 82, 84, 85, 85, 80, 77, 73, 77, 82, 80, 78, 77, 75, 73, 72, 75, 68, 72, 73, 75, 77, 78, 80, 77, 73, 77, 75, 80, 79, 82, 80, 80, 82, 84, 85, 85, 80, 77, 73, 77, 82, 80, 78, 77, 75, 73, 72, 75, 68, 72, 73, 85, 80, 77, 82, 78, 75, 72, 73, 77, 73, 80, 82, 84, 85, 85, 80, 77, 73, 77, 82, 80, 78, 77, 75, 73, 72, 75, 68, 72, 73, 75, 77, 78, 80, 77, 73, 77, 75, 80, 79, 82, 80, 80, 82, 84, 85, 85, 80, 77, 73, 77, 82, 80, 78, 77, 75, 73, 72, 75, 68, 72, 73, 85, 80, 77, 82, 78, 75, 72, 73, 77, 73, 78, 77, 75, 77, 75, 73, 72, 68, 70, 72, 73, 75, 77, 78, 80, 77, 73, 77, 78, 77, 78, 80, 82, 80, 78, 77, 75, 80, 79, 82, 80, 80, 82, 84, 85, 87, 85, 80, 77, 82, 84, 82, 78, 75, 80, 82, 78, 77, 73, 78, 80, 78, 75, 72, 73, 85, 80, 77, 82, 78, 75, 72, 73, 77, 73, 78, 77, 75, 77, 75, 73, 72, 68, 70, 72, 73, 75, 77, 78, 80, 77, 73, 77, 78, 77, 78, 80, 82, 80, 78, 77, 75, 80, 79, 82, 80, 80, 82, 84, 85, 87, 85, 80, 77, 82, 84, 82, 78, 75, 80, 82, 78, 77, 73, 78, 80, 78, 75, 72, 73, 85, 80, 77, 82, 78, 75, 72, 73, 77, 73]}\n",
      "\n",
      "\n",
      "Integer representation of the note\n",
      "{'T': [15, 15, 15, 28, 15, 28, 15, 28, 15, 28, 15, 28, 15, 28, 15, 28, 15, 28, 15, 28, 15, 28, 15, 28, 15, 28, 15, 28, 15, 28, 15, 28, 15, 28, 15, 28, 15, 28, 15, 28, 15, 28, 15, 28, 15, 28, 15, 28, 15, 28, 15, 28, 15, 28, 15, 28, 15, 28, 15, 36, 36, 36, 15, 15, 15, 28, 15, 28, 15, 28, 15, 28, 15, 28, 15, 28, 15, 28, 15, 28, 15, 28, 15, 28, 15, 28, 15, 28, 15, 28, 15, 28, 15, 28, 15, 28, 15, 28, 15, 28, 15, 28, 15, 28, 15, 28, 15, 28, 15, 28, 15, 28, 15, 28, 15, 28, 15, 28, 15, 28, 15, 36, 36, 36, 28, 15, 28, 15, 28, 15, 28, 15, 28, 15, 28, 15, 28, 15, 28, 15, 28, 15, 28, 15, 28, 15, 28, 15, 28, 15, 28, 15, 28, 15, 28, 15, 28, 15, 15, 15, 15, 28, 15, 15, 15, 15, 28, 15, 15, 15, 15, 28, 15, 15, 15, 15, 28, 15, 28, 15, 28, 15, 28, 15, 28, 15, 36, 36, 36, 28, 15, 28, 15, 28, 15, 28, 15, 28, 15, 28, 15, 28, 15, 28, 15, 28, 15, 28, 15, 28, 15, 28, 15, 28, 15, 28, 15, 28, 15, 28, 15, 28, 15, 15, 15, 15, 28, 15, 15, 15, 15, 28, 15, 15, 15, 15, 28, 15, 15, 15, 15, 28, 15, 28, 15, 28, 15, 28, 15, 28, 15, 36, 36, 36], 'P': [32, 34, 36, 37, 37, 32, 29, 25, 29, 34, 32, 30, 29, 27, 25, 24, 27, 20, 24, 25, 27, 29, 30, 32, 29, 25, 29, 27, 32, 31, 34, 32, 32, 34, 36, 37, 37, 32, 29, 25, 29, 34, 32, 30, 29, 27, 25, 24, 27, 20, 24, 25, 37, 32, 29, 34, 30, 27, 24, 25, 29, 25, 32, 34, 36, 37, 37, 32, 29, 25, 29, 34, 32, 30, 29, 27, 25, 24, 27, 20, 24, 25, 27, 29, 30, 32, 29, 25, 29, 27, 32, 31, 34, 32, 32, 34, 36, 37, 37, 32, 29, 25, 29, 34, 32, 30, 29, 27, 25, 24, 27, 20, 24, 25, 37, 32, 29, 34, 30, 27, 24, 25, 29, 25, 30, 29, 27, 29, 27, 25, 24, 20, 22, 24, 25, 27, 29, 30, 32, 29, 25, 29, 30, 29, 30, 32, 34, 32, 30, 29, 27, 32, 31, 34, 32, 32, 34, 36, 37, 39, 37, 32, 29, 34, 36, 34, 30, 27, 32, 34, 30, 29, 25, 30, 32, 30, 27, 24, 25, 37, 32, 29, 34, 30, 27, 24, 25, 29, 25, 30, 29, 27, 29, 27, 25, 24, 20, 22, 24, 25, 27, 29, 30, 32, 29, 25, 29, 30, 29, 30, 32, 34, 32, 30, 29, 27, 32, 31, 34, 32, 32, 34, 36, 37, 39, 37, 32, 29, 34, 36, 34, 30, 27, 32, 34, 30, 29, 25, 30, 32, 30, 27, 24, 25, 37, 32, 29, 34, 30, 27, 24, 25, 29, 25]}\n",
      "\n",
      "\n",
      "File: chorpus/sessiontune41300.mid\n",
      "\n",
      "########################################\n",
      "tick \t pitch \t message \t velocity\n",
      "########################################\n",
      "1 \t 73 \t Note On \t 105\n",
      "480 \t 73 \t Note Off \t 0\n",
      "481 \t 77 \t Note On \t 80\n",
      "720 \t 77 \t Note Off \t 0\n",
      "721 \t 73 \t Note On \t 80\n",
      "960 \t 73 \t Note Off \t 0\n",
      "961 \t 80 \t Note On \t 95\n",
      "1200 \t 80 \t Note Off \t 0\n",
      "1201 \t 85 \t Note On \t 80\n",
      ". \t . \t . \t \t .\n",
      ". \t . \t . \t \t .\n",
      ". \t . \t . \t \t .\n",
      "59761 \t 73 \t Note On \t 80\n",
      "60000 \t 73 \t Note Off \t 0\n",
      "60001 \t 77 \t Note On \t 80\n",
      "60240 \t 77 \t Note Off \t 0\n",
      "60241 \t 80 \t Note On \t 80\n",
      "60480 \t 80 \t Note Off \t 0\n",
      "60481 \t 85 \t Note On \t 95\n",
      "61440 \t 85 \t Note Off \t 0\n",
      "########################################\n",
      "\n",
      "Note representation\n",
      "{'T': [480, 240, 240, 240, 240, 240, 240, 240, 240, 240, 240, 480, 240, 240, 240, 240, 240, 240, 240, 240, 240, 240, 240, 240, 240, 240, 240, 240, 240, 240, 240, 240, 240, 240, 240, 240, 240, 240, 240, 240, 240, 240, 240, 240, 240, 240, 240, 240, 240, 240, 240, 240, 240, 240, 240, 240, 240, 240, 480, 480, 480, 240, 240, 240, 240, 240, 240, 240, 240, 240, 240, 480, 240, 240, 240, 240, 240, 240, 240, 240, 240, 240, 240, 240, 240, 240, 240, 240, 240, 240, 240, 240, 240, 240, 240, 240, 240, 240, 240, 240, 240, 240, 240, 240, 240, 240, 240, 240, 240, 240, 240, 240, 240, 240, 240, 240, 240, 240, 480, 480, 240, 240, 240, 240, 240, 240, 240, 240, 240, 240, 240, 240, 480, 240, 240, 480, 240, 240, 240, 240, 240, 240, 240, 240, 240, 240, 240, 240, 240, 240, 240, 240, 240, 240, 240, 240, 240, 240, 240, 240, 240, 240, 720, 240, 240, 240, 240, 240, 240, 240, 240, 240, 240, 240, 240, 240, 960, 240, 240, 240, 240, 240, 240, 240, 240, 240, 240, 240, 240, 480, 240, 240, 480, 240, 240, 240, 240, 240, 240, 240, 240, 240, 240, 240, 240, 240, 240, 240, 240, 240, 240, 240, 240, 240, 240, 240, 240, 240, 240, 720, 240, 240, 240, 240, 240, 240, 240, 240, 240, 240, 240, 240, 240, 960], 'P': [73, 77, 73, 80, 85, 82, 80, 77, 73, 77, 80, 75, 75, 77, 80, 77, 80, 85, 82, 80, 77, 73, 75, 73, 70, 66, 65, 66, 68, 65, 73, 77, 80, 73, 77, 80, 85, 77, 77, 78, 77, 73, 80, 78, 80, 82, 85, 87, 85, 82, 80, 78, 82, 85, 87, 85, 84, 87, 73, 73, 73, 77, 73, 80, 85, 82, 80, 77, 73, 77, 80, 75, 75, 77, 80, 77, 80, 85, 82, 80, 77, 73, 75, 73, 70, 66, 65, 66, 68, 65, 73, 77, 80, 73, 77, 80, 85, 77, 77, 78, 77, 73, 80, 78, 80, 82, 85, 87, 85, 82, 80, 78, 82, 85, 87, 85, 84, 87, 73, 73, 77, 78, 77, 73, 75, 77, 75, 72, 70, 72, 70, 66, 65, 65, 66, 68, 70, 73, 75, 78, 80, 84, 82, 84, 82, 78, 77, 78, 77, 73, 85, 87, 85, 89, 87, 85, 82, 80, 78, 87, 84, 87, 85, 87, 85, 82, 80, 85, 82, 80, 77, 73, 75, 73, 77, 80, 85, 77, 78, 77, 73, 75, 77, 75, 72, 70, 72, 70, 66, 65, 65, 66, 68, 70, 73, 75, 78, 80, 84, 82, 84, 82, 78, 77, 78, 77, 73, 85, 87, 85, 89, 87, 85, 82, 80, 78, 87, 84, 87, 85, 87, 85, 82, 80, 85, 82, 80, 77, 73, 75, 73, 77, 80, 85]}\n",
      "\n",
      "\n",
      "Integer representation of the note\n",
      "{'T': [36, 24, 24, 24, 24, 24, 24, 24, 24, 24, 24, 36, 24, 24, 24, 24, 24, 24, 24, 24, 24, 24, 24, 24, 24, 24, 24, 24, 24, 24, 24, 24, 24, 24, 24, 24, 24, 24, 24, 24, 24, 24, 24, 24, 24, 24, 24, 24, 24, 24, 24, 24, 24, 24, 24, 24, 24, 24, 36, 36, 36, 24, 24, 24, 24, 24, 24, 24, 24, 24, 24, 36, 24, 24, 24, 24, 24, 24, 24, 24, 24, 24, 24, 24, 24, 24, 24, 24, 24, 24, 24, 24, 24, 24, 24, 24, 24, 24, 24, 24, 24, 24, 24, 24, 24, 24, 24, 24, 24, 24, 24, 24, 24, 24, 24, 24, 24, 24, 36, 36, 24, 24, 24, 24, 24, 24, 24, 24, 24, 24, 24, 24, 36, 24, 24, 36, 24, 24, 24, 24, 24, 24, 24, 24, 24, 24, 24, 24, 24, 24, 24, 24, 24, 24, 24, 24, 24, 24, 24, 24, 24, 24, 42, 24, 24, 24, 24, 24, 24, 24, 24, 24, 24, 24, 24, 24, 47, 24, 24, 24, 24, 24, 24, 24, 24, 24, 24, 24, 24, 36, 24, 24, 36, 24, 24, 24, 24, 24, 24, 24, 24, 24, 24, 24, 24, 24, 24, 24, 24, 24, 24, 24, 24, 24, 24, 24, 24, 24, 24, 42, 24, 24, 24, 24, 24, 24, 24, 24, 24, 24, 24, 24, 24, 47], 'P': [25, 29, 25, 32, 37, 34, 32, 29, 25, 29, 32, 27, 27, 29, 32, 29, 32, 37, 34, 32, 29, 25, 27, 25, 22, 18, 17, 18, 20, 17, 25, 29, 32, 25, 29, 32, 37, 29, 29, 30, 29, 25, 32, 30, 32, 34, 37, 39, 37, 34, 32, 30, 34, 37, 39, 37, 36, 39, 25, 25, 25, 29, 25, 32, 37, 34, 32, 29, 25, 29, 32, 27, 27, 29, 32, 29, 32, 37, 34, 32, 29, 25, 27, 25, 22, 18, 17, 18, 20, 17, 25, 29, 32, 25, 29, 32, 37, 29, 29, 30, 29, 25, 32, 30, 32, 34, 37, 39, 37, 34, 32, 30, 34, 37, 39, 37, 36, 39, 25, 25, 29, 30, 29, 25, 27, 29, 27, 24, 22, 24, 22, 18, 17, 17, 18, 20, 22, 25, 27, 30, 32, 36, 34, 36, 34, 30, 29, 30, 29, 25, 37, 39, 37, 41, 39, 37, 34, 32, 30, 39, 36, 39, 37, 39, 37, 34, 32, 37, 34, 32, 29, 25, 27, 25, 29, 32, 37, 29, 30, 29, 25, 27, 29, 27, 24, 22, 24, 22, 18, 17, 17, 18, 20, 22, 25, 27, 30, 32, 36, 34, 36, 34, 30, 29, 30, 29, 25, 37, 39, 37, 41, 39, 37, 34, 32, 30, 39, 36, 39, 37, 39, 37, 34, 32, 37, 34, 32, 29, 25, 27, 25, 29, 32, 37]}\n",
      "\n",
      "\n"
     ]
    }
   ],
   "source": [
    "#######################################################################\n",
    "#Question 1: Gather in a list of all possible pitches and durations in the dataset  \n",
    "#######################################################################\n",
    "\n",
    "sum_T,sum_P = list(), list()\n",
    "for label in list(dataset.keys()):\n",
    "    for t in dataset[label]['T']:\n",
    "        sum_T.append(t)\n",
    "    for p in dataset[label]['P']:\n",
    "        sum_P.append(p)\n",
    "        \n",
    "T_dictionary = (np.unique(sum_T)) \n",
    "P_dictionary = (np.unique(sum_P)) \n",
    "print('\\nT_dictionary:\\n {}'.format(T_dictionary))\n",
    "print(\"\\nP_dictionary:\\n {}\\n\".format(P_dictionary))\n",
    "\n",
    "\n",
    "#############################################################################################################################\n",
    "# Question 2 : Convert into histogram of dictionary\n",
    "#############################################################################################################################\n",
    "print('Question 2 :  \\n')\n",
    "int_dataset = copy.deepcopy(dataset) \n",
    "for label in list(int_dataset.keys()):\n",
    "    int_dataset[label]['T']  = [np.where(T_dictionary==x)[0][0] for x in int_dataset[label]['T']]\n",
    "    int_dataset[label]['P']  = [np.where(P_dictionary==x)[0][0] for x in int_dataset[label]['P']]\n",
    "\n",
    "print(\"Note representation for T:\\n\",dataset[label]['T'])\n",
    "print (\"\\nInteger representation for T:\\n\",int_dataset[label]['T'])\n",
    "\n",
    "print(\"\\nNote representation for P:\\n\",dataset[label]['P'])\n",
    "print (\"\\nInteger representation for P:\\n\",int_dataset[label]['P'])\n",
    "\n",
    "\n",
    "#print ('New integer dataset for P :',int_dataset[label]['P'])\n",
    "    \n",
    "#############################################################################################################################\n",
    "# Question 3: Convert Note to Integer format for all melodies\n",
    "############################################################################################################################# \n",
    "\n",
    "print ('\\nQuestion 3\\n')\n",
    "\n",
    "for label in np.random.choice(list(int_dataset.keys()), 2):\n",
    "    display(datapath+label+\".mid\")\n",
    "    print(\"Note representation\")\n",
    "    print(dataset[label])\n",
    "    print('\\n')\n",
    "    print(\"Integer representation of the note\")\n",
    "    print(int_dataset[label])\n",
    "    print('\\n')"
   ]
  },
  {
   "cell_type": "markdown",
   "metadata": {},
   "source": [
    "## Exercise 3: Data reprocessing\n",
    "### Description\n",
    "\n",
    "Before moving to the implementation of your RNN generative model of note transition, you will perform data exploration and modification. This step will allow your model to get the most out of your original data as well as ensuring some features such as transposition invariance. \n",
    "\n",
    "To further improve your model, you might want to reconsider your original data. Many different approaches can be undertaken. Here you are asked to implement the a rare event suppression method and transposition invariance.\n",
    "\n",
    "**Rare event suppression** If a unit in your network is associated to a duration that happens very rarely in your data, a possible simplification consists in removing the melodies conaining these rare events from your dataset. \n",
    "1. Plot and comment the histogram of durations in your entire dataset. Use the labels from the original duration values (rather than the integer representation). \n",
    "2. Based on your observations, remove from your dataset melodies containing very rare durations. Adjust the rejection threshold such that at most 5% of the melodies are dicarded with this step. \n",
    "3. Recompute the duration dictionary based on your filtered dataset and plot the new histogram of durations. \n",
    "\n",
    "**Transposition invariance** A melody is perceived similarly by the human ear if it's shifted up or down by a constant offset (see [transposition](https://en.wikipedia.org/wiki/Transposition_(music))). Here, you will force your model to be transposition invariant. For this you can choose to use one of two orthogonal methods. The first consists in transposing every melody into a common tonality (C Major/A minor). On the other hand, the second consists in transposing each melody in all possible keys. The second method will increase your dataset size by a factor bigger than 11! As the training time is directly related with the dataset size, to save computing time, we recomand that you implement the first option.\n",
    "\n",
    "***Pitch normalization*** \n",
    "1. Use the provided function to create a new dataset where all melodies are transposed to C Major/A minor. \n",
    "2. Plot the histograms of the pitches before and after transposition.\n",
    "\n",
    "Finally, you shoud recompute the tokenization step for your brand new filtered and normalized dataset."
   ]
  },
  {
   "cell_type": "markdown",
   "metadata": {},
   "source": [
    "### Solution"
   ]
  },
  {
   "cell_type": "markdown",
   "metadata": {},
   "source": [
    "#### Rare event suppression : "
   ]
  },
  {
   "cell_type": "code",
   "execution_count": 6,
   "metadata": {},
   "outputs": [
    {
     "data": {
      "image/png": "[encoded data removed]",
      "text/plain": [
       "<matplotlib.figure.Figure at 0x2276bbd9898>"
      ]
     },
     "metadata": {
      "image/png": {
       "height": 607,
       "width": 642
      }
     },
     "output_type": "display_data"
    },
    {
     "name": "stdout",
     "output_type": "stream",
     "text": [
      "Size of the dataset in T:  894884\n",
      "Statistics of T, Mean:272, Median:240, Max:5760\n"
     ]
    }
   ],
   "source": [
    "#############################################################################################################################\n",
    "# Question 1 : Plot and comment the histogram of durations in your entire dataset.\n",
    "############################################################################################################################# \n",
    "\n",
    "fig = plt.figure(figsize=(10,10))\n",
    "plt.hist(sum_T)\n",
    "plt.title('Histogram plot of duration T of complete dataset')\n",
    "plt.xlabel('Duration')\n",
    "plt.ylabel('frequncy of duration')\n",
    "plt.show()\n",
    "print ('Size of the dataset in T: ', len(sum_T))\n",
    "print('Statistics of T, Mean:{:.0f}, Median:{:.0f}, Max:{:.0f}'.format( np.mean(sum_T), np.median(sum_T), np.max(sum_T)))\n"
   ]
  },
  {
   "cell_type": "markdown",
   "metadata": {},
   "source": [
    "# Comment the histogram of durations in your entire dataset: \n",
    "We can say that nearly all the data are between 0 and 2000. Also, as we can see from the dataset that mean and median are close to duration 250. And the maximum of possible T is around 6240.   \n",
    "\n",
    "We thus remove the rare duration events from the dataset by thresholding\n"
   ]
  },
  {
   "cell_type": "code",
   "execution_count": 7,
   "metadata": {},
   "outputs": [
    {
     "name": "stdout",
     "output_type": "stream",
     "text": [
      "Histogram of T_dictionary : \n",
      " [    20     82      4      1      4  12613   2562      8      2     68\n",
      "  49295     10     20      3    272  66416      1    640     10      2\n",
      "      1     21      1    510 609756     17     10    210  29563      2\n",
      "     82   1247     26      1      6    633  92091     30     54      3\n",
      "    128    158  18708    461     56      1     80   6429      2      8\n",
      "      7     26    446     34      1     25   1403     44      4      4\n",
      "    233      4      1     46      2    161     12      1      1     65\n",
      "     10     18      4      1      1      1      1]\n",
      "4398 4634 0.9490720759602935\n",
      "\n",
      " The percentage of melodies that are dicarded:  5.092792403970647 %\n"
     ]
    }
   ],
   "source": [
    "#############################################################################################################################\n",
    "# Question 2 : Remove from your dataset melodies containing very rare durations + Adjust the rejection threshold such that at most 5% of the melodies are dicarded.\n",
    "############################################################################################################################# \n",
    "\n",
    "nb_repetition = np.zeros(len(T_dictionary), dtype=np.int32)\n",
    "for label in list(dataset.keys()):\n",
    "    for t in dataset[label]['T']:\n",
    "        index = np.where(t == T_dictionary)[0]\n",
    "        nb_repetition[index] += 1\n",
    "    \n",
    "print ('Histogram of T_dictionary : \\n', nb_repetition)\n",
    "\n",
    "\n",
    "        \n",
    "usual_events={}\n",
    "threshold = 160\n",
    "for label in list(dataset.keys()):\n",
    "    stay=True\n",
    "    for t in dataset[label]['T']:\n",
    "        #print(t)\n",
    "        n = np.where(t == T_dictionary)[0]\n",
    "        if(nb_repetition[n] < threshold):\n",
    "            stay=False\n",
    "            break\n",
    "    if stay==True : \n",
    "        usual_events[label] = {\"T\":[], \"P\": []}\n",
    "        usual_events[label]['T'] = dataset[label]['T'];\n",
    "        usual_events[label]['P'] = dataset[label]['P'];\n",
    "        #print(\"enters\")\n",
    "\n",
    "        \n",
    "    #break   \n",
    "\n",
    "discarded = float(len(usual_events.keys()))/float(len(dataset.keys()))\n",
    "print(len(usual_events.keys()), len(dataset.keys()), discarded)\n",
    "print('\\n The percentage of melodies that are dicarded: ', (1-discarded)*100,'%')"
   ]
  },
  {
   "cell_type": "code",
   "execution_count": 8,
   "metadata": {},
   "outputs": [
    {
     "data": {
      "image/png": "[encoded data removed]",
      "text/plain": [
       "<matplotlib.figure.Figure at 0x2276a9fddd8>"
      ]
     },
     "metadata": {
      "image/png": {
       "height": 607,
       "width": 678
      }
     },
     "output_type": "display_data"
    },
    {
     "name": "stdout",
     "output_type": "stream",
     "text": [
      "Size of the data_set :  847044\n"
     ]
    }
   ],
   "source": [
    "#############################################################################################################################\n",
    "# Question 3 : Recompute the duration dictionary based on your filtered dataset and plot the new histogram of durations.\n",
    "############################################################################################################################# \n",
    "\n",
    "########## Recompute the duration dictionary based on your filtered dataset ##########\n",
    "sum_T_filtered, sum_P_filtered  = list(), list()\n",
    "for label in list(usual_events.keys()):\n",
    "    # We gather in list of all possible durations in our dataset\n",
    "    for t in usual_events[label]['T']:\n",
    "        sum_T_filtered.append(t)\n",
    "    for p in usual_events[label]['P']:\n",
    "        sum_P_filtered.append(p)\n",
    "T_dictionary_filtered = (np.unique(sum_T_filtered)) # np.unique returns the sorted unique elements of an array \n",
    "P_dictionary_filtered = (np.unique(sum_P_filtered)) # np.unique returns the sorted unique elements of an array \n",
    "\n",
    "\n",
    "########## Recompute the histogram of durations dictionary based on your filtered dataset ##########      \n",
    "fig = plt.figure(figsize=(10,10))\n",
    "plt.hist(sum_T_filtered)\n",
    "plt.title('Histogram of the number of repetition in funtion of the duration with our filtered data_set')\n",
    "plt.xlabel('Duration')\n",
    "plt.ylabel('Number of repetition of same duration')\n",
    "plt.show()\n",
    "print ('Size of the data_set : ', len(sum_T_filtered))"
   ]
  },
  {
   "cell_type": "markdown",
   "metadata": {},
   "source": [
    "#### Transposition invariance"
   ]
  },
  {
   "cell_type": "code",
   "execution_count": null,
   "metadata": {
    "scrolled": true
   },
   "outputs": [],
   "source": [
    "def transposeDataset(dataset):\n",
    "    transposed_dataset = {}\n",
    "\n",
    "    for label in tqdm.tqdm(list(dataset.keys())):\n",
    "        transposed_dataset[label] = {}\n",
    "        print (label)\n",
    "        score = music21.converter.parse(datapath+label+\".mid\")\n",
    "        key = score.analyze('key')\n",
    "        if key.mode == \"major\":\n",
    "            i = music21.interval.Interval(key.tonic, music21.pitch.Pitch('C'))\n",
    "        elif key.mode == \"minor\":\n",
    "            i = music21.interval.Interval(key.tonic, music21.pitch.Pitch('A'))\n",
    "        i = i.semitones\n",
    "        transposed_dataset[label]['P'] = [p+i for p in dataset[label]['P']]\n",
    "        transposed_dataset[label]['T'] = dataset[label]['T']\n",
    "        \n",
    "    return transposed_dataset"
   ]
  },
  {
   "cell_type": "markdown",
   "metadata": {},
   "source": [
    "#### Pitch normalization"
   ]
  },
  {
   "cell_type": "code",
   "execution_count": null,
   "metadata": {},
   "outputs": [
    {
     "name": "stderr",
     "output_type": "stream",
     "text": [
      "\r",
      "  0%|                                                                                         | 0/4398 [00:00<?, ?it/s]"
     ]
    },
    {
     "name": "stdout",
     "output_type": "stream",
     "text": [
      "sessiontune10003\n"
     ]
    },
    {
     "name": "stderr",
     "output_type": "stream",
     "text": [
      "\r",
      "  0%|                                                                                 | 1/4398 [00:00<11:59,  6.11it/s]"
     ]
    },
    {
     "name": "stdout",
     "output_type": "stream",
     "text": [
      "sessiontune10006\n"
     ]
    },
    {
     "name": "stderr",
     "output_type": "stream",
     "text": [
      "\r",
      "  0%|                                                                                 | 2/4398 [00:00<15:49,  4.63it/s]"
     ]
    },
    {
     "name": "stdout",
     "output_type": "stream",
     "text": [
      "sessiontune10019\n"
     ]
    },
    {
     "name": "stderr",
     "output_type": "stream",
     "text": [
      "\r",
      "  0%|                                                                                 | 3/4398 [00:00<19:25,  3.77it/s]"
     ]
    },
    {
     "name": "stdout",
     "output_type": "stream",
     "text": [
      "sessiontune10023\n"
     ]
    },
    {
     "name": "stderr",
     "output_type": "stream",
     "text": [
      "\r",
      "  0%|                                                                                 | 4/4398 [00:01<18:26,  3.97it/s]"
     ]
    },
    {
     "name": "stdout",
     "output_type": "stream",
     "text": [
      "sessiontune10033\n"
     ]
    },
    {
     "name": "stderr",
     "output_type": "stream",
     "text": [
      "\r",
      "  0%|                                                                                 | 5/4398 [00:01<17:52,  4.09it/s]"
     ]
    },
    {
     "name": "stdout",
     "output_type": "stream",
     "text": [
      "sessiontune10037\n"
     ]
    },
    {
     "name": "stderr",
     "output_type": "stream",
     "text": [
      "\r",
      "  0%|                                                                                 | 6/4398 [00:01<16:54,  4.33it/s]"
     ]
    },
    {
     "name": "stdout",
     "output_type": "stream",
     "text": [
      "sessiontune10050\n"
     ]
    },
    {
     "name": "stderr",
     "output_type": "stream",
     "text": [
      "\r",
      "  0%|▏                                                                                | 7/4398 [00:01<15:42,  4.66it/s]"
     ]
    },
    {
     "name": "stdout",
     "output_type": "stream",
     "text": [
      "sessiontune10060\n",
      "sessiontune10063\n"
     ]
    },
    {
     "name": "stderr",
     "output_type": "stream",
     "text": [
      "\r",
      "  0%|▏                                                                                | 9/4398 [00:01<16:00,  4.57it/s]"
     ]
    },
    {
     "name": "stdout",
     "output_type": "stream",
     "text": [
      "sessiontune1007\n"
     ]
    },
    {
     "name": "stderr",
     "output_type": "stream",
     "text": [
      "\r",
      "  0%|▏                                                                               | 10/4398 [00:02<15:31,  4.71it/s]"
     ]
    },
    {
     "name": "stdout",
     "output_type": "stream",
     "text": [
      "sessiontune10072\n",
      "sessiontune10088\n"
     ]
    },
    {
     "name": "stderr",
     "output_type": "stream",
     "text": [
      "\r",
      "  0%|▏                                                                               | 12/4398 [00:02<14:19,  5.10it/s]"
     ]
    },
    {
     "name": "stdout",
     "output_type": "stream",
     "text": [
      "sessiontune10104\n"
     ]
    },
    {
     "name": "stderr",
     "output_type": "stream",
     "text": [
      "\r",
      "  0%|▏                                                                               | 13/4398 [00:02<14:10,  5.15it/s]"
     ]
    },
    {
     "name": "stdout",
     "output_type": "stream",
     "text": [
      "sessiontune10116\n"
     ]
    },
    {
     "name": "stderr",
     "output_type": "stream",
     "text": [
      "\r",
      "  0%|▎                                                                               | 14/4398 [00:02<14:47,  4.94it/s]"
     ]
    },
    {
     "name": "stdout",
     "output_type": "stream",
     "text": [
      "sessiontune10135\n"
     ]
    },
    {
     "name": "stderr",
     "output_type": "stream",
     "text": [
      "\r",
      "  0%|▎                                                                               | 15/4398 [00:03<14:41,  4.97it/s]"
     ]
    },
    {
     "name": "stdout",
     "output_type": "stream",
     "text": [
      "sessiontune10159\n"
     ]
    },
    {
     "name": "stderr",
     "output_type": "stream",
     "text": [
      "\r",
      "  0%|▎                                                                               | 16/4398 [00:03<14:43,  4.96it/s]"
     ]
    },
    {
     "name": "stdout",
     "output_type": "stream",
     "text": [
      "sessiontune10176\n"
     ]
    },
    {
     "name": "stderr",
     "output_type": "stream",
     "text": [
      "\r",
      "  0%|▎                                                                               | 17/4398 [00:03<14:22,  5.08it/s]"
     ]
    },
    {
     "name": "stdout",
     "output_type": "stream",
     "text": [
      "sessiontune10197\n"
     ]
    },
    {
     "name": "stderr",
     "output_type": "stream",
     "text": [
      "\r",
      "  0%|▎                                                                               | 18/4398 [00:03<14:21,  5.09it/s]"
     ]
    },
    {
     "name": "stdout",
     "output_type": "stream",
     "text": [
      "sessiontune10198\n"
     ]
    },
    {
     "name": "stderr",
     "output_type": "stream",
     "text": [
      "\r",
      "  0%|▎                                                                               | 19/4398 [00:03<14:56,  4.89it/s]"
     ]
    },
    {
     "name": "stdout",
     "output_type": "stream",
     "text": [
      "sessiontune10208\n"
     ]
    },
    {
     "name": "stderr",
     "output_type": "stream",
     "text": [
      "\r",
      "  0%|▎                                                                               | 20/4398 [00:04<14:44,  4.95it/s]"
     ]
    },
    {
     "name": "stdout",
     "output_type": "stream",
     "text": [
      "sessiontune10218\n",
      "sessiontune10226\n"
     ]
    },
    {
     "name": "stderr",
     "output_type": "stream",
     "text": [
      "\r",
      "  1%|▍                                                                               | 22/4398 [00:04<14:11,  5.14it/s]"
     ]
    },
    {
     "name": "stdout",
     "output_type": "stream",
     "text": [
      "sessiontune10242\n"
     ]
    },
    {
     "name": "stderr",
     "output_type": "stream",
     "text": [
      "\r",
      "  1%|▍                                                                               | 23/4398 [00:04<14:07,  5.16it/s]"
     ]
    },
    {
     "name": "stdout",
     "output_type": "stream",
     "text": [
      "sessiontune10248\n"
     ]
    },
    {
     "name": "stderr",
     "output_type": "stream",
     "text": [
      "\r",
      "  1%|▍                                                                               | 24/4398 [00:04<14:37,  4.98it/s]"
     ]
    },
    {
     "name": "stdout",
     "output_type": "stream",
     "text": [
      "sessiontune1025\n",
      "sessiontune10252\n"
     ]
    },
    {
     "name": "stderr",
     "output_type": "stream",
     "text": [
      "\r",
      "  1%|▍                                                                               | 26/4398 [00:05<14:12,  5.13it/s]"
     ]
    },
    {
     "name": "stdout",
     "output_type": "stream",
     "text": [
      "sessiontune10259\n"
     ]
    },
    {
     "name": "stderr",
     "output_type": "stream",
     "text": [
      "\r",
      "  1%|▍                                                                               | 27/4398 [00:05<14:08,  5.15it/s]"
     ]
    },
    {
     "name": "stdout",
     "output_type": "stream",
     "text": [
      "sessiontune10267\n"
     ]
    },
    {
     "name": "stderr",
     "output_type": "stream",
     "text": [
      "\r",
      "  1%|▌                                                                               | 28/4398 [00:05<14:26,  5.04it/s]"
     ]
    },
    {
     "name": "stdout",
     "output_type": "stream",
     "text": [
      "sessiontune10272\n"
     ]
    },
    {
     "name": "stderr",
     "output_type": "stream",
     "text": [
      "\r",
      "  1%|▌                                                                               | 29/4398 [00:05<14:41,  4.96it/s]"
     ]
    },
    {
     "name": "stdout",
     "output_type": "stream",
     "text": [
      "sessiontune10273\n"
     ]
    },
    {
     "name": "stderr",
     "output_type": "stream",
     "text": [
      "\r",
      "  1%|▌                                                                               | 30/4398 [00:06<14:41,  4.95it/s]"
     ]
    },
    {
     "name": "stdout",
     "output_type": "stream",
     "text": [
      "sessiontune10304\n"
     ]
    },
    {
     "name": "stderr",
     "output_type": "stream",
     "text": [
      "\r",
      "  1%|▌                                                                               | 31/4398 [00:06<14:43,  4.94it/s]"
     ]
    },
    {
     "name": "stdout",
     "output_type": "stream",
     "text": [
      "sessiontune10308\n"
     ]
    },
    {
     "name": "stderr",
     "output_type": "stream",
     "text": [
      "\r",
      "  1%|▌                                                                               | 32/4398 [00:06<14:42,  4.95it/s]"
     ]
    },
    {
     "name": "stdout",
     "output_type": "stream",
     "text": [
      "sessiontune10327\n"
     ]
    },
    {
     "name": "stderr",
     "output_type": "stream",
     "text": [
      "\r",
      "  1%|▌                                                                               | 33/4398 [00:06<15:00,  4.85it/s]"
     ]
    },
    {
     "name": "stdout",
     "output_type": "stream",
     "text": [
      "sessiontune1033\n"
     ]
    },
    {
     "name": "stderr",
     "output_type": "stream",
     "text": [
      "\r",
      "  1%|▌                                                                               | 34/4398 [00:06<14:52,  4.89it/s]"
     ]
    },
    {
     "name": "stdout",
     "output_type": "stream",
     "text": [
      "sessiontune10340\n"
     ]
    },
    {
     "name": "stderr",
     "output_type": "stream",
     "text": [
      "\r",
      "  1%|▋                                                                               | 35/4398 [00:07<15:01,  4.84it/s]"
     ]
    },
    {
     "name": "stdout",
     "output_type": "stream",
     "text": [
      "sessiontune10348\n"
     ]
    },
    {
     "name": "stderr",
     "output_type": "stream",
     "text": [
      "\r",
      "  1%|▋                                                                               | 36/4398 [00:07<15:01,  4.84it/s]"
     ]
    },
    {
     "name": "stdout",
     "output_type": "stream",
     "text": [
      "sessiontune10353\n"
     ]
    },
    {
     "name": "stderr",
     "output_type": "stream",
     "text": [
      "\r",
      "  1%|▋                                                                               | 37/4398 [00:07<15:35,  4.66it/s]"
     ]
    },
    {
     "name": "stdout",
     "output_type": "stream",
     "text": [
      "sessiontune10360\n"
     ]
    },
    {
     "name": "stderr",
     "output_type": "stream",
     "text": [
      "\r",
      "  1%|▋                                                                               | 38/4398 [00:08<15:40,  4.64it/s]"
     ]
    },
    {
     "name": "stdout",
     "output_type": "stream",
     "text": [
      "sessiontune10361\n"
     ]
    },
    {
     "name": "stderr",
     "output_type": "stream",
     "text": [
      "\r",
      "  1%|▋                                                                               | 39/4398 [00:08<15:54,  4.57it/s]"
     ]
    },
    {
     "name": "stdout",
     "output_type": "stream",
     "text": [
      "sessiontune10362\n"
     ]
    },
    {
     "name": "stderr",
     "output_type": "stream",
     "text": [
      "\r",
      "  1%|▋                                                                               | 40/4398 [00:08<16:11,  4.48it/s]"
     ]
    },
    {
     "name": "stdout",
     "output_type": "stream",
     "text": [
      "sessiontune10368\n"
     ]
    },
    {
     "name": "stderr",
     "output_type": "stream",
     "text": [
      "\r",
      "  1%|▋                                                                               | 41/4398 [00:09<16:05,  4.51it/s]"
     ]
    },
    {
     "name": "stdout",
     "output_type": "stream",
     "text": [
      "sessiontune10371\n"
     ]
    },
    {
     "name": "stderr",
     "output_type": "stream",
     "text": [
      "\r",
      "  1%|▊                                                                               | 42/4398 [00:09<16:27,  4.41it/s]"
     ]
    },
    {
     "name": "stdout",
     "output_type": "stream",
     "text": [
      "sessiontune10384\n"
     ]
    },
    {
     "name": "stderr",
     "output_type": "stream",
     "text": [
      "\r",
      "  1%|▊                                                                               | 43/4398 [00:09<16:22,  4.43it/s]"
     ]
    },
    {
     "name": "stdout",
     "output_type": "stream",
     "text": [
      "sessiontune10402\n"
     ]
    },
    {
     "name": "stderr",
     "output_type": "stream",
     "text": [
      "\r",
      "  1%|▊                                                                               | 44/4398 [00:09<16:13,  4.47it/s]"
     ]
    },
    {
     "name": "stdout",
     "output_type": "stream",
     "text": [
      "sessiontune10418\n"
     ]
    },
    {
     "name": "stderr",
     "output_type": "stream",
     "text": [
      "\r",
      "  1%|▊                                                                               | 45/4398 [00:09<16:03,  4.52it/s]"
     ]
    },
    {
     "name": "stdout",
     "output_type": "stream",
     "text": [
      "sessiontune10476\n"
     ]
    },
    {
     "name": "stderr",
     "output_type": "stream",
     "text": [
      "\r",
      "  1%|▊                                                                               | 46/4398 [00:10<15:54,  4.56it/s]"
     ]
    },
    {
     "name": "stdout",
     "output_type": "stream",
     "text": [
      "sessiontune10488\n"
     ]
    },
    {
     "name": "stderr",
     "output_type": "stream",
     "text": [
      "\r",
      "  1%|▊                                                                               | 47/4398 [00:10<15:52,  4.57it/s]"
     ]
    },
    {
     "name": "stdout",
     "output_type": "stream",
     "text": [
      "sessiontune10491\n"
     ]
    },
    {
     "name": "stderr",
     "output_type": "stream",
     "text": [
      "\r",
      "  1%|▊                                                                               | 48/4398 [00:10<16:34,  4.37it/s]"
     ]
    },
    {
     "name": "stdout",
     "output_type": "stream",
     "text": [
      "sessiontune10498\n"
     ]
    },
    {
     "name": "stderr",
     "output_type": "stream",
     "text": [
      "\r",
      "  1%|▉                                                                               | 49/4398 [00:11<16:37,  4.36it/s]"
     ]
    },
    {
     "name": "stdout",
     "output_type": "stream",
     "text": [
      "sessiontune10534\n"
     ]
    },
    {
     "name": "stderr",
     "output_type": "stream",
     "text": [
      "\r",
      "  1%|▉                                                                               | 50/4398 [00:11<16:33,  4.38it/s]"
     ]
    },
    {
     "name": "stdout",
     "output_type": "stream",
     "text": [
      "sessiontune10537\n"
     ]
    },
    {
     "name": "stderr",
     "output_type": "stream",
     "text": [
      "\r",
      "  1%|▉                                                                               | 51/4398 [00:11<16:23,  4.42it/s]"
     ]
    },
    {
     "name": "stdout",
     "output_type": "stream",
     "text": [
      "sessiontune10562\n"
     ]
    },
    {
     "name": "stderr",
     "output_type": "stream",
     "text": [
      "\r",
      "  1%|▉                                                                               | 52/4398 [00:11<16:16,  4.45it/s]"
     ]
    },
    {
     "name": "stdout",
     "output_type": "stream",
     "text": [
      "sessiontune10563\n"
     ]
    },
    {
     "name": "stderr",
     "output_type": "stream",
     "text": [
      "\r",
      "  1%|▉                                                                               | 53/4398 [00:12<16:29,  4.39it/s]"
     ]
    },
    {
     "name": "stdout",
     "output_type": "stream",
     "text": [
      "sessiontune10567\n"
     ]
    },
    {
     "name": "stderr",
     "output_type": "stream",
     "text": [
      "\r",
      "  1%|▉                                                                               | 54/4398 [00:12<16:29,  4.39it/s]"
     ]
    },
    {
     "name": "stdout",
     "output_type": "stream",
     "text": [
      "sessiontune10580\n"
     ]
    },
    {
     "name": "stderr",
     "output_type": "stream",
     "text": [
      "\r",
      "  1%|█                                                                               | 55/4398 [00:12<16:25,  4.41it/s]"
     ]
    },
    {
     "name": "stdout",
     "output_type": "stream",
     "text": [
      "sessiontune10582\n",
      "sessiontune10588\n"
     ]
    },
    {
     "name": "stderr",
     "output_type": "stream",
     "text": [
      "\r",
      "  1%|█                                                                               | 57/4398 [00:12<16:14,  4.45it/s]"
     ]
    },
    {
     "name": "stdout",
     "output_type": "stream",
     "text": [
      "sessiontune10599\n",
      "sessiontune10609\n"
     ]
    },
    {
     "name": "stderr",
     "output_type": "stream",
     "text": [
      "\r",
      "  1%|█                                                                               | 59/4398 [00:13<16:22,  4.42it/s]"
     ]
    },
    {
     "name": "stdout",
     "output_type": "stream",
     "text": [
      "sessiontune10615\n"
     ]
    },
    {
     "name": "stderr",
     "output_type": "stream",
     "text": [
      "\r",
      "  1%|█                                                                               | 60/4398 [00:13<16:19,  4.43it/s]"
     ]
    },
    {
     "name": "stdout",
     "output_type": "stream",
     "text": [
      "sessiontune10626\n"
     ]
    },
    {
     "name": "stderr",
     "output_type": "stream",
     "text": [
      "\r",
      "  1%|█                                                                               | 61/4398 [00:13<16:22,  4.42it/s]"
     ]
    },
    {
     "name": "stdout",
     "output_type": "stream",
     "text": [
      "sessiontune10639\n"
     ]
    },
    {
     "name": "stderr",
     "output_type": "stream",
     "text": [
      "\r",
      "  1%|█▏                                                                              | 62/4398 [00:13<16:18,  4.43it/s]"
     ]
    },
    {
     "name": "stdout",
     "output_type": "stream",
     "text": [
      "sessiontune10654\n"
     ]
    },
    {
     "name": "stderr",
     "output_type": "stream",
     "text": [
      "\r",
      "  1%|█▏                                                                              | 63/4398 [00:14<16:30,  4.38it/s]"
     ]
    },
    {
     "name": "stdout",
     "output_type": "stream",
     "text": [
      "sessiontune10661\n",
      "sessiontune10675\n"
     ]
    },
    {
     "name": "stderr",
     "output_type": "stream",
     "text": [
      "\r",
      "  1%|█▏                                                                              | 65/4398 [00:14<16:18,  4.43it/s]"
     ]
    },
    {
     "name": "stdout",
     "output_type": "stream",
     "text": [
      "sessiontune10679\n"
     ]
    },
    {
     "name": "stderr",
     "output_type": "stream",
     "text": [
      "\r",
      "  2%|█▏                                                                              | 66/4398 [00:14<16:19,  4.42it/s]"
     ]
    },
    {
     "name": "stdout",
     "output_type": "stream",
     "text": [
      "sessiontune1069\n"
     ]
    },
    {
     "name": "stderr",
     "output_type": "stream",
     "text": [
      "\r",
      "  2%|█▏                                                                              | 67/4398 [00:15<16:19,  4.42it/s]"
     ]
    },
    {
     "name": "stdout",
     "output_type": "stream",
     "text": [
      "sessiontune10695\n"
     ]
    },
    {
     "name": "stderr",
     "output_type": "stream",
     "text": [
      "\r",
      "  2%|█▏                                                                              | 68/4398 [00:15<16:32,  4.36it/s]"
     ]
    },
    {
     "name": "stdout",
     "output_type": "stream",
     "text": [
      "sessiontune10696\n"
     ]
    },
    {
     "name": "stderr",
     "output_type": "stream",
     "text": [
      "\r",
      "  2%|█▎                                                                              | 69/4398 [00:15<16:36,  4.35it/s]"
     ]
    },
    {
     "name": "stdout",
     "output_type": "stream",
     "text": [
      "sessiontune10701\n"
     ]
    },
    {
     "name": "stderr",
     "output_type": "stream",
     "text": [
      "\r",
      "  2%|█▎                                                                              | 70/4398 [00:16<16:38,  4.34it/s]"
     ]
    },
    {
     "name": "stdout",
     "output_type": "stream",
     "text": [
      "sessiontune10705\n"
     ]
    },
    {
     "name": "stderr",
     "output_type": "stream",
     "text": [
      "\r",
      "  2%|█▎                                                                              | 71/4398 [00:16<16:41,  4.32it/s]"
     ]
    },
    {
     "name": "stdout",
     "output_type": "stream",
     "text": [
      "sessiontune10720\n"
     ]
    },
    {
     "name": "stderr",
     "output_type": "stream",
     "text": [
      "\r",
      "  2%|█▎                                                                              | 72/4398 [00:16<16:39,  4.33it/s]"
     ]
    },
    {
     "name": "stdout",
     "output_type": "stream",
     "text": [
      "sessiontune10723\n"
     ]
    },
    {
     "name": "stderr",
     "output_type": "stream",
     "text": [
      "\r",
      "  2%|█▎                                                                              | 73/4398 [00:17<16:49,  4.28it/s]"
     ]
    },
    {
     "name": "stdout",
     "output_type": "stream",
     "text": [
      "sessiontune10763\n",
      "sessiontune10781\n"
     ]
    },
    {
     "name": "stderr",
     "output_type": "stream",
     "text": [
      "\r",
      "  2%|█▎                                                                              | 75/4398 [00:17<16:43,  4.31it/s]"
     ]
    },
    {
     "name": "stdout",
     "output_type": "stream",
     "text": [
      "sessiontune10786\n",
      "sessiontune10795\n"
     ]
    },
    {
     "name": "stderr",
     "output_type": "stream",
     "text": [
      "\r",
      "  2%|█▍                                                                              | 77/4398 [00:17<16:28,  4.37it/s]"
     ]
    },
    {
     "name": "stdout",
     "output_type": "stream",
     "text": [
      "sessiontune10797\n"
     ]
    },
    {
     "name": "stderr",
     "output_type": "stream",
     "text": [
      "\r",
      "  2%|█▍                                                                              | 78/4398 [00:17<16:23,  4.39it/s]"
     ]
    },
    {
     "name": "stdout",
     "output_type": "stream",
     "text": [
      "sessiontune10808\n"
     ]
    },
    {
     "name": "stderr",
     "output_type": "stream",
     "text": [
      "\r",
      "  2%|█▍                                                                              | 79/4398 [00:18<16:37,  4.33it/s]"
     ]
    },
    {
     "name": "stdout",
     "output_type": "stream",
     "text": [
      "sessiontune10826\n"
     ]
    },
    {
     "name": "stderr",
     "output_type": "stream",
     "text": [
      "\r",
      "  2%|█▍                                                                              | 80/4398 [00:18<16:34,  4.34it/s]"
     ]
    },
    {
     "name": "stdout",
     "output_type": "stream",
     "text": [
      "sessiontune10827\n"
     ]
    },
    {
     "name": "stderr",
     "output_type": "stream",
     "text": [
      "\r",
      "  2%|█▍                                                                              | 81/4398 [00:18<16:31,  4.36it/s]"
     ]
    },
    {
     "name": "stdout",
     "output_type": "stream",
     "text": [
      "sessiontune10851\n"
     ]
    },
    {
     "name": "stderr",
     "output_type": "stream",
     "text": [
      "\r",
      "  2%|█▍                                                                              | 82/4398 [00:19<16:40,  4.31it/s]"
     ]
    },
    {
     "name": "stdout",
     "output_type": "stream",
     "text": [
      "sessiontune10853\n"
     ]
    },
    {
     "name": "stderr",
     "output_type": "stream",
     "text": [
      "\r",
      "  2%|█▌                                                                              | 83/4398 [00:19<16:46,  4.29it/s]"
     ]
    },
    {
     "name": "stdout",
     "output_type": "stream",
     "text": [
      "sessiontune10876\n"
     ]
    },
    {
     "name": "stderr",
     "output_type": "stream",
     "text": [
      "\r",
      "  2%|█▌                                                                              | 84/4398 [00:19<16:43,  4.30it/s]"
     ]
    },
    {
     "name": "stdout",
     "output_type": "stream",
     "text": [
      "sessiontune10879\n",
      "sessiontune10880\n"
     ]
    },
    {
     "name": "stderr",
     "output_type": "stream",
     "text": [
      "\r",
      "  2%|█▌                                                                              | 86/4398 [00:19<16:31,  4.35it/s]"
     ]
    },
    {
     "name": "stdout",
     "output_type": "stream",
     "text": [
      "sessiontune10894\n"
     ]
    },
    {
     "name": "stderr",
     "output_type": "stream",
     "text": [
      "\r",
      "  2%|█▌                                                                              | 87/4398 [00:19<16:30,  4.35it/s]"
     ]
    },
    {
     "name": "stdout",
     "output_type": "stream",
     "text": [
      "sessiontune10905\n"
     ]
    },
    {
     "name": "stderr",
     "output_type": "stream",
     "text": [
      "\r",
      "  2%|█▌                                                                              | 88/4398 [00:20<16:26,  4.37it/s]"
     ]
    },
    {
     "name": "stdout",
     "output_type": "stream",
     "text": [
      "sessiontune10918\n"
     ]
    },
    {
     "name": "stderr",
     "output_type": "stream",
     "text": [
      "\r",
      "  2%|█▌                                                                              | 89/4398 [00:20<16:32,  4.34it/s]"
     ]
    },
    {
     "name": "stdout",
     "output_type": "stream",
     "text": [
      "sessiontune10962\n"
     ]
    },
    {
     "name": "stderr",
     "output_type": "stream",
     "text": [
      "\r",
      "  2%|█▋                                                                              | 90/4398 [00:20<16:27,  4.36it/s]"
     ]
    },
    {
     "name": "stdout",
     "output_type": "stream",
     "text": [
      "sessiontune10965\n"
     ]
    },
    {
     "name": "stderr",
     "output_type": "stream",
     "text": [
      "\r",
      "  2%|█▋                                                                              | 91/4398 [00:20<16:26,  4.37it/s]"
     ]
    },
    {
     "name": "stdout",
     "output_type": "stream",
     "text": [
      "sessiontune110\n"
     ]
    },
    {
     "name": "stderr",
     "output_type": "stream",
     "text": [
      "\r",
      "  2%|█▋                                                                              | 92/4398 [00:20<16:20,  4.39it/s]"
     ]
    },
    {
     "name": "stdout",
     "output_type": "stream",
     "text": [
      "sessiontune11002\n"
     ]
    },
    {
     "name": "stderr",
     "output_type": "stream",
     "text": [
      "\r",
      "  2%|█▋                                                                              | 93/4398 [00:21<16:17,  4.41it/s]"
     ]
    },
    {
     "name": "stdout",
     "output_type": "stream",
     "text": [
      "sessiontune11015\n"
     ]
    },
    {
     "name": "stderr",
     "output_type": "stream",
     "text": [
      "\r",
      "  2%|█▋                                                                              | 94/4398 [00:21<16:21,  4.38it/s]"
     ]
    },
    {
     "name": "stdout",
     "output_type": "stream",
     "text": [
      "sessiontune11016\n"
     ]
    },
    {
     "name": "stderr",
     "output_type": "stream",
     "text": [
      "\r",
      "  2%|█▋                                                                              | 95/4398 [00:21<16:29,  4.35it/s]"
     ]
    },
    {
     "name": "stdout",
     "output_type": "stream",
     "text": [
      "sessiontune11030\n"
     ]
    },
    {
     "name": "stderr",
     "output_type": "stream",
     "text": [
      "\r",
      "  2%|█▋                                                                              | 96/4398 [00:22<16:26,  4.36it/s]"
     ]
    },
    {
     "name": "stdout",
     "output_type": "stream",
     "text": [
      "sessiontune11037\n"
     ]
    },
    {
     "name": "stderr",
     "output_type": "stream",
     "text": [
      "\r",
      "  2%|█▊                                                                              | 97/4398 [00:22<16:27,  4.35it/s]"
     ]
    },
    {
     "name": "stdout",
     "output_type": "stream",
     "text": [
      "sessiontune11048\n"
     ]
    },
    {
     "name": "stderr",
     "output_type": "stream",
     "text": [
      "\r",
      "  2%|█▊                                                                              | 98/4398 [00:22<16:32,  4.33it/s]"
     ]
    },
    {
     "name": "stdout",
     "output_type": "stream",
     "text": [
      "sessiontune11055\n"
     ]
    },
    {
     "name": "stderr",
     "output_type": "stream",
     "text": [
      "\r",
      "  2%|█▊                                                                              | 99/4398 [00:22<16:31,  4.34it/s]"
     ]
    },
    {
     "name": "stdout",
     "output_type": "stream",
     "text": [
      "sessiontune11057\n"
     ]
    },
    {
     "name": "stderr",
     "output_type": "stream",
     "text": [
      "\r",
      "  2%|█▊                                                                             | 100/4398 [00:23<16:53,  4.24it/s]"
     ]
    },
    {
     "name": "stdout",
     "output_type": "stream",
     "text": [
      "sessiontune11064\n",
      "sessiontune11079\n"
     ]
    },
    {
     "name": "stderr",
     "output_type": "stream",
     "text": [
      "\r",
      "  2%|█▊                                                                             | 102/4398 [00:23<16:49,  4.25it/s]"
     ]
    },
    {
     "name": "stdout",
     "output_type": "stream",
     "text": [
      "sessiontune11096\n"
     ]
    },
    {
     "name": "stderr",
     "output_type": "stream",
     "text": [
      "\r",
      "  2%|█▊                                                                             | 103/4398 [00:24<16:47,  4.26it/s]"
     ]
    },
    {
     "name": "stdout",
     "output_type": "stream",
     "text": [
      "sessiontune11112\n",
      "sessiontune11154\n"
     ]
    },
    {
     "name": "stderr",
     "output_type": "stream",
     "text": [
      "\r",
      "  2%|█▉                                                                             | 105/4398 [00:24<16:53,  4.23it/s]"
     ]
    },
    {
     "name": "stdout",
     "output_type": "stream",
     "text": [
      "sessiontune1116\n"
     ]
    },
    {
     "name": "stderr",
     "output_type": "stream",
     "text": [
      "\r",
      "  2%|█▉                                                                             | 106/4398 [00:25<16:52,  4.24it/s]"
     ]
    },
    {
     "name": "stdout",
     "output_type": "stream",
     "text": [
      "sessiontune11166\n"
     ]
    },
    {
     "name": "stderr",
     "output_type": "stream",
     "text": [
      "\r",
      "  2%|█▉                                                                             | 107/4398 [00:25<16:50,  4.25it/s]"
     ]
    },
    {
     "name": "stdout",
     "output_type": "stream",
     "text": [
      "sessiontune11171\n"
     ]
    },
    {
     "name": "stderr",
     "output_type": "stream",
     "text": [
      "\r",
      "  2%|█▉                                                                             | 108/4398 [00:25<16:46,  4.26it/s]"
     ]
    },
    {
     "name": "stdout",
     "output_type": "stream",
     "text": [
      "sessiontune11177\n"
     ]
    },
    {
     "name": "stderr",
     "output_type": "stream",
     "text": [
      "\r",
      "  2%|█▉                                                                             | 109/4398 [00:25<16:44,  4.27it/s]"
     ]
    },
    {
     "name": "stdout",
     "output_type": "stream",
     "text": [
      "sessiontune11185\n"
     ]
    },
    {
     "name": "stderr",
     "output_type": "stream",
     "text": [
      "\r",
      "  3%|█▉                                                                             | 110/4398 [00:25<16:48,  4.25it/s]"
     ]
    },
    {
     "name": "stdout",
     "output_type": "stream",
     "text": [
      "sessiontune1119\n"
     ]
    },
    {
     "name": "stderr",
     "output_type": "stream",
     "text": [
      "\r",
      "  3%|█▉                                                                             | 111/4398 [00:26<16:47,  4.25it/s]"
     ]
    },
    {
     "name": "stdout",
     "output_type": "stream",
     "text": [
      "sessiontune11201\n"
     ]
    },
    {
     "name": "stderr",
     "output_type": "stream",
     "text": [
      "\r",
      "  3%|██                                                                             | 112/4398 [00:26<16:45,  4.26it/s]"
     ]
    },
    {
     "name": "stdout",
     "output_type": "stream",
     "text": [
      "sessiontune11212\n"
     ]
    },
    {
     "name": "stderr",
     "output_type": "stream",
     "text": [
      "\r",
      "  3%|██                                                                             | 113/4398 [00:27<17:19,  4.12it/s]"
     ]
    },
    {
     "name": "stdout",
     "output_type": "stream",
     "text": [
      "sessiontune11229\n"
     ]
    },
    {
     "name": "stderr",
     "output_type": "stream",
     "text": [
      "\r",
      "  3%|██                                                                             | 114/4398 [00:27<17:20,  4.12it/s]"
     ]
    },
    {
     "name": "stdout",
     "output_type": "stream",
     "text": [
      "sessiontune1123\n"
     ]
    },
    {
     "name": "stderr",
     "output_type": "stream",
     "text": [
      "\r",
      "  3%|██                                                                             | 115/4398 [00:27<17:19,  4.12it/s]"
     ]
    },
    {
     "name": "stdout",
     "output_type": "stream",
     "text": [
      "sessiontune11234\n"
     ]
    },
    {
     "name": "stderr",
     "output_type": "stream",
     "text": [
      "\r",
      "  3%|██                                                                             | 116/4398 [00:28<17:15,  4.13it/s]"
     ]
    },
    {
     "name": "stdout",
     "output_type": "stream",
     "text": [
      "sessiontune1124\n"
     ]
    },
    {
     "name": "stderr",
     "output_type": "stream",
     "text": [
      "\r",
      "  3%|██                                                                             | 117/4398 [00:28<17:13,  4.14it/s]"
     ]
    },
    {
     "name": "stdout",
     "output_type": "stream",
     "text": [
      "sessiontune11240\n"
     ]
    },
    {
     "name": "stderr",
     "output_type": "stream",
     "text": [
      "\r",
      "  3%|██                                                                             | 118/4398 [00:28<17:10,  4.15it/s]"
     ]
    },
    {
     "name": "stdout",
     "output_type": "stream",
     "text": [
      "sessiontune11243\n"
     ]
    },
    {
     "name": "stderr",
     "output_type": "stream",
     "text": [
      "\r",
      "  3%|██▏                                                                            | 119/4398 [00:28<17:05,  4.17it/s]"
     ]
    },
    {
     "name": "stdout",
     "output_type": "stream",
     "text": [
      "sessiontune11250\n"
     ]
    },
    {
     "name": "stderr",
     "output_type": "stream",
     "text": [
      "\r",
      "  3%|██▏                                                                            | 120/4398 [00:28<17:09,  4.16it/s]"
     ]
    },
    {
     "name": "stdout",
     "output_type": "stream",
     "text": [
      "sessiontune11264\n"
     ]
    },
    {
     "name": "stderr",
     "output_type": "stream",
     "text": [
      "\r",
      "  3%|██▏                                                                            | 121/4398 [00:29<17:11,  4.15it/s]"
     ]
    },
    {
     "name": "stdout",
     "output_type": "stream",
     "text": [
      "sessiontune11286\n"
     ]
    },
    {
     "name": "stderr",
     "output_type": "stream",
     "text": [
      "\r",
      "  3%|██▏                                                                            | 122/4398 [00:29<17:08,  4.16it/s]"
     ]
    },
    {
     "name": "stdout",
     "output_type": "stream",
     "text": [
      "sessiontune11293\n"
     ]
    },
    {
     "name": "stderr",
     "output_type": "stream",
     "text": [
      "\r",
      "  3%|██▏                                                                            | 123/4398 [00:29<17:05,  4.17it/s]"
     ]
    },
    {
     "name": "stdout",
     "output_type": "stream",
     "text": [
      "sessiontune11305\n"
     ]
    },
    {
     "name": "stderr",
     "output_type": "stream",
     "text": [
      "\r",
      "  3%|██▏                                                                            | 124/4398 [00:29<17:02,  4.18it/s]"
     ]
    },
    {
     "name": "stdout",
     "output_type": "stream",
     "text": [
      "sessiontune11316\n"
     ]
    },
    {
     "name": "stderr",
     "output_type": "stream",
     "text": [
      "\r",
      "  3%|██▏                                                                            | 125/4398 [00:30<17:07,  4.16it/s]"
     ]
    },
    {
     "name": "stdout",
     "output_type": "stream",
     "text": [
      "sessiontune11322\n"
     ]
    },
    {
     "name": "stderr",
     "output_type": "stream",
     "text": [
      "\r",
      "  3%|██▎                                                                            | 126/4398 [00:30<17:05,  4.17it/s]"
     ]
    },
    {
     "name": "stdout",
     "output_type": "stream",
     "text": [
      "sessiontune11323\n"
     ]
    },
    {
     "name": "stderr",
     "output_type": "stream",
     "text": [
      "\r",
      "  3%|██▎                                                                            | 127/4398 [00:30<17:07,  4.16it/s]"
     ]
    },
    {
     "name": "stdout",
     "output_type": "stream",
     "text": [
      "sessiontune11327\n",
      "sessiontune11337\n"
     ]
    },
    {
     "name": "stderr",
     "output_type": "stream",
     "text": [
      "\r",
      "  3%|██▎                                                                            | 129/4398 [00:30<17:01,  4.18it/s]"
     ]
    },
    {
     "name": "stdout",
     "output_type": "stream",
     "text": [
      "sessiontune1134\n"
     ]
    },
    {
     "name": "stderr",
     "output_type": "stream",
     "text": [
      "\r",
      "  3%|██▎                                                                            | 130/4398 [00:31<17:08,  4.15it/s]"
     ]
    },
    {
     "name": "stdout",
     "output_type": "stream",
     "text": [
      "sessiontune11369\n"
     ]
    },
    {
     "name": "stderr",
     "output_type": "stream",
     "text": [
      "\r",
      "  3%|██▎                                                                            | 131/4398 [00:31<17:04,  4.16it/s]"
     ]
    },
    {
     "name": "stdout",
     "output_type": "stream",
     "text": [
      "sessiontune11370\n"
     ]
    },
    {
     "name": "stderr",
     "output_type": "stream",
     "text": [
      "\r",
      "  3%|██▎                                                                            | 132/4398 [00:31<17:04,  4.17it/s]"
     ]
    },
    {
     "name": "stdout",
     "output_type": "stream",
     "text": [
      "sessiontune11377\n"
     ]
    },
    {
     "name": "stderr",
     "output_type": "stream",
     "text": [
      "\r",
      "  3%|██▍                                                                            | 133/4398 [00:31<17:03,  4.17it/s]"
     ]
    },
    {
     "name": "stdout",
     "output_type": "stream",
     "text": [
      "sessiontune1139\n"
     ]
    },
    {
     "name": "stderr",
     "output_type": "stream",
     "text": [
      "\r",
      "  3%|██▍                                                                            | 134/4398 [00:32<16:59,  4.18it/s]"
     ]
    },
    {
     "name": "stdout",
     "output_type": "stream",
     "text": [
      "sessiontune11391\n"
     ]
    },
    {
     "name": "stderr",
     "output_type": "stream",
     "text": [
      "\r",
      "  3%|██▍                                                                            | 135/4398 [00:32<17:06,  4.15it/s]"
     ]
    },
    {
     "name": "stdout",
     "output_type": "stream",
     "text": [
      "sessiontune11406\n"
     ]
    },
    {
     "name": "stderr",
     "output_type": "stream",
     "text": [
      "\r",
      "  3%|██▍                                                                            | 136/4398 [00:32<17:11,  4.13it/s]"
     ]
    },
    {
     "name": "stdout",
     "output_type": "stream",
     "text": [
      "sessiontune11408\n"
     ]
    },
    {
     "name": "stderr",
     "output_type": "stream",
     "text": [
      "\r",
      "  3%|██▍                                                                            | 137/4398 [00:33<17:07,  4.15it/s]"
     ]
    },
    {
     "name": "stdout",
     "output_type": "stream",
     "text": [
      "sessiontune11410\n"
     ]
    },
    {
     "name": "stderr",
     "output_type": "stream",
     "text": [
      "\r",
      "  3%|██▍                                                                            | 138/4398 [00:33<17:05,  4.16it/s]"
     ]
    },
    {
     "name": "stdout",
     "output_type": "stream",
     "text": [
      "sessiontune11461\n"
     ]
    },
    {
     "name": "stderr",
     "output_type": "stream",
     "text": [
      "\r",
      "  3%|██▍                                                                            | 139/4398 [00:33<17:02,  4.17it/s]"
     ]
    },
    {
     "name": "stdout",
     "output_type": "stream",
     "text": [
      "sessiontune11474\n"
     ]
    },
    {
     "name": "stderr",
     "output_type": "stream",
     "text": [
      "\r",
      "  3%|██▌                                                                            | 140/4398 [00:33<17:04,  4.16it/s]"
     ]
    },
    {
     "name": "stdout",
     "output_type": "stream",
     "text": [
      "sessiontune11477\n"
     ]
    },
    {
     "name": "stderr",
     "output_type": "stream",
     "text": [
      "\r",
      "  3%|██▌                                                                            | 141/4398 [00:33<17:02,  4.16it/s]"
     ]
    },
    {
     "name": "stdout",
     "output_type": "stream",
     "text": [
      "sessiontune11483\n"
     ]
    },
    {
     "name": "stderr",
     "output_type": "stream",
     "text": [
      "\r",
      "  3%|██▌                                                                            | 142/4398 [00:34<17:02,  4.16it/s]"
     ]
    },
    {
     "name": "stdout",
     "output_type": "stream",
     "text": [
      "sessiontune11498\n"
     ]
    },
    {
     "name": "stderr",
     "output_type": "stream",
     "text": [
      "\r",
      "  3%|██▌                                                                            | 143/4398 [00:34<16:59,  4.17it/s]"
     ]
    },
    {
     "name": "stdout",
     "output_type": "stream",
     "text": [
      "sessiontune11500\n"
     ]
    },
    {
     "name": "stderr",
     "output_type": "stream",
     "text": [
      "\r",
      "  3%|██▌                                                                            | 144/4398 [00:34<16:55,  4.19it/s]"
     ]
    },
    {
     "name": "stdout",
     "output_type": "stream",
     "text": [
      "sessiontune11506\n"
     ]
    },
    {
     "name": "stderr",
     "output_type": "stream",
     "text": [
      "\r",
      "  3%|██▌                                                                            | 145/4398 [00:34<16:55,  4.19it/s]"
     ]
    },
    {
     "name": "stdout",
     "output_type": "stream",
     "text": [
      "sessiontune11519\n"
     ]
    },
    {
     "name": "stderr",
     "output_type": "stream",
     "text": [
      "\r",
      "  3%|██▌                                                                            | 146/4398 [00:34<16:58,  4.17it/s]"
     ]
    },
    {
     "name": "stdout",
     "output_type": "stream",
     "text": [
      "sessiontune11523\n"
     ]
    },
    {
     "name": "stderr",
     "output_type": "stream",
     "text": [
      "\r",
      "  3%|██▋                                                                            | 147/4398 [00:35<16:56,  4.18it/s]"
     ]
    },
    {
     "name": "stdout",
     "output_type": "stream",
     "text": [
      "sessiontune11527\n"
     ]
    },
    {
     "name": "stderr",
     "output_type": "stream",
     "text": [
      "\r",
      "  3%|██▋                                                                            | 148/4398 [00:35<16:54,  4.19it/s]"
     ]
    },
    {
     "name": "stdout",
     "output_type": "stream",
     "text": [
      "sessiontune11530\n"
     ]
    },
    {
     "name": "stderr",
     "output_type": "stream",
     "text": [
      "\r",
      "  3%|██▋                                                                            | 149/4398 [00:35<16:56,  4.18it/s]"
     ]
    },
    {
     "name": "stdout",
     "output_type": "stream",
     "text": [
      "sessiontune11532\n"
     ]
    },
    {
     "name": "stderr",
     "output_type": "stream",
     "text": [
      "\r",
      "  3%|██▋                                                                            | 150/4398 [00:36<17:00,  4.16it/s]"
     ]
    },
    {
     "name": "stdout",
     "output_type": "stream",
     "text": [
      "sessiontune11541\n"
     ]
    },
    {
     "name": "stderr",
     "output_type": "stream",
     "text": [
      "\r",
      "  3%|██▋                                                                            | 151/4398 [00:36<17:00,  4.16it/s]"
     ]
    },
    {
     "name": "stdout",
     "output_type": "stream",
     "text": [
      "sessiontune11553\n"
     ]
    },
    {
     "name": "stderr",
     "output_type": "stream",
     "text": [
      "\r",
      "  3%|██▋                                                                            | 152/4398 [00:36<17:04,  4.14it/s]"
     ]
    },
    {
     "name": "stdout",
     "output_type": "stream",
     "text": [
      "sessiontune11578\n"
     ]
    },
    {
     "name": "stderr",
     "output_type": "stream",
     "text": [
      "\r",
      "  3%|██▋                                                                            | 153/4398 [00:36<17:04,  4.14it/s]"
     ]
    },
    {
     "name": "stdout",
     "output_type": "stream",
     "text": [
      "sessiontune11591\n"
     ]
    },
    {
     "name": "stderr",
     "output_type": "stream",
     "text": [
      "\r",
      "  4%|██▊                                                                            | 154/4398 [00:37<17:12,  4.11it/s]"
     ]
    },
    {
     "name": "stdout",
     "output_type": "stream",
     "text": [
      "sessiontune11599\n"
     ]
    },
    {
     "name": "stderr",
     "output_type": "stream",
     "text": [
      "\r",
      "  4%|██▊                                                                            | 155/4398 [00:37<17:13,  4.10it/s]"
     ]
    },
    {
     "name": "stdout",
     "output_type": "stream",
     "text": [
      "sessiontune11606\n"
     ]
    },
    {
     "name": "stderr",
     "output_type": "stream",
     "text": [
      "\r",
      "  4%|██▊                                                                            | 156/4398 [00:37<17:11,  4.11it/s]"
     ]
    },
    {
     "name": "stdout",
     "output_type": "stream",
     "text": [
      "sessiontune11616\n"
     ]
    },
    {
     "name": "stderr",
     "output_type": "stream",
     "text": [
      "\r",
      "  4%|██▊                                                                            | 157/4398 [00:38<17:11,  4.11it/s]"
     ]
    },
    {
     "name": "stdout",
     "output_type": "stream",
     "text": [
      "sessiontune11628\n"
     ]
    },
    {
     "name": "stderr",
     "output_type": "stream",
     "text": [
      "\r",
      "  4%|██▊                                                                            | 158/4398 [00:38<17:14,  4.10it/s]"
     ]
    },
    {
     "name": "stdout",
     "output_type": "stream",
     "text": [
      "sessiontune11643\n"
     ]
    },
    {
     "name": "stderr",
     "output_type": "stream",
     "text": [
      "\r",
      "  4%|██▊                                                                            | 159/4398 [00:38<17:12,  4.11it/s]"
     ]
    },
    {
     "name": "stdout",
     "output_type": "stream",
     "text": [
      "sessiontune11655\n"
     ]
    },
    {
     "name": "stderr",
     "output_type": "stream",
     "text": [
      "\r",
      "  4%|██▊                                                                            | 160/4398 [00:38<17:12,  4.10it/s]"
     ]
    },
    {
     "name": "stdout",
     "output_type": "stream",
     "text": [
      "sessiontune11659\n"
     ]
    },
    {
     "name": "stderr",
     "output_type": "stream",
     "text": [
      "\r",
      "  4%|██▉                                                                            | 161/4398 [00:39<17:14,  4.10it/s]"
     ]
    },
    {
     "name": "stdout",
     "output_type": "stream",
     "text": [
      "sessiontune1166\n"
     ]
    },
    {
     "name": "stderr",
     "output_type": "stream",
     "text": [
      "\r",
      "  4%|██▉                                                                            | 162/4398 [00:39<17:20,  4.07it/s]"
     ]
    },
    {
     "name": "stdout",
     "output_type": "stream",
     "text": [
      "sessiontune11700\n"
     ]
    },
    {
     "name": "stderr",
     "output_type": "stream",
     "text": [
      "\r",
      "  4%|██▉                                                                            | 163/4398 [00:39<17:18,  4.08it/s]"
     ]
    },
    {
     "name": "stdout",
     "output_type": "stream",
     "text": [
      "sessiontune11711\n"
     ]
    },
    {
     "name": "stderr",
     "output_type": "stream",
     "text": [
      "\r",
      "  4%|██▉                                                                            | 164/4398 [00:40<17:17,  4.08it/s]"
     ]
    },
    {
     "name": "stdout",
     "output_type": "stream",
     "text": [
      "sessiontune11713\n"
     ]
    },
    {
     "name": "stderr",
     "output_type": "stream",
     "text": [
      "\r",
      "  4%|██▉                                                                            | 165/4398 [00:40<17:13,  4.10it/s]"
     ]
    },
    {
     "name": "stdout",
     "output_type": "stream",
     "text": [
      "sessiontune1173\n"
     ]
    },
    {
     "name": "stderr",
     "output_type": "stream",
     "text": [
      "\r",
      "  4%|██▉                                                                            | 166/4398 [00:40<17:09,  4.11it/s]"
     ]
    },
    {
     "name": "stdout",
     "output_type": "stream",
     "text": [
      "sessiontune1174\n"
     ]
    },
    {
     "name": "stderr",
     "output_type": "stream",
     "text": [
      "\r",
      "  4%|██▉                                                                            | 167/4398 [00:40<17:10,  4.11it/s]"
     ]
    },
    {
     "name": "stdout",
     "output_type": "stream",
     "text": [
      "sessiontune11745\n"
     ]
    },
    {
     "name": "stderr",
     "output_type": "stream",
     "text": [
      "\r",
      "  4%|███                                                                            | 168/4398 [00:40<17:08,  4.11it/s]"
     ]
    },
    {
     "name": "stdout",
     "output_type": "stream",
     "text": [
      "sessiontune11757\n"
     ]
    },
    {
     "name": "stderr",
     "output_type": "stream",
     "text": [
      "\r",
      "  4%|███                                                                            | 169/4398 [00:41<17:07,  4.12it/s]"
     ]
    },
    {
     "name": "stdout",
     "output_type": "stream",
     "text": [
      "sessiontune11764\n"
     ]
    },
    {
     "name": "stderr",
     "output_type": "stream",
     "text": [
      "\r",
      "  4%|███                                                                            | 170/4398 [00:41<17:04,  4.12it/s]"
     ]
    },
    {
     "name": "stdout",
     "output_type": "stream",
     "text": [
      "sessiontune11779\n"
     ]
    },
    {
     "name": "stderr",
     "output_type": "stream",
     "text": [
      "\r",
      "  4%|███                                                                            | 171/4398 [00:41<17:05,  4.12it/s]"
     ]
    },
    {
     "name": "stdout",
     "output_type": "stream",
     "text": [
      "sessiontune11781\n"
     ]
    },
    {
     "name": "stderr",
     "output_type": "stream",
     "text": [
      "\r",
      "  4%|███                                                                            | 172/4398 [00:41<17:10,  4.10it/s]"
     ]
    },
    {
     "name": "stdout",
     "output_type": "stream",
     "text": [
      "sessiontune11793\n"
     ]
    },
    {
     "name": "stderr",
     "output_type": "stream",
     "text": [
      "\r",
      "  4%|███                                                                            | 173/4398 [00:42<17:07,  4.11it/s]"
     ]
    },
    {
     "name": "stdout",
     "output_type": "stream",
     "text": [
      "sessiontune1180\n"
     ]
    },
    {
     "name": "stderr",
     "output_type": "stream",
     "text": [
      "\r",
      "  4%|███▏                                                                           | 174/4398 [00:42<17:06,  4.11it/s]"
     ]
    },
    {
     "name": "stdout",
     "output_type": "stream",
     "text": [
      "sessiontune1181\n"
     ]
    },
    {
     "name": "stderr",
     "output_type": "stream",
     "text": [
      "\r",
      "  4%|███▏                                                                           | 175/4398 [00:42<17:04,  4.12it/s]"
     ]
    },
    {
     "name": "stdout",
     "output_type": "stream",
     "text": [
      "sessiontune11829\n"
     ]
    },
    {
     "name": "stderr",
     "output_type": "stream",
     "text": [
      "\r",
      "  4%|███▏                                                                           | 176/4398 [00:42<17:01,  4.13it/s]"
     ]
    },
    {
     "name": "stdout",
     "output_type": "stream",
     "text": [
      "sessiontune11833\n"
     ]
    },
    {
     "name": "stderr",
     "output_type": "stream",
     "text": [
      "\r",
      "  4%|███▏                                                                           | 177/4398 [00:42<17:00,  4.14it/s]"
     ]
    },
    {
     "name": "stdout",
     "output_type": "stream",
     "text": [
      "sessiontune11834\n"
     ]
    },
    {
     "name": "stderr",
     "output_type": "stream",
     "text": [
      "\r",
      "  4%|███▏                                                                           | 178/4398 [00:43<17:04,  4.12it/s]"
     ]
    },
    {
     "name": "stdout",
     "output_type": "stream",
     "text": [
      "sessiontune11847\n"
     ]
    },
    {
     "name": "stderr",
     "output_type": "stream",
     "text": [
      "\r",
      "  4%|███▏                                                                           | 179/4398 [00:43<17:01,  4.13it/s]"
     ]
    },
    {
     "name": "stdout",
     "output_type": "stream",
     "text": [
      "sessiontune11862\n"
     ]
    },
    {
     "name": "stderr",
     "output_type": "stream",
     "text": [
      "\r",
      "  4%|███▏                                                                           | 180/4398 [00:43<16:57,  4.14it/s]"
     ]
    },
    {
     "name": "stdout",
     "output_type": "stream",
     "text": [
      "sessiontune11868\n"
     ]
    },
    {
     "name": "stderr",
     "output_type": "stream",
     "text": [
      "\r",
      "  4%|███▎                                                                           | 181/4398 [00:43<16:54,  4.16it/s]"
     ]
    },
    {
     "name": "stdout",
     "output_type": "stream",
     "text": [
      "sessiontune11869\n"
     ]
    },
    {
     "name": "stderr",
     "output_type": "stream",
     "text": [
      "\r",
      "  4%|███▎                                                                           | 182/4398 [00:43<16:53,  4.16it/s]"
     ]
    },
    {
     "name": "stdout",
     "output_type": "stream",
     "text": [
      "sessiontune1188\n"
     ]
    },
    {
     "name": "stderr",
     "output_type": "stream",
     "text": [
      "\r",
      "  4%|███▎                                                                           | 183/4398 [00:43<16:52,  4.16it/s]"
     ]
    },
    {
     "name": "stdout",
     "output_type": "stream",
     "text": [
      "sessiontune11881\n",
      "sessiontune11884\n"
     ]
    },
    {
     "name": "stderr",
     "output_type": "stream",
     "text": [
      "\r",
      "  4%|███▎                                                                           | 185/4398 [00:44<16:47,  4.18it/s]"
     ]
    },
    {
     "name": "stdout",
     "output_type": "stream",
     "text": [
      "sessiontune11896\n"
     ]
    },
    {
     "name": "stderr",
     "output_type": "stream",
     "text": [
      "\r",
      "  4%|███▎                                                                           | 186/4398 [00:44<16:44,  4.19it/s]"
     ]
    },
    {
     "name": "stdout",
     "output_type": "stream",
     "text": [
      "sessiontune11902\n"
     ]
    },
    {
     "name": "stderr",
     "output_type": "stream",
     "text": [
      "\r",
      "  4%|███▎                                                                           | 187/4398 [00:44<16:43,  4.20it/s]"
     ]
    },
    {
     "name": "stdout",
     "output_type": "stream",
     "text": [
      "sessiontune1192\n"
     ]
    },
    {
     "name": "stderr",
     "output_type": "stream",
     "text": [
      "\r",
      "  4%|███▍                                                                           | 188/4398 [00:44<16:39,  4.21it/s]"
     ]
    },
    {
     "name": "stdout",
     "output_type": "stream",
     "text": [
      "sessiontune11921\n"
     ]
    },
    {
     "name": "stderr",
     "output_type": "stream",
     "text": [
      "\r",
      "  4%|███▍                                                                           | 189/4398 [00:44<16:37,  4.22it/s]"
     ]
    },
    {
     "name": "stdout",
     "output_type": "stream",
     "text": [
      "sessiontune11930\n"
     ]
    },
    {
     "name": "stderr",
     "output_type": "stream",
     "text": [
      "\r",
      "  4%|███▍                                                                           | 190/4398 [00:45<16:39,  4.21it/s]"
     ]
    },
    {
     "name": "stdout",
     "output_type": "stream",
     "text": [
      "sessiontune11934\n"
     ]
    },
    {
     "name": "stderr",
     "output_type": "stream",
     "text": [
      "\r",
      "  4%|███▍                                                                           | 191/4398 [00:45<16:39,  4.21it/s]"
     ]
    },
    {
     "name": "stdout",
     "output_type": "stream",
     "text": [
      "sessiontune11943\n"
     ]
    },
    {
     "name": "stderr",
     "output_type": "stream",
     "text": [
      "\r",
      "  4%|███▍                                                                           | 192/4398 [00:45<16:37,  4.21it/s]"
     ]
    },
    {
     "name": "stdout",
     "output_type": "stream",
     "text": [
      "sessiontune1195\n"
     ]
    },
    {
     "name": "stderr",
     "output_type": "stream",
     "text": [
      "\r",
      "  4%|███▍                                                                           | 193/4398 [00:45<16:36,  4.22it/s]"
     ]
    },
    {
     "name": "stdout",
     "output_type": "stream",
     "text": [
      "sessiontune11950\n"
     ]
    },
    {
     "name": "stderr",
     "output_type": "stream",
     "text": [
      "\r",
      "  4%|███▍                                                                           | 194/4398 [00:45<16:34,  4.23it/s]"
     ]
    },
    {
     "name": "stdout",
     "output_type": "stream",
     "text": [
      "sessiontune11954\n"
     ]
    },
    {
     "name": "stderr",
     "output_type": "stream",
     "text": [
      "\r",
      "  4%|███▌                                                                           | 195/4398 [00:46<16:35,  4.22it/s]"
     ]
    },
    {
     "name": "stdout",
     "output_type": "stream",
     "text": [
      "sessiontune11981\n"
     ]
    },
    {
     "name": "stderr",
     "output_type": "stream",
     "text": [
      "\r",
      "  4%|███▌                                                                           | 196/4398 [00:46<16:36,  4.22it/s]"
     ]
    },
    {
     "name": "stdout",
     "output_type": "stream",
     "text": [
      "sessiontune11982\n"
     ]
    },
    {
     "name": "stderr",
     "output_type": "stream",
     "text": [
      "\r",
      "  4%|███▌                                                                           | 197/4398 [00:46<16:34,  4.22it/s]"
     ]
    },
    {
     "name": "stdout",
     "output_type": "stream",
     "text": [
      "sessiontune11987\n"
     ]
    },
    {
     "name": "stderr",
     "output_type": "stream",
     "text": [
      "\r",
      "  5%|███▌                                                                           | 198/4398 [00:46<16:34,  4.23it/s]"
     ]
    },
    {
     "name": "stdout",
     "output_type": "stream",
     "text": [
      "sessiontune12020\n",
      "sessiontune12024\n"
     ]
    },
    {
     "name": "stderr",
     "output_type": "stream",
     "text": [
      "\r",
      "  5%|███▌                                                                           | 200/4398 [00:47<16:28,  4.25it/s]"
     ]
    },
    {
     "name": "stdout",
     "output_type": "stream",
     "text": [
      "sessiontune12025\n"
     ]
    },
    {
     "name": "stderr",
     "output_type": "stream",
     "text": [
      "\r",
      "  5%|███▌                                                                           | 201/4398 [00:47<16:26,  4.26it/s]"
     ]
    },
    {
     "name": "stdout",
     "output_type": "stream",
     "text": [
      "sessiontune12030\n"
     ]
    },
    {
     "name": "stderr",
     "output_type": "stream",
     "text": [
      "\r",
      "  5%|███▋                                                                           | 202/4398 [00:47<16:27,  4.25it/s]"
     ]
    },
    {
     "name": "stdout",
     "output_type": "stream",
     "text": [
      "sessiontune12040\n",
      "sessiontune12041\n"
     ]
    },
    {
     "name": "stderr",
     "output_type": "stream",
     "text": [
      "\r",
      "  5%|███▋                                                                           | 204/4398 [00:47<16:23,  4.26it/s]"
     ]
    },
    {
     "name": "stdout",
     "output_type": "stream",
     "text": [
      "sessiontune12042\n"
     ]
    },
    {
     "name": "stderr",
     "output_type": "stream",
     "text": [
      "\r",
      "  5%|███▋                                                                           | 205/4398 [00:48<16:22,  4.27it/s]"
     ]
    },
    {
     "name": "stdout",
     "output_type": "stream",
     "text": [
      "sessiontune12051\n"
     ]
    },
    {
     "name": "stderr",
     "output_type": "stream",
     "text": [
      "\r",
      "  5%|███▋                                                                           | 206/4398 [00:48<16:21,  4.27it/s]"
     ]
    },
    {
     "name": "stdout",
     "output_type": "stream",
     "text": [
      "sessiontune12054\n"
     ]
    },
    {
     "name": "stderr",
     "output_type": "stream",
     "text": [
      "\r",
      "  5%|███▋                                                                           | 207/4398 [00:48<16:18,  4.28it/s]"
     ]
    },
    {
     "name": "stdout",
     "output_type": "stream",
     "text": [
      "sessiontune12064\n"
     ]
    },
    {
     "name": "stderr",
     "output_type": "stream",
     "text": [
      "\r",
      "  5%|███▋                                                                           | 208/4398 [00:48<16:19,  4.28it/s]"
     ]
    },
    {
     "name": "stdout",
     "output_type": "stream",
     "text": [
      "sessiontune12084\n"
     ]
    },
    {
     "name": "stderr",
     "output_type": "stream",
     "text": [
      "\r",
      "  5%|███▊                                                                           | 209/4398 [00:48<16:16,  4.29it/s]"
     ]
    },
    {
     "name": "stdout",
     "output_type": "stream",
     "text": [
      "sessiontune12093\n"
     ]
    },
    {
     "name": "stderr",
     "output_type": "stream",
     "text": [
      "\r",
      "  5%|███▊                                                                           | 210/4398 [00:48<16:14,  4.30it/s]"
     ]
    },
    {
     "name": "stdout",
     "output_type": "stream",
     "text": [
      "sessiontune12104\n"
     ]
    },
    {
     "name": "stderr",
     "output_type": "stream",
     "text": [
      "\r",
      "  5%|███▊                                                                           | 211/4398 [00:49<16:12,  4.31it/s]"
     ]
    },
    {
     "name": "stdout",
     "output_type": "stream",
     "text": [
      "sessiontune12117\n",
      "sessiontune12141\n"
     ]
    },
    {
     "name": "stderr",
     "output_type": "stream",
     "text": [
      "\r",
      "  5%|███▊                                                                           | 213/4398 [00:49<16:07,  4.33it/s]"
     ]
    },
    {
     "name": "stdout",
     "output_type": "stream",
     "text": [
      "sessiontune12145\n",
      "sessiontune1215\n"
     ]
    },
    {
     "name": "stderr",
     "output_type": "stream",
     "text": [
      "\r",
      "  5%|███▊                                                                           | 215/4398 [00:49<16:04,  4.34it/s]"
     ]
    },
    {
     "name": "stdout",
     "output_type": "stream",
     "text": [
      "sessiontune12156\n"
     ]
    },
    {
     "name": "stderr",
     "output_type": "stream",
     "text": [
      "\r",
      "  5%|███▉                                                                           | 216/4398 [00:49<16:02,  4.34it/s]"
     ]
    },
    {
     "name": "stdout",
     "output_type": "stream",
     "text": [
      "sessiontune12178\n"
     ]
    },
    {
     "name": "stderr",
     "output_type": "stream",
     "text": [
      "\r",
      "  5%|███▉                                                                           | 217/4398 [00:49<16:00,  4.35it/s]"
     ]
    },
    {
     "name": "stdout",
     "output_type": "stream",
     "text": [
      "sessiontune12189\n"
     ]
    },
    {
     "name": "stderr",
     "output_type": "stream",
     "text": [
      "\r",
      "  5%|███▉                                                                           | 218/4398 [00:50<15:58,  4.36it/s]"
     ]
    },
    {
     "name": "stdout",
     "output_type": "stream",
     "text": [
      "sessiontune12214\n",
      "sessiontune12232\n"
     ]
    },
    {
     "name": "stderr",
     "output_type": "stream",
     "text": [
      "\r",
      "  5%|███▉                                                                           | 220/4398 [00:50<15:55,  4.37it/s]"
     ]
    },
    {
     "name": "stdout",
     "output_type": "stream",
     "text": [
      "sessiontune12236\n"
     ]
    },
    {
     "name": "stderr",
     "output_type": "stream",
     "text": [
      "\r",
      "  5%|███▉                                                                           | 221/4398 [00:50<15:56,  4.37it/s]"
     ]
    },
    {
     "name": "stdout",
     "output_type": "stream",
     "text": [
      "sessiontune12266\n"
     ]
    },
    {
     "name": "stderr",
     "output_type": "stream",
     "text": [
      "\r",
      "  5%|███▉                                                                           | 222/4398 [00:50<15:56,  4.37it/s]"
     ]
    },
    {
     "name": "stdout",
     "output_type": "stream",
     "text": [
      "sessiontune12277\n"
     ]
    },
    {
     "name": "stderr",
     "output_type": "stream",
     "text": [
      "\r",
      "  5%|████                                                                           | 223/4398 [00:51<15:55,  4.37it/s]"
     ]
    },
    {
     "name": "stdout",
     "output_type": "stream",
     "text": [
      "sessiontune12282\n"
     ]
    },
    {
     "name": "stderr",
     "output_type": "stream",
     "text": [
      "\r",
      "  5%|████                                                                           | 224/4398 [00:51<16:06,  4.32it/s]"
     ]
    },
    {
     "name": "stdout",
     "output_type": "stream",
     "text": [
      "sessiontune12312\n",
      "sessiontune12316\n"
     ]
    },
    {
     "name": "stderr",
     "output_type": "stream",
     "text": [
      "\r",
      "  5%|████                                                                           | 226/4398 [00:52<16:00,  4.34it/s]"
     ]
    },
    {
     "name": "stdout",
     "output_type": "stream",
     "text": [
      "sessiontune12321\n"
     ]
    },
    {
     "name": "stderr",
     "output_type": "stream",
     "text": [
      "\r",
      "  5%|████                                                                           | 227/4398 [00:52<15:58,  4.35it/s]"
     ]
    },
    {
     "name": "stdout",
     "output_type": "stream",
     "text": [
      "sessiontune12323\n"
     ]
    },
    {
     "name": "stderr",
     "output_type": "stream",
     "text": [
      "\r",
      "  5%|████                                                                           | 228/4398 [00:52<15:58,  4.35it/s]"
     ]
    },
    {
     "name": "stdout",
     "output_type": "stream",
     "text": [
      "sessiontune12324\n"
     ]
    },
    {
     "name": "stderr",
     "output_type": "stream",
     "text": [
      "\r",
      "  5%|████                                                                           | 229/4398 [00:52<16:01,  4.33it/s]"
     ]
    },
    {
     "name": "stdout",
     "output_type": "stream",
     "text": [
      "sessiontune12337\n"
     ]
    },
    {
     "name": "stderr",
     "output_type": "stream",
     "text": [
      "\r",
      "  5%|████▏                                                                          | 230/4398 [00:52<15:59,  4.34it/s]"
     ]
    },
    {
     "name": "stdout",
     "output_type": "stream",
     "text": [
      "sessiontune12362\n",
      "sessiontune1237\n"
     ]
    },
    {
     "name": "stderr",
     "output_type": "stream",
     "text": [
      "\r",
      "  5%|████▏                                                                          | 232/4398 [00:53<15:57,  4.35it/s]"
     ]
    },
    {
     "name": "stdout",
     "output_type": "stream",
     "text": [
      "sessiontune12373\n"
     ]
    },
    {
     "name": "stderr",
     "output_type": "stream",
     "text": [
      "\r",
      "  5%|████▏                                                                          | 233/4398 [00:53<15:57,  4.35it/s]"
     ]
    },
    {
     "name": "stdout",
     "output_type": "stream",
     "text": [
      "sessiontune12378\n"
     ]
    },
    {
     "name": "stderr",
     "output_type": "stream",
     "text": [
      "\r",
      "  5%|████▏                                                                          | 234/4398 [00:53<15:56,  4.35it/s]"
     ]
    },
    {
     "name": "stdout",
     "output_type": "stream",
     "text": [
      "sessiontune12423\n"
     ]
    },
    {
     "name": "stderr",
     "output_type": "stream",
     "text": [
      "\r",
      "  5%|████▏                                                                          | 235/4398 [00:54<15:58,  4.34it/s]"
     ]
    },
    {
     "name": "stdout",
     "output_type": "stream",
     "text": [
      "sessiontune12426\n"
     ]
    },
    {
     "name": "stderr",
     "output_type": "stream",
     "text": [
      "\r",
      "  5%|████▏                                                                          | 236/4398 [00:54<15:59,  4.34it/s]"
     ]
    },
    {
     "name": "stdout",
     "output_type": "stream",
     "text": [
      "sessiontune12433\n"
     ]
    },
    {
     "name": "stderr",
     "output_type": "stream",
     "text": [
      "\r",
      "  5%|████▎                                                                          | 237/4398 [00:54<16:00,  4.33it/s]"
     ]
    },
    {
     "name": "stdout",
     "output_type": "stream",
     "text": [
      "sessiontune12446\n"
     ]
    },
    {
     "name": "stderr",
     "output_type": "stream",
     "text": [
      "\r",
      "  5%|████▎                                                                          | 238/4398 [00:55<16:06,  4.31it/s]"
     ]
    },
    {
     "name": "stdout",
     "output_type": "stream",
     "text": [
      "sessiontune12466\n"
     ]
    },
    {
     "name": "stderr",
     "output_type": "stream",
     "text": [
      "\r",
      "  5%|████▎                                                                          | 239/4398 [00:55<16:08,  4.30it/s]"
     ]
    },
    {
     "name": "stdout",
     "output_type": "stream",
     "text": [
      "sessiontune12468\n"
     ]
    },
    {
     "name": "stderr",
     "output_type": "stream",
     "text": [
      "\r",
      "  5%|████▎                                                                          | 240/4398 [00:55<16:06,  4.30it/s]"
     ]
    },
    {
     "name": "stdout",
     "output_type": "stream",
     "text": [
      "sessiontune12474\n"
     ]
    },
    {
     "name": "stderr",
     "output_type": "stream",
     "text": [
      "\r",
      "  5%|████▎                                                                          | 241/4398 [00:55<16:05,  4.31it/s]"
     ]
    },
    {
     "name": "stdout",
     "output_type": "stream",
     "text": [
      "sessiontune12497\n"
     ]
    },
    {
     "name": "stderr",
     "output_type": "stream",
     "text": [
      "\r",
      "  6%|████▎                                                                          | 242/4398 [00:56<16:03,  4.31it/s]"
     ]
    },
    {
     "name": "stdout",
     "output_type": "stream",
     "text": [
      "sessiontune12509\n"
     ]
    },
    {
     "name": "stderr",
     "output_type": "stream",
     "text": [
      "\r",
      "  6%|████▎                                                                          | 243/4398 [00:56<16:01,  4.32it/s]"
     ]
    },
    {
     "name": "stdout",
     "output_type": "stream",
     "text": [
      "sessiontune12510\n"
     ]
    },
    {
     "name": "stderr",
     "output_type": "stream",
     "text": [
      "\r",
      "  6%|████▍                                                                          | 244/4398 [00:56<16:02,  4.32it/s]"
     ]
    },
    {
     "name": "stdout",
     "output_type": "stream",
     "text": [
      "sessiontune12514\n"
     ]
    },
    {
     "name": "stderr",
     "output_type": "stream",
     "text": [
      "\r",
      "  6%|████▍                                                                          | 245/4398 [00:56<16:00,  4.32it/s]"
     ]
    },
    {
     "name": "stdout",
     "output_type": "stream",
     "text": [
      "sessiontune12525\n"
     ]
    },
    {
     "name": "stderr",
     "output_type": "stream",
     "text": [
      "\r",
      "  6%|████▍                                                                          | 246/4398 [00:56<15:59,  4.33it/s]"
     ]
    },
    {
     "name": "stdout",
     "output_type": "stream",
     "text": [
      "sessiontune1254\n"
     ]
    },
    {
     "name": "stderr",
     "output_type": "stream",
     "text": [
      "\r",
      "  6%|████▍                                                                          | 247/4398 [00:57<15:57,  4.33it/s]"
     ]
    },
    {
     "name": "stdout",
     "output_type": "stream",
     "text": [
      "sessiontune12543\n"
     ]
    },
    {
     "name": "stderr",
     "output_type": "stream",
     "text": [
      "\r",
      "  6%|████▍                                                                          | 248/4398 [00:57<15:55,  4.34it/s]"
     ]
    },
    {
     "name": "stdout",
     "output_type": "stream",
     "text": [
      "sessiontune12546\n"
     ]
    },
    {
     "name": "stderr",
     "output_type": "stream",
     "text": [
      "\r",
      "  6%|████▍                                                                          | 249/4398 [00:57<15:54,  4.35it/s]"
     ]
    },
    {
     "name": "stdout",
     "output_type": "stream",
     "text": [
      "sessiontune12573\n"
     ]
    },
    {
     "name": "stderr",
     "output_type": "stream",
     "text": [
      "\r",
      "  6%|████▍                                                                          | 250/4398 [00:57<15:54,  4.34it/s]"
     ]
    },
    {
     "name": "stdout",
     "output_type": "stream",
     "text": [
      "sessiontune12574\n"
     ]
    },
    {
     "name": "stderr",
     "output_type": "stream",
     "text": [
      "\r",
      "  6%|████▌                                                                          | 251/4398 [00:57<15:56,  4.34it/s]"
     ]
    },
    {
     "name": "stdout",
     "output_type": "stream",
     "text": [
      "sessiontune12577\n"
     ]
    },
    {
     "name": "stderr",
     "output_type": "stream",
     "text": [
      "\r",
      "  6%|████▌                                                                          | 252/4398 [00:58<15:54,  4.34it/s]"
     ]
    },
    {
     "name": "stdout",
     "output_type": "stream",
     "text": [
      "sessiontune12580\n"
     ]
    },
    {
     "name": "stderr",
     "output_type": "stream",
     "text": [
      "\r",
      "  6%|████▌                                                                          | 253/4398 [00:58<15:55,  4.34it/s]"
     ]
    },
    {
     "name": "stdout",
     "output_type": "stream",
     "text": [
      "sessiontune12587\n"
     ]
    },
    {
     "name": "stderr",
     "output_type": "stream",
     "text": [
      "\r",
      "  6%|████▌                                                                          | 254/4398 [00:58<15:54,  4.34it/s]"
     ]
    },
    {
     "name": "stdout",
     "output_type": "stream",
     "text": [
      "sessiontune12588\n"
     ]
    },
    {
     "name": "stderr",
     "output_type": "stream",
     "text": [
      "\r",
      "  6%|████▌                                                                          | 255/4398 [00:58<15:58,  4.32it/s]"
     ]
    },
    {
     "name": "stdout",
     "output_type": "stream",
     "text": [
      "sessiontune12607\n"
     ]
    },
    {
     "name": "stderr",
     "output_type": "stream",
     "text": [
      "\r",
      "  6%|████▌                                                                          | 256/4398 [00:59<15:56,  4.33it/s]"
     ]
    },
    {
     "name": "stdout",
     "output_type": "stream",
     "text": [
      "sessiontune12608\n"
     ]
    },
    {
     "name": "stderr",
     "output_type": "stream",
     "text": [
      "\r",
      "  6%|████▌                                                                          | 257/4398 [00:59<15:54,  4.34it/s]"
     ]
    },
    {
     "name": "stdout",
     "output_type": "stream",
     "text": [
      "sessiontune12610\n",
      "sessiontune12617\n"
     ]
    },
    {
     "name": "stderr",
     "output_type": "stream",
     "text": [
      "\r",
      "  6%|████▋                                                                          | 259/4398 [00:59<15:49,  4.36it/s]"
     ]
    },
    {
     "name": "stdout",
     "output_type": "stream",
     "text": [
      "sessiontune1262\n",
      "sessiontune12623\n"
     ]
    },
    {
     "name": "stderr",
     "output_type": "stream",
     "text": [
      "\r",
      "  6%|████▋                                                                          | 261/4398 [00:59<15:44,  4.38it/s]"
     ]
    },
    {
     "name": "stdout",
     "output_type": "stream",
     "text": [
      "sessiontune12634\n"
     ]
    },
    {
     "name": "stderr",
     "output_type": "stream",
     "text": [
      "\r",
      "  6%|████▋                                                                          | 262/4398 [00:59<15:45,  4.37it/s]"
     ]
    },
    {
     "name": "stdout",
     "output_type": "stream",
     "text": [
      "sessiontune12636\n"
     ]
    },
    {
     "name": "stderr",
     "output_type": "stream",
     "text": [
      "\r",
      "  6%|████▋                                                                          | 263/4398 [01:00<15:44,  4.38it/s]"
     ]
    },
    {
     "name": "stdout",
     "output_type": "stream",
     "text": [
      "sessiontune12639\n"
     ]
    },
    {
     "name": "stderr",
     "output_type": "stream",
     "text": [
      "\r",
      "  6%|████▋                                                                          | 264/4398 [01:00<15:41,  4.39it/s]"
     ]
    },
    {
     "name": "stdout",
     "output_type": "stream",
     "text": [
      "sessiontune12648\n"
     ]
    },
    {
     "name": "stderr",
     "output_type": "stream",
     "text": [
      "\r",
      "  6%|████▊                                                                          | 265/4398 [01:00<15:41,  4.39it/s]"
     ]
    },
    {
     "name": "stdout",
     "output_type": "stream",
     "text": [
      "sessiontune12649\n"
     ]
    },
    {
     "name": "stderr",
     "output_type": "stream",
     "text": [
      "\r",
      "  6%|████▊                                                                          | 266/4398 [01:00<15:40,  4.39it/s]"
     ]
    },
    {
     "name": "stdout",
     "output_type": "stream",
     "text": [
      "sessiontune12667\n"
     ]
    },
    {
     "name": "stderr",
     "output_type": "stream",
     "text": [
      "\r",
      "  6%|████▊                                                                          | 267/4398 [01:00<15:38,  4.40it/s]"
     ]
    },
    {
     "name": "stdout",
     "output_type": "stream",
     "text": [
      "sessiontune12673\n"
     ]
    },
    {
     "name": "stderr",
     "output_type": "stream",
     "text": [
      "\r",
      "  6%|████▊                                                                          | 268/4398 [01:00<15:40,  4.39it/s]"
     ]
    },
    {
     "name": "stdout",
     "output_type": "stream",
     "text": [
      "sessiontune12680\n"
     ]
    },
    {
     "name": "stderr",
     "output_type": "stream",
     "text": [
      "\r",
      "  6%|████▊                                                                          | 269/4398 [01:01<15:39,  4.40it/s]"
     ]
    },
    {
     "name": "stdout",
     "output_type": "stream",
     "text": [
      "sessiontune12687\n"
     ]
    },
    {
     "name": "stderr",
     "output_type": "stream",
     "text": [
      "\r",
      "  6%|████▊                                                                          | 270/4398 [01:01<15:37,  4.41it/s]"
     ]
    },
    {
     "name": "stdout",
     "output_type": "stream",
     "text": [
      "sessiontune12689\n"
     ]
    },
    {
     "name": "stderr",
     "output_type": "stream",
     "text": [
      "\r",
      "  6%|████▊                                                                          | 271/4398 [01:01<15:36,  4.41it/s]"
     ]
    },
    {
     "name": "stdout",
     "output_type": "stream",
     "text": [
      "sessiontune12704\n"
     ]
    },
    {
     "name": "stderr",
     "output_type": "stream",
     "text": [
      "\r",
      "  6%|████▉                                                                          | 272/4398 [01:01<15:35,  4.41it/s]"
     ]
    },
    {
     "name": "stdout",
     "output_type": "stream",
     "text": [
      "sessiontune12722\n"
     ]
    },
    {
     "name": "stderr",
     "output_type": "stream",
     "text": [
      "\r",
      "  6%|████▉                                                                          | 273/4398 [01:01<15:34,  4.41it/s]"
     ]
    },
    {
     "name": "stdout",
     "output_type": "stream",
     "text": [
      "sessiontune12723\n"
     ]
    },
    {
     "name": "stderr",
     "output_type": "stream",
     "text": [
      "\r",
      "  6%|████▉                                                                          | 274/4398 [01:02<15:35,  4.41it/s]"
     ]
    },
    {
     "name": "stdout",
     "output_type": "stream",
     "text": [
      "sessiontune12743\n",
      "sessiontune12758\n"
     ]
    },
    {
     "name": "stderr",
     "output_type": "stream",
     "text": [
      "\r",
      "  6%|████▉                                                                          | 276/4398 [01:02<15:33,  4.41it/s]"
     ]
    },
    {
     "name": "stdout",
     "output_type": "stream",
     "text": [
      "sessiontune12772\n",
      "sessiontune12820\n"
     ]
    },
    {
     "name": "stderr",
     "output_type": "stream",
     "text": [
      "\r",
      "  6%|████▉                                                                          | 278/4398 [01:02<15:29,  4.43it/s]"
     ]
    },
    {
     "name": "stdout",
     "output_type": "stream",
     "text": [
      "sessiontune12836\n"
     ]
    },
    {
     "name": "stderr",
     "output_type": "stream",
     "text": [
      "\r",
      "  6%|█████                                                                          | 279/4398 [01:02<15:28,  4.44it/s]"
     ]
    },
    {
     "name": "stdout",
     "output_type": "stream",
     "text": [
      "sessiontune1285\n"
     ]
    },
    {
     "name": "stderr",
     "output_type": "stream",
     "text": [
      "\r",
      "  6%|█████                                                                          | 280/4398 [01:03<15:29,  4.43it/s]"
     ]
    },
    {
     "name": "stdout",
     "output_type": "stream",
     "text": [
      "sessiontune12854\n"
     ]
    },
    {
     "name": "stderr",
     "output_type": "stream",
     "text": [
      "\r",
      "  6%|█████                                                                          | 281/4398 [01:03<15:29,  4.43it/s]"
     ]
    },
    {
     "name": "stdout",
     "output_type": "stream",
     "text": [
      "sessiontune12855\n"
     ]
    },
    {
     "name": "stderr",
     "output_type": "stream",
     "text": [
      "\r",
      "  6%|█████                                                                          | 282/4398 [01:03<15:27,  4.44it/s]"
     ]
    },
    {
     "name": "stdout",
     "output_type": "stream",
     "text": [
      "sessiontune1286\n"
     ]
    },
    {
     "name": "stderr",
     "output_type": "stream",
     "text": [
      "\r",
      "  6%|█████                                                                          | 283/4398 [01:03<15:28,  4.43it/s]"
     ]
    },
    {
     "name": "stdout",
     "output_type": "stream",
     "text": [
      "sessiontune12866\n"
     ]
    },
    {
     "name": "stderr",
     "output_type": "stream",
     "text": [
      "\r",
      "  6%|█████                                                                          | 284/4398 [01:03<15:26,  4.44it/s]"
     ]
    },
    {
     "name": "stdout",
     "output_type": "stream",
     "text": [
      "sessiontune1287\n"
     ]
    },
    {
     "name": "stderr",
     "output_type": "stream",
     "text": [
      "\r",
      "  6%|█████                                                                          | 285/4398 [01:04<15:25,  4.45it/s]"
     ]
    },
    {
     "name": "stdout",
     "output_type": "stream",
     "text": [
      "sessiontune12876\n"
     ]
    },
    {
     "name": "stderr",
     "output_type": "stream",
     "text": [
      "\r",
      "  7%|█████▏                                                                         | 286/4398 [01:04<15:34,  4.40it/s]"
     ]
    },
    {
     "name": "stdout",
     "output_type": "stream",
     "text": [
      "sessiontune12882\n"
     ]
    },
    {
     "name": "stderr",
     "output_type": "stream",
     "text": [
      "\r",
      "  7%|█████▏                                                                         | 287/4398 [01:05<15:38,  4.38it/s]"
     ]
    },
    {
     "name": "stdout",
     "output_type": "stream",
     "text": [
      "sessiontune12909\n"
     ]
    },
    {
     "name": "stderr",
     "output_type": "stream",
     "text": [
      "\r",
      "  7%|█████▏                                                                         | 288/4398 [01:05<15:37,  4.39it/s]"
     ]
    },
    {
     "name": "stdout",
     "output_type": "stream",
     "text": [
      "sessiontune12935\n",
      "sessiontune12937\n"
     ]
    },
    {
     "name": "stderr",
     "output_type": "stream",
     "text": [
      "\r",
      "  7%|█████▏                                                                         | 290/4398 [01:05<15:32,  4.41it/s]"
     ]
    },
    {
     "name": "stdout",
     "output_type": "stream",
     "text": [
      "sessiontune12949\n"
     ]
    },
    {
     "name": "stderr",
     "output_type": "stream",
     "text": [
      "\r",
      "  7%|█████▏                                                                         | 291/4398 [01:05<15:30,  4.41it/s]"
     ]
    },
    {
     "name": "stdout",
     "output_type": "stream",
     "text": [
      "sessiontune12954\n"
     ]
    },
    {
     "name": "stderr",
     "output_type": "stream",
     "text": [
      "\r",
      "  7%|█████▏                                                                         | 292/4398 [01:06<15:30,  4.41it/s]"
     ]
    },
    {
     "name": "stdout",
     "output_type": "stream",
     "text": [
      "sessiontune1303\n"
     ]
    },
    {
     "name": "stderr",
     "output_type": "stream",
     "text": [
      "\r",
      "  7%|█████▎                                                                         | 293/4398 [01:06<15:31,  4.40it/s]"
     ]
    },
    {
     "name": "stdout",
     "output_type": "stream",
     "text": [
      "sessiontune13039\n"
     ]
    },
    {
     "name": "stderr",
     "output_type": "stream",
     "text": [
      "\r",
      "  7%|█████▎                                                                         | 294/4398 [01:06<15:31,  4.41it/s]"
     ]
    },
    {
     "name": "stdout",
     "output_type": "stream",
     "text": [
      "sessiontune13043\n"
     ]
    },
    {
     "name": "stderr",
     "output_type": "stream",
     "text": [
      "\r",
      "  7%|█████▎                                                                         | 295/4398 [01:06<15:31,  4.40it/s]"
     ]
    },
    {
     "name": "stdout",
     "output_type": "stream",
     "text": [
      "sessiontune13045\n",
      "sessiontune13062\n"
     ]
    },
    {
     "name": "stderr",
     "output_type": "stream",
     "text": [
      "\r",
      "  7%|█████▎                                                                         | 297/4398 [01:07<15:27,  4.42it/s]"
     ]
    },
    {
     "name": "stdout",
     "output_type": "stream",
     "text": [
      "sessiontune13078\n"
     ]
    },
    {
     "name": "stderr",
     "output_type": "stream",
     "text": [
      "\r",
      "  7%|█████▎                                                                         | 298/4398 [01:07<15:26,  4.43it/s]"
     ]
    },
    {
     "name": "stdout",
     "output_type": "stream",
     "text": [
      "sessiontune13080\n"
     ]
    },
    {
     "name": "stderr",
     "output_type": "stream",
     "text": [
      "\r",
      "  7%|█████▎                                                                         | 299/4398 [01:07<15:28,  4.41it/s]"
     ]
    },
    {
     "name": "stdout",
     "output_type": "stream",
     "text": [
      "sessiontune13086\n"
     ]
    },
    {
     "name": "stderr",
     "output_type": "stream",
     "text": [
      "\r",
      "  7%|█████▍                                                                         | 300/4398 [01:07<15:28,  4.41it/s]"
     ]
    },
    {
     "name": "stdout",
     "output_type": "stream",
     "text": [
      "sessiontune13089\n"
     ]
    },
    {
     "name": "stderr",
     "output_type": "stream",
     "text": [
      "\r",
      "  7%|█████▍                                                                         | 301/4398 [01:08<15:29,  4.41it/s]"
     ]
    },
    {
     "name": "stdout",
     "output_type": "stream",
     "text": [
      "sessiontune13112\n"
     ]
    },
    {
     "name": "stderr",
     "output_type": "stream",
     "text": [
      "\r",
      "  7%|█████▍                                                                         | 302/4398 [01:08<15:27,  4.41it/s]"
     ]
    },
    {
     "name": "stdout",
     "output_type": "stream",
     "text": [
      "sessiontune13119\n"
     ]
    },
    {
     "name": "stderr",
     "output_type": "stream",
     "text": [
      "\r",
      "  7%|█████▍                                                                         | 303/4398 [01:08<15:27,  4.41it/s]"
     ]
    },
    {
     "name": "stdout",
     "output_type": "stream",
     "text": [
      "sessiontune13125\n"
     ]
    },
    {
     "name": "stderr",
     "output_type": "stream",
     "text": [
      "\r",
      "  7%|█████▍                                                                         | 304/4398 [01:09<15:29,  4.40it/s]"
     ]
    },
    {
     "name": "stdout",
     "output_type": "stream",
     "text": [
      "sessiontune13135\n"
     ]
    },
    {
     "name": "stderr",
     "output_type": "stream",
     "text": [
      "\r",
      "  7%|█████▍                                                                         | 305/4398 [01:09<15:29,  4.40it/s]"
     ]
    },
    {
     "name": "stdout",
     "output_type": "stream",
     "text": [
      "sessiontune13158\n"
     ]
    },
    {
     "name": "stderr",
     "output_type": "stream",
     "text": [
      "\r",
      "  7%|█████▍                                                                         | 306/4398 [01:09<15:28,  4.41it/s]"
     ]
    },
    {
     "name": "stdout",
     "output_type": "stream",
     "text": [
      "sessiontune13170\n"
     ]
    },
    {
     "name": "stderr",
     "output_type": "stream",
     "text": [
      "\r",
      "  7%|█████▌                                                                         | 307/4398 [01:09<15:26,  4.42it/s]"
     ]
    },
    {
     "name": "stdout",
     "output_type": "stream",
     "text": [
      "sessiontune13180\n"
     ]
    },
    {
     "name": "stderr",
     "output_type": "stream",
     "text": [
      "\r",
      "  7%|█████▌                                                                         | 308/4398 [01:09<15:25,  4.42it/s]"
     ]
    },
    {
     "name": "stdout",
     "output_type": "stream",
     "text": [
      "sessiontune13190\n"
     ]
    },
    {
     "name": "stderr",
     "output_type": "stream",
     "text": [
      "\r",
      "  7%|█████▌                                                                         | 309/4398 [01:10<15:27,  4.41it/s]"
     ]
    },
    {
     "name": "stdout",
     "output_type": "stream",
     "text": [
      "sessiontune13205\n"
     ]
    },
    {
     "name": "stderr",
     "output_type": "stream",
     "text": [
      "\r",
      "  7%|█████▌                                                                         | 310/4398 [01:10<15:25,  4.42it/s]"
     ]
    },
    {
     "name": "stdout",
     "output_type": "stream",
     "text": [
      "sessiontune13214\n",
      "sessiontune13215\n"
     ]
    },
    {
     "name": "stderr",
     "output_type": "stream",
     "text": [
      "\r",
      "  7%|█████▌                                                                         | 312/4398 [01:10<15:21,  4.43it/s]"
     ]
    },
    {
     "name": "stdout",
     "output_type": "stream",
     "text": [
      "sessiontune13237\n"
     ]
    },
    {
     "name": "stderr",
     "output_type": "stream",
     "text": [
      "\r",
      "  7%|█████▌                                                                         | 313/4398 [01:10<15:21,  4.43it/s]"
     ]
    },
    {
     "name": "stdout",
     "output_type": "stream",
     "text": [
      "sessiontune1324\n"
     ]
    },
    {
     "name": "stderr",
     "output_type": "stream",
     "text": [
      "\r",
      "  7%|█████▋                                                                         | 314/4398 [01:10<15:19,  4.44it/s]"
     ]
    },
    {
     "name": "stdout",
     "output_type": "stream",
     "text": [
      "sessiontune13264\n"
     ]
    },
    {
     "name": "stderr",
     "output_type": "stream",
     "text": [
      "\r",
      "  7%|█████▋                                                                         | 315/4398 [01:11<15:21,  4.43it/s]"
     ]
    },
    {
     "name": "stdout",
     "output_type": "stream",
     "text": [
      "sessiontune13273\n"
     ]
    }
   ],
   "source": [
    "#############################################################################################################################\n",
    "# Question 1 : Use the provided function to create a new dataset where all melodies are transposed to C Major/A minor.\n",
    "############################################################################################################################# \n",
    "\n",
    "import tqdm\n",
    "transpose_dataset = transposeDataset(usual_events) "
   ]
  },
  {
   "cell_type": "code",
   "execution_count": null,
   "metadata": {},
   "outputs": [],
   "source": [
    "#############################################################################################################################\n",
    "# Question 2 : Plot the histograms of the pitches before and after transposition.\n",
    "#############################################################################################################################\n",
    "\n",
    "########## Histogram of the pitches before  transposition with filtered data ##########      \n",
    "fig = plt.figure(figsize=(10,10))\n",
    "plt.hist(sum_P_filtered)\n",
    "plt.title('Histogram of the pitches before transposition with filtered data')\n",
    "plt.xlabel('Duration')\n",
    "plt.ylabel('Number of repetition of same duration')\n",
    "plt.show()\n",
    "print ('Size of the data_set : ', len(sum_P_filtered))\n",
    "\n",
    "########## Histogram of the pitches after transposition with filtered data ########## \n",
    "\n",
    "sum_T_filtered_transpose, sum_P_filtered_transpose = list(), list()\n",
    "i=0\n",
    "for label in list(transpose_dataset.keys()):\n",
    "    for t in transpose_dataset[label]['T']:\n",
    "        sum_T_filtered_transpose.append(t)\n",
    "    for p in transpose_dataset[label]['P']:\n",
    "        sum_P_filtered_transpose.append(p)\n",
    "        \n",
    "fig = plt.figure(figsize=(10,10))\n",
    "plt.hist(sum_P_filtered_transpose)\n",
    "plt.title('Histogram of the pitches after transposition with filtered data')\n",
    "plt.xlabel('Duration')\n",
    "plt.ylabel('Number of repetition of same duration')\n",
    "plt.show()\n",
    "print ('Size of the data_set : ', len(sum_P_filtered_transpose))"
   ]
  },
  {
   "cell_type": "markdown",
   "metadata": {},
   "source": [
    "#### Finally, you shoud recompute the tokenization step for your brand new filtered and normalized dataset."
   ]
  },
  {
   "cell_type": "code",
   "execution_count": null,
   "metadata": {},
   "outputs": [],
   "source": [
    "#############################################################################################################################\n",
    "# Tokenization step  for your brand new filtered and normalized dataset\n",
    "#############################################################################################################################\n",
    "T_dictionary_transpose_filtered = (np.unique(sum_T_filtered_transpose))\n",
    "P_dictionary_transpose_filtered = (np.unique(sum_P_filtered_transpose)) \n",
    "print ('\\n', 'T_dictionnary : \\n', T_dictionary, '\\n \\n P_dictionnary : \\n', P_dictionary, '\\n \\n \\n')\n",
    "\n",
    "int_dataset_transpose = copy.deepcopy(transpose_dataset)\n",
    "\n",
    "for label in list(int_dataset_transpose.keys()):\n",
    "    int_dataset_transpose[label]['T']  = [np.where(T_dictionary_transpose_filtered==x)[0][0] for x in int_dataset_transpose[label]['T']]\n",
    "    int_dataset_transpose[label]['P'] = [np.where(P_dictionary_transpose_filtered==x)[0][0] for x in int_dataset_transpose[label]['P']]\n",
    "print ('New integer dataset for T :',int_dataset_transpose[label]['T'], '\\n')\n",
    "print ('New integer dataset for P :',int_dataset_transpose[label]['P'])\n",
    "\n",
    "for label in np.random.choice(list(int_dataset_transpose.keys()), 2):\n",
    "    print(label)\n",
    "    print(\"MIDI events\")\n",
    "    display(datapath+label+\".mid\")\n",
    "    print(\"Note representation\")\n",
    "    print(transpose_dataset[label])\n",
    "    print('\\n')\n",
    "    print(\"Integer representation of the note\")\n",
    "    print(int_dataset_transpose[label])\n",
    "    print('\\n')"
   ]
  },
  {
   "cell_type": "markdown",
   "metadata": {},
   "source": [
    "# Please can you reade my answer and correct it s you want : "
   ]
  },
  {
   "cell_type": "markdown",
   "metadata": {},
   "source": [
    "**Question**: How much did you reduce the space of possible durations with your rare event suppression procedure? What is the impact in term of training time?\n",
    "\n",
    "**Answer**: We have reduce the space of possible durations by a factor 2 approximatly (8000 to 3500/4000). Thus, our training time will be reduce.\n",
    "\n",
    "**Question**: Explain why and how both transposition to a single tonality and to all possible tonalities can yield transposition invariance in your model. \n",
    "\n",
    "**Answer**: The first method consists in transposing every melody into a common tonality (C Major/A minor). On the other hand, the second method consists in transposing each melody in all possible keys. The second method will increase the dataset lot more than the first. I DON T KNOW AT ALL.\n",
    "\n",
    "**Question**: In terms of number of dimensions, what would have been the impact of keeping the joint represenation of a note duration and pitch (vs separating the two features)?\n",
    "\n",
    "**Answer**: It would have divided by 2 the number of dimensions. In fact, when we separate one feture into two features, we create a knew dimension, thus we increase the number of dimension by one.\n",
    "I don't know at all because I see this things with 2 different way and one is increasing and other is deacreasing so tell me want you think please.\n",
    "\n",
    "**Question**: How would the distribution of notes in the joint representation differ from the distributions in the pitch and duration only representations (as shown by your histograms above)?\n",
    "\n",
    "**Answer**: The representation of the joint distribution would take into account both values that composed her dimension and thus we would have less event that are the same. In fact in the joint distribution, duration and pitch need to be both the same to consider the event repetitve. In the separate representation it's not the case. You can check either pitch or duration."
   ]
  },
  {
   "cell_type": "markdown",
   "metadata": {},
   "source": [
    "## Exercise 4: One-hot and zero-padding\n",
    "### Description\n",
    "\n",
    "The last few steps to be able to feed (note by note) your music scores to a RNN model are\n",
    "1. Transform the sequence of integers into a sequence of vectors in the one-hot encoding scheme.\n",
    "2. Homegenize the length of each sequence\n",
    "\n",
    "**One-hot encode** You can implement your own integer to one-hot code. For this use the numpy library and the suitable datatype. Alternatively, Keras provides a [built in one-hot encoding scheme](https://keras.io/utils/#to_categorical). After this step, for each melody, you should have two similar length matrices with one representing the sequence of note pitches and the other the sequence of note durations.\n",
    "1. Code the integer representation into matrices of one-hot vectors\n",
    "\n",
    "**Zero-padding** Most deep learning libraries, including Keras, require that you specify the shape of the input data. As such, you cannot have variable length inputs per-se. The trick to handle them is [zero-padding](https://keras.io/preprocessing/sequence/#pad_sequences). Provided with the [Masking Layer](https://keras.io/layers/core/#masking) Keras will then ignore time steps where all inputs are 0.\n",
    "1. Extend the end of each melody matrices with vectors containing only zeros until all melodies have the same size. For simplicity, use the Keras pad_sequences function. There might be some rare very long melodies in your dataset, a possible choice is to set the 'maxlen' argument of pad_sequences to the mean+2std of the melody lengths. This ensure that 95% of your melodies would end before being truncated.\n",
    "2. Check and display the dimension of the resulting tensors. Typically, the tensor representing the sequence of pitches should be of shape [number of melodies x number of notes x number of entries in the pitch dictionary] and the tensor representing the sequence of durations [number of melodies x number of notes x number of entries in the duration dictionary]\n",
    "\n",
    "To check if this step was done correctly use the provided plotMelody function. For two randomly selected melodies, call the plotMelody function before and after one-hot/zero-pad. You should obtain the same plots (or slightly truncated if you randomly selected one belonging to 5% longest).\n",
    "\n",
    "Finally, we strongly suggest that you save your preprocessed data now."
   ]
  },
  {
   "cell_type": "markdown",
   "metadata": {},
   "source": [
    "### Solution"
   ]
  },
  {
   "cell_type": "markdown",
   "metadata": {},
   "source": [
    "###### One-hot encode"
   ]
  },
  {
   "cell_type": "code",
   "execution_count": null,
   "metadata": {},
   "outputs": [],
   "source": [
    "##################################################################################################################\n",
    "# Question 1 : Code the integer representation into matrices of one-hot vectors\n",
    "##################################################################################################################\n",
    "one_hot_dataset = {}\n",
    "for label in list(transpose_dataset.keys()):\n",
    "    one_hot_dataset[label] = {}\n",
    "    one_hot_dataset[label]['T']=keras.utils.to_categorical(int_dataset_transpose[label]['T'], num_classes=len(T_dictionary_transpose_filtered))\n",
    "    one_hot_dataset[label]['P']=keras.utils.to_categorical(int_dataset_transpose[label]['P'], num_classes=len(P_dictionary_transpose_filtered))\n",
    "\n",
    "for label in np.random.choice(list(transpose_dataset.keys()), 2):\n",
    "    print(label)\n",
    "    print(\"MIDI events\")\n",
    "    display(datapath+label+\".mid\")\n",
    "    print(\"One-hot encode : Integer representation of the note\")\n",
    "    print(one_hot_dataset[label])\n",
    "    print('\\n')"
   ]
  },
  {
   "cell_type": "markdown",
   "metadata": {},
   "source": [
    "##### Zero-padding"
   ]
  },
  {
   "cell_type": "code",
   "execution_count": null,
   "metadata": {
    "scrolled": true
   },
   "outputs": [],
   "source": [
    "from torch import tensor\n",
    "##################################################################################################################\n",
    "# Question 1: Extend the end of each melody matrices with vectors containing only zeros until all melodies have the same size\n",
    "##################################################################################################################\n",
    "\n",
    "len_vector_T, len_vector_P= list(), list()\n",
    "for label in list(transpose_dataset.keys()):\n",
    "    len_vector_T.append(len(transpose_dataset[label]['T']))\n",
    "    len_vector_P.append(len(transpose_dataset[label]['P']))\n",
    "maxlen_T=np.mean(len_vector_T)+2*np.std(len_vector_T) # rare very long melodies in your dataset, a possible choice is to set the 'maxlen' argument of pad_sequences to the mean+2std of the melody lengths -->  This ensure that 95% of your melodies would end before being truncated.\n",
    "maxlen_P=np.mean(len_vector_P)+2*np.std(len_vector_T)\n",
    "\n",
    "list_T_int, list_P_int, list_T,list_P= list(), list(),list(),list()\n",
    "for label in list(one_hot_dataset.keys()):\n",
    "    list_T_int.append(int_dataset_transpose[label]['T'])\n",
    "    list_P_int.append(int_dataset_transpose[label]['P'])\n",
    "    list_T.append(one_hot_dataset[label]['T'])\n",
    "    list_P.append(one_hot_dataset[label]['P'])\n",
    "\n",
    "### Padding ###\n",
    "array_T_int=pad_sequences(list_T_int, maxlen=int(maxlen_T), dtype='int64', padding='pre', truncating='pre', value=0)\n",
    "array_P_int=pad_sequences(list_P_int, maxlen=int(maxlen_P), dtype='int64', padding='pre', truncating='pre', value=0)\n",
    "array_T=pad_sequences(list_T, maxlen=int(maxlen_T), dtype='int64', padding='pre', truncating='pre', value=0.0)\n",
    "array_P=pad_sequences(list_P, maxlen=int(maxlen_P), dtype='int64', padding='pre', truncating='pre', value=0.0)\n",
    "\n",
    "### Set the final dataset ###\n",
    "i=0\n",
    "int_one_hot_dataset = {}\n",
    "final_dataset={}\n",
    "for label in list(int_dataset_transpose.keys()):\n",
    "    int_one_hot_dataset[label] = {}\n",
    "    final_dataset[label]={}\n",
    "    int_one_hot_dataset[label]['T']=array_T_int[i]\n",
    "    int_one_hot_dataset[label]['P']=array_P_int[i]\n",
    "    final_dataset[label]['T']=array_T[i]\n",
    "    final_dataset[label]['P']=array_P[i]\n",
    "    i=i+1\n",
    "\n",
    "#####################################################################################################################\n",
    "# Question 2: Check and display the dimension of the resulting tensors. \n",
    "#####################################################################################################################\n",
    "print ('maxlen_T = number of notes = maxlen_P = ',int(maxlen_T), ' = ', int(maxlen_P) )\n",
    "print ('number of entries in the pitch dictionary = ',len(P_dictionary_transpose_filtered) )\n",
    "print ('number of entries in the duration dictionary = ',len(T_dictionary_transpose_filtered) )\n",
    "print ('number of melodies', len(int_dataset_transpose))\n",
    "\n",
    "\n",
    "print ('\\nShape of T tensor sequence :', array_T.shape) # tensor representing the sequence of pitches should be of shape [number of melodies x number of notes x number of entries in the pitch dictionary]\n",
    "print ('We should find [number of melodies x number of notes x number of entries in the pitch dictionary]. So we are right')\n",
    "print ('\\nShape of P tensor sequence :', array_P.shape) # tensor representing the sequence of durations [number of melodies x number of notes x number of entries in the duration dictionary]\n",
    "print ('We should find [number of melodies x number of notes x number of entries in the duration dictionary]. So we are right')\n",
    "\n",
    "####################################################################################################################\n",
    "# Check if this step was done correctly use the provided plotMelody function\n",
    "####################################################################################################################\n",
    "\n",
    "dictionaries = {'T': T_dictionary_transpose_filtered, 'P': P_dictionary_transpose_filtered}\n",
    "\n",
    "for label in np.random.choice(list(final_dataset.keys()), 1):\n",
    "    T_1 = int_dataset_transpose[label]['T'] # before one hot code and zero padding\n",
    "    P_1 = int_dataset_transpose[label]['P']\n",
    "    T_hot_1 = final_dataset[label]['T']#one_hot_dataset[label]['T'] # after one hot code and zero padding\n",
    "    P_hot_1 = final_dataset[label]['P']\n",
    "\n",
    "for label in np.random.choice(list(final_dataset.keys()), 1):\n",
    "    T_2 = int_dataset_transpose[label]['T'] # before one hot code and zero padding\n",
    "    P_2 = int_dataset_transpose[label]['P']\n",
    "    T_hot_2 = final_dataset[label]['T']#one_hot_dataset[label]['T'] # after one hot code and zero padding\n",
    "    P_hot_2 = final_dataset[label]['P']\n",
    "\n",
    "### Plot ###\n",
    "print ('\\nFirst plotMelody function before one-hot/zero-pa :')\n",
    "plotMelody(P_1, T_1, dictionaries, PrP=None, PrT=None, H=None)\n",
    "print ('First plotMelody function after one-hot/zero-pad :')\n",
    "plotMelody(P_hot_1, T_hot_1, dictionaries, PrP=None, PrT=None, H=None)\n",
    "\n",
    "print ('\\nSecond plotMelody function before one-hot/zero-pa :')\n",
    "plotMelody(P_2, T_2, dictionaries, PrP=None, PrT=None, H=None)\n",
    "print ('Second plotMelody function after one-hot/zero-pad :')\n",
    "plotMelody(P_hot_2, T_hot_2, dictionaries, PrP=None, PrT=None, H=None)\n",
    "\n",
    "print ( 'We should obtain the same plots (or slightly truncated if you randomly selected one belonging to 5% longest). That is what we have')\n",
    "print ('We can see the effect of padding which add 0 to the sequence to have sequence of the same size (378). That is why we see a blank part at the begining of the melody plot for the padding part.')\n",
    "\n",
    "####################################################################################################################\n",
    "# Save the pre processing datas\n",
    "####################################################################################################################\n",
    "\n",
    "print ('\\nSaving begin ...')\n",
    "np.save('final_dataset', final_dataset )\n",
    "np.save('int_dataset', int_one_hot_dataset )\n",
    "np.save('dictionaries', dictionaries )\n",
    "np.save('t_array', array_T )\n",
    "np.save('p_array', array_P )\n",
    "print ('Pre-process data saved')"
   ]
  },
  {
   "cell_type": "markdown",
   "metadata": {},
   "source": [
    "#### Now we will use : final_dataset (filtered + transpose + one hot coding + padding) and T_dictionnary_transpose_filtered et int_one_hot_dataset."
   ]
  },
  {
   "cell_type": "markdown",
   "metadata": {},
   "source": [
    "## Exercise 5: Building and training a generative model of  note transition with the Keras functional API\n",
    "### Description\n",
    "\n",
    "The Keras Sequential model is very efficient for fast prototyping, however suffers from a lack of design liberty. The Keras Functional API is only slightly more complex but allows for more control on the different parts of your model. You will be using the Functional API for the rest of this project. Please read carefully the [documentation](https://keras.io/getting-started/sequential-model-guide/). \n",
    "\n",
    "Here, you will be constructing your RNN model of note transition. To achieve that, your model should be trained to approximate the probability distribution of the upcoming note (observed as two output softmax layers - one for pitch and one for duration) given the current note (given as input) and the model internal representation of the history of notes (its hidden state). To achieve that, set the Keras RNN layer argument \"return_sequences\" to True when building your model. Doing this will give you an output for each note, rather than a single output at the end of the sequence. During training, the target at each time step is the next note pitch and duration.\n",
    "\n",
    "You are free to use your own architecture but make sure to use at least 128 hidden units, Masking, and dropout to prevent overfitting. Your model should have two output (softmax) layers, one related to the pitch predictions that you should name `YP`, and the other related to the duration predictions `YT`. You should monitor both the loss (categorical_crossentropy) and the accuracy. For your best model, you should reach 40%/75% accuracy on the pitch/duration predictions.\n",
    "\n",
    "1. Train your first model composed of SimpleRNN cells for min 250 epochs and save the model/parameters that lead to the higher accuracy on the validating set. Use a validation split of 0.2. Try  If you correctly named the output layers (`YP` and `YT`) use the provided `plotLearningCurves(History)` function to plot the learning curves by giving the History object returned by the Keras fit function as argument.  \n",
    "2. Train a second model where you replaced the SimpleRNN units with GRUs (LSTM unit equivalent that requires less parameters). Make sure you use the same hyperparameters as before. Plot the learning curves.\n",
    "3. On a single plot, adapt the `plotLearningCurves(History)` function to compare the validation learning curves of the simpleRNN and GRU models. In other words, plot the validation loss vs epoch for pitch/duration for the simpleRNN and GRU models. Do the same for accuracies.\n"
   ]
  },
  {
   "cell_type": "markdown",
   "metadata": {},
   "source": [
    "### Solution"
   ]
  },
  {
   "cell_type": "code",
   "execution_count": 3,
   "metadata": {
    "collapsed": true
   },
   "outputs": [],
   "source": [
    "# Load the dataset if required\n",
    "dictionaries_load = np.load(\"dictionaries.npy\")\n",
    "array_T= np.load(\"t_array.npy\")\n",
    "array_P= np.load(\"p_array.npy\")\n",
    "final_dataset_load = np.load(\"final_dataset.npy\")\n",
    "dictionaries = {'T': dictionaries_load[()]['T'], 'P': dictionaries_load[()]['P']}\n",
    "final_dataset = final_dataset_load[()]"
   ]
  },
  {
   "cell_type": "code",
   "execution_count": 4,
   "metadata": {
    "collapsed": true
   },
   "outputs": [],
   "source": [
    "#dictionaries= np.load(\"dictionaries.npy\")\n",
    "def buildModel(dictionaries, batch_length, dropout=0.2, activation='GRU', Hsize=128):\n",
    "    X = dict()\n",
    "    H = dict()\n",
    "    M = dict()\n",
    "    Y = dict()\n",
    "    \n",
    "    X['T'] = Input(shape=(batch_length, len(dictionaries['T'])), name=\"XT\")\n",
    "    X['P'] = Input(shape=(batch_length, len(dictionaries['P'])), name=\"XP\")\n",
    "    M['T'] = Masking(mask_value=0., name=\"MT\")(X['T'])\n",
    "    M['P'] = Masking(mask_value=0., name=\"MP\")(X['P'])\n",
    "    H['1'] = Concatenate(name=\"MergeX\")([M['T'], M['P']])\n",
    "    if activation == 'GRU':\n",
    "        y = GRU(128, activation='tanh', dropout=0.2, recurrent_dropout=0.2, return_sequences=True,return_state=False)(H['1'])\n",
    "\n",
    "    elif activation == 'RNN':\n",
    "        y = SimpleRNN(128, activation='tanh', dropout=0.2, recurrent_dropout=0.2, return_sequences=True,return_state=False)(H['1'])\n",
    "\n",
    "    Y['T'] = TimeDistributed(Dense(len(dictionaries['T']), activation='softmax'), name='YT')(y)\n",
    "    Y['P'] = TimeDistributed(Dense(len(dictionaries['P']), activation='softmax'), name='YP')(y)\n",
    "    \n",
    "    model = Model(inputs = [X['T'], X['P']], outputs = [Y['T'], Y['P']])\n",
    "    \n",
    "    opt = Adam(lr=0.001) \n",
    "    model.compile(loss='categorical_crossentropy', optimizer=opt, metrics=['acc'])\n",
    "    \n",
    "    model_hidden = Model(inputs = [X['T'], X['P']], outputs = [Y['T'], Y['P'], y])\n",
    "    return model, model_hidden\n"
   ]
  },
  {
   "cell_type": "code",
   "execution_count": 5,
   "metadata": {},
   "outputs": [
    {
     "name": "stdout",
     "output_type": "stream",
     "text": [
      "__________________________________________________________________________________________________\n",
      "Layer (type)                    Output Shape         Param #     Connected to                     \n",
      "==================================================================================================\n",
      "XT (InputLayer)                 (None, 377, 19)      0                                            \n",
      "__________________________________________________________________________________________________\n",
      "XP (InputLayer)                 (None, 377, 50)      0                                            \n",
      "__________________________________________________________________________________________________\n",
      "MT (Masking)                    (None, 377, 19)      0           XT[0][0]                         \n",
      "__________________________________________________________________________________________________\n",
      "MP (Masking)                    (None, 377, 50)      0           XP[0][0]                         \n",
      "__________________________________________________________________________________________________\n",
      "MergeX (Concatenate)            (None, 377, 69)      0           MT[0][0]                         \n",
      "                                                                 MP[0][0]                         \n",
      "__________________________________________________________________________________________________\n",
      "simple_rnn_1 (SimpleRNN)        (None, 377, 128)     25344       MergeX[0][0]                     \n",
      "__________________________________________________________________________________________________\n",
      "YT (TimeDistributed)            (None, 377, 19)      2451        simple_rnn_1[0][0]               \n",
      "__________________________________________________________________________________________________\n",
      "YP (TimeDistributed)            (None, 377, 50)      6450        simple_rnn_1[0][0]               \n",
      "==================================================================================================\n",
      "Total params: 34,245\n",
      "Trainable params: 34,245\n",
      "Non-trainable params: 0\n",
      "__________________________________________________________________________________________________\n"
     ]
    }
   ],
   "source": [
    "# Train a RNN Model\n",
    "checkpointer= ModelCheckpoint('./RNN.h5', monitor='val_loss', verbose=0, save_best_only=True, mode='auto', period=1)\n",
    "RNNmodel,RNNmodel_hidden = buildModel(dictionaries, batch_length=377, activation='RNN')\n",
    "RNNmodel.summary()\n",
    "RNNmodel.load_weights('RNN.h5')\n",
    "if False:\n",
    "    history_RNN=RNNmodel.fit(callbacks=[checkpointer], x=[array_T[:,:-1,:],array_P[:,:-1,:]], y=[array_T[:,1:,:],array_P[:,1:,:]], batch_size=32, epochs=250,verbose=1, validation_split=0.2)\n",
    "    with open('/trainHistoryDict_RNN', 'wb') as file_pi:\n",
    "        pickle.dump(history_RNN.history, file_pi)"
   ]
  },
  {
   "cell_type": "code",
   "execution_count": 6,
   "metadata": {},
   "outputs": [
    {
     "name": "stdout",
     "output_type": "stream",
     "text": [
      "__________________________________________________________________________________________________\n",
      "Layer (type)                    Output Shape         Param #     Connected to                     \n",
      "==================================================================================================\n",
      "XT (InputLayer)                 (None, 377, 19)      0                                            \n",
      "__________________________________________________________________________________________________\n",
      "XP (InputLayer)                 (None, 377, 50)      0                                            \n",
      "__________________________________________________________________________________________________\n",
      "MT (Masking)                    (None, 377, 19)      0           XT[0][0]                         \n",
      "__________________________________________________________________________________________________\n",
      "MP (Masking)                    (None, 377, 50)      0           XP[0][0]                         \n",
      "__________________________________________________________________________________________________\n",
      "MergeX (Concatenate)            (None, 377, 69)      0           MT[0][0]                         \n",
      "                                                                 MP[0][0]                         \n",
      "__________________________________________________________________________________________________\n",
      "gru_1 (GRU)                     (None, 377, 128)     76032       MergeX[0][0]                     \n",
      "__________________________________________________________________________________________________\n",
      "YT (TimeDistributed)            (None, 377, 19)      2451        gru_1[0][0]                      \n",
      "__________________________________________________________________________________________________\n",
      "YP (TimeDistributed)            (None, 377, 50)      6450        gru_1[0][0]                      \n",
      "==================================================================================================\n",
      "Total params: 84,933\n",
      "Trainable params: 84,933\n",
      "Non-trainable params: 0\n",
      "__________________________________________________________________________________________________\n"
     ]
    }
   ],
   "source": [
    "\n",
    "\n",
    "checkpointer= ModelCheckpoint('./GRU.h5', monitor='val_loss', verbose=0, save_best_only=True, mode='auto', period=1)\n",
    "GRUmodel, GRUmodel_hidden = buildModel(dictionaries, batch_length=377, activation='GRU')\n",
    "GRUmodel.summary()\n",
    "GRUmodel.load_weights(\"GRU.h5\")\n",
    "\n",
    "if False:\n",
    "    history_GRU= GRUmodel.fit(callbacks=[checkpointer], x=[array_T[:,:-1,:],array_P[:,:-1,:]], y=[array_T[:,1:,:],array_P[:,1:,:]], batch_size=32, epochs=250,verbose=1, validation_split=0.2)\n",
    "    with open('/trainHistoryDict_GRU', 'wb') as file_pi:\n",
    "        pickle.dump(history_GRU.history, file_pi)"
   ]
  },
  {
   "cell_type": "code",
   "execution_count": null,
   "metadata": {
    "collapsed": true
   },
   "outputs": [],
   "source": [
    "plotLearningCurves(history_RNN)\n",
    "plotLearningCurves(history_GRU)"
   ]
  },
  {
   "cell_type": "code",
   "execution_count": null,
   "metadata": {
    "collapsed": true
   },
   "outputs": [],
   "source": [
    "log = history_RNN.history\n",
    "log_2 = history_GRU.history\n",
    "plt.figure(figsize=(8,4))\n",
    "\n",
    "plt.plot(log['val_YP_loss'], c=c[0], label='Pitch val loss RNN')\n",
    "plt.plot(log['val_YT_loss'], c=c[1], label='Dur val loss RNN')\n",
    "plt.plot(log_2['val_YP_loss'], c=c[2], label='Pitch val loss GRU')\n",
    "plt.plot(log_2['val_YT_loss'], c=c[3], label='Dur val loss GRU')\n",
    "plt.xlabel('epoch')\n",
    "plt.ylabel('Loss')\n",
    "plt.legend(loc='best')\n",
    "\n",
    "plt.figure(figsize=(8,4))\n",
    "plt.plot(log['val_YP_acc'], c=c[0], label='Pitch val acc RNN')\n",
    "plt.plot(log_2['val_YP_acc'], c=c[2], label='Pitch val acc GRU')\n",
    "plt.plot(log['val_YT_acc'], c=c[1], label='Dur val acc RNN')\n",
    "plt.plot(log_2['val_YT_acc'], c=c[3], label='Dur val acc GRU')\n",
    "plt.xlabel('epoch')\n",
    "plt.ylabel('Accuracy')\n",
    "plt.legend(loc='best')\n"
   ]
  },
  {
   "cell_type": "markdown",
   "metadata": {},
   "source": [
    "**Question**: What are the best prediction accuracies you obtained? With which model?\n",
    "    \n",
    "**Answer**: \n",
    "\n",
    "**Question**: In a few sentences, comment on the plot comparing learning curves for the two activation function.\n",
    "    \n",
    "**Answer**: \n",
    "\n"
   ]
  },
  {
   "cell_type": "markdown",
   "metadata": {
    "collapsed": true
   },
   "source": [
    "## Exercise 6: Visualizing the model\n",
    "### Description\n",
    "\n",
    "1. Using the model.predict and plotMelody functions, show the outputs of your best model when fed with 4 randomly selected melodies. Report the prediction accuracies as well.\n",
    "2. For the same melodies, plot the hidden state evolution accross time steps. Construct a 2 dimensional matrix with the first dimension being time and the second the concatenation of all hidden unit activations and plot it using the provided `plotMelody` function. To get the hidden states of your network, you can modify the `buildModel` function so that you have another computation graph (another model with the same layers, but the output layer) returning you the hidden states. However, other approaches are equally valid.  \n",
    "3. For each hidden unit $i$ and accross the entire dataset, compute the average absolute change in activation $\\Delta A_i$. Be careful not to take masked timesteps into account. Plot the histogram (50 bins) of this average for the RNN and GRU models on the same figure."
   ]
  },
  {
   "cell_type": "markdown",
   "metadata": {},
   "source": [
    "### Solution"
   ]
  },
  {
   "cell_type": "code",
   "execution_count": 64,
   "metadata": {},
   "outputs": [
    {
     "name": "stdout",
     "output_type": "stream",
     "text": [
      "Selected:  [4000 1133 2041 3816]\n",
      "4/4 [==============================] - 0s\n",
      "[1.94663405418396, 0.38918954133987427, 1.5574445724487305, 0.8550227880477905, 0.4999999403953552]\n"
     ]
    }
   ],
   "source": [
    "########################################\n",
    "# Randomly plot output of 4 melodies\n",
    "#######################################\n",
    "\n",
    "final_dataset = {'T': final_dataset_load[()]}\n",
    "\n",
    "sample_4 = np.random.choice(array_T.shape[0], 4)\n",
    "print(\"Selected: \", sample_4)\n",
    "x_t, x_p = array_T[sample_4,:-1,:], array_P[sample_4,:-1,:]\n",
    "y_t, y_p = array_T[sample_4,1:,:], array_P[sample_4,1:,:]\n",
    "    \n",
    "yp_t,yp_p = GRUmodel.predict([x_t,x_p])  \n",
    "#print(yp_t[0].shape, yp_p[0].shape)\n",
    "#print(x_p[0][0:10], np.sum(x_p))\n",
    "#plotMelody(y_t[0],y_p[0], dictionaries, yp_t[0],yp_p[0])\n",
    "\n",
    "\n",
    "y = GRUmodel.evaluate([x_t,x_p],[y_t,y_p])  \n",
    "print(y)    "
   ]
  },
  {
   "cell_type": "code",
   "execution_count": 65,
   "metadata": {},
   "outputs": [
    {
     "data": {
      "image/png": "[encoded data removed]",
      "text/plain": [
       "<matplotlib.figure.Figure at 0x7f12a878fd10>"
      ]
     },
     "metadata": {
      "image/png": {
       "height": 294,
       "width": 584
      }
     },
     "output_type": "display_data"
    },
    {
     "ename": "IndexError",
     "evalue": "index 19 is out of bounds for axis 0 with size 19",
     "output_type": "error",
     "traceback": [
      "\u001b[0;31m---------------------------------------------------------------------------\u001b[0m",
      "\u001b[0;31mIndexError\u001b[0m                                Traceback (most recent call last)",
      "\u001b[0;32m<ipython-input-65-a3d1a42bf505>\u001b[0m in \u001b[0;36m<module>\u001b[0;34m()\u001b[0m\n\u001b[1;32m      4\u001b[0m \u001b[0;34m\u001b[0m\u001b[0m\n\u001b[1;32m      5\u001b[0m \u001b[0m_\u001b[0m\u001b[0;34m,\u001b[0m\u001b[0m_\u001b[0m\u001b[0;34m,\u001b[0m\u001b[0myh\u001b[0m \u001b[0;34m=\u001b[0m \u001b[0mGRUmodel_hidden\u001b[0m\u001b[0;34m.\u001b[0m\u001b[0mpredict\u001b[0m\u001b[0;34m(\u001b[0m\u001b[0;34m[\u001b[0m\u001b[0mx_t\u001b[0m\u001b[0;34m,\u001b[0m\u001b[0mx_p\u001b[0m\u001b[0;34m]\u001b[0m\u001b[0;34m)\u001b[0m\u001b[0;34m\u001b[0m\u001b[0m\n\u001b[0;32m----> 6\u001b[0;31m \u001b[0mplotMelody\u001b[0m\u001b[0;34m(\u001b[0m\u001b[0my_t\u001b[0m\u001b[0;34m[\u001b[0m\u001b[0;36m0\u001b[0m\u001b[0;34m]\u001b[0m\u001b[0;34m,\u001b[0m\u001b[0my_p\u001b[0m\u001b[0;34m[\u001b[0m\u001b[0;36m0\u001b[0m\u001b[0;34m]\u001b[0m\u001b[0;34m,\u001b[0m \u001b[0mdictionaries\u001b[0m\u001b[0;34m,\u001b[0m \u001b[0myp_t\u001b[0m\u001b[0;34m[\u001b[0m\u001b[0;36m0\u001b[0m\u001b[0;34m]\u001b[0m\u001b[0;34m,\u001b[0m\u001b[0myp_p\u001b[0m\u001b[0;34m[\u001b[0m\u001b[0;36m0\u001b[0m\u001b[0;34m]\u001b[0m\u001b[0;34m)\u001b[0m\u001b[0;34m\u001b[0m\u001b[0m\n\u001b[0m\u001b[1;32m      7\u001b[0m \u001b[0;34m\u001b[0m\u001b[0m\n\u001b[1;32m      8\u001b[0m \u001b[0;34m\u001b[0m\u001b[0m\n",
      "\u001b[0;32m<ipython-input-2-25caf7bd8c80>\u001b[0m in \u001b[0;36mplotMelody\u001b[0;34m(P, T, dictionaries, PrP, PrT, H)\u001b[0m\n\u001b[1;32m     42\u001b[0m         \u001b[0mplt\u001b[0m\u001b[0;34m.\u001b[0m\u001b[0mimshow\u001b[0m\u001b[0;34m(\u001b[0m\u001b[0mT\u001b[0m\u001b[0;34m[\u001b[0m\u001b[0;34m:\u001b[0m\u001b[0;34m,\u001b[0m\u001b[0mactiveidxes\u001b[0m\u001b[0;34m]\u001b[0m\u001b[0;34m.\u001b[0m\u001b[0mT\u001b[0m\u001b[0;34m,\u001b[0m \u001b[0morigin\u001b[0m\u001b[0;34m=\u001b[0m\u001b[0;34m'lower'\u001b[0m\u001b[0;34m,\u001b[0m \u001b[0maspect\u001b[0m\u001b[0;34m=\u001b[0m\u001b[0;34m'auto'\u001b[0m\u001b[0;34m,\u001b[0m \u001b[0minterpolation\u001b[0m\u001b[0;34m=\u001b[0m\u001b[0;34m'nearest'\u001b[0m\u001b[0;34m,\u001b[0m \u001b[0mcmap\u001b[0m\u001b[0;34m=\u001b[0m\u001b[0mplt\u001b[0m\u001b[0;34m.\u001b[0m\u001b[0mcm\u001b[0m\u001b[0;34m.\u001b[0m\u001b[0mgray_r\u001b[0m\u001b[0;34m,\u001b[0m \u001b[0mvmin\u001b[0m\u001b[0;34m=\u001b[0m\u001b[0;36m0\u001b[0m\u001b[0;34m,\u001b[0m \u001b[0mvmax\u001b[0m\u001b[0;34m=\u001b[0m\u001b[0;36m1\u001b[0m\u001b[0;34m)\u001b[0m\u001b[0;34m\u001b[0m\u001b[0m\n\u001b[1;32m     43\u001b[0m     \u001b[0mplt\u001b[0m\u001b[0;34m.\u001b[0m\u001b[0mylim\u001b[0m\u001b[0;34m(\u001b[0m\u001b[0;34m[\u001b[0m\u001b[0;34m-\u001b[0m\u001b[0;36m0.5\u001b[0m\u001b[0;34m,\u001b[0m\u001b[0mlen\u001b[0m\u001b[0;34m(\u001b[0m\u001b[0mactiveidxes\u001b[0m\u001b[0;34m)\u001b[0m\u001b[0;34m-\u001b[0m\u001b[0;36m0.5\u001b[0m\u001b[0;34m]\u001b[0m\u001b[0;34m)\u001b[0m\u001b[0;34m\u001b[0m\u001b[0m\n\u001b[0;32m---> 44\u001b[0;31m     \u001b[0mplt\u001b[0m\u001b[0;34m.\u001b[0m\u001b[0myticks\u001b[0m\u001b[0;34m(\u001b[0m\u001b[0mrange\u001b[0m\u001b[0;34m(\u001b[0m\u001b[0mlen\u001b[0m\u001b[0;34m(\u001b[0m\u001b[0mactiveidxes\u001b[0m\u001b[0;34m)\u001b[0m\u001b[0;34m)\u001b[0m\u001b[0;34m,\u001b[0m\u001b[0;34m[\u001b[0m\u001b[0mdictionaries\u001b[0m\u001b[0;34m[\u001b[0m\u001b[0;34m\"T\"\u001b[0m\u001b[0;34m]\u001b[0m\u001b[0;34m[\u001b[0m\u001b[0mi\u001b[0m\u001b[0;34m]\u001b[0m \u001b[0;32mfor\u001b[0m \u001b[0mi\u001b[0m \u001b[0;32min\u001b[0m \u001b[0mactiveidxes\u001b[0m\u001b[0;34m]\u001b[0m\u001b[0;34m)\u001b[0m\u001b[0;34m\u001b[0m\u001b[0m\n\u001b[0m\u001b[1;32m     45\u001b[0m     \u001b[0mplt\u001b[0m\u001b[0;34m.\u001b[0m\u001b[0mtight_layout\u001b[0m\u001b[0;34m(\u001b[0m\u001b[0;34m)\u001b[0m\u001b[0;34m\u001b[0m\u001b[0m\n\u001b[1;32m     46\u001b[0m     \u001b[0mplt\u001b[0m\u001b[0;34m.\u001b[0m\u001b[0mxlabel\u001b[0m\u001b[0;34m(\u001b[0m\u001b[0;34m\"$n$\"\u001b[0m\u001b[0;34m)\u001b[0m\u001b[0;34m\u001b[0m\u001b[0m\n",
      "\u001b[0;31mIndexError\u001b[0m: index 19 is out of bounds for axis 0 with size 19"
     ]
    },
    {
     "data": {
      "image/png": "[encoded data removed]",
      "text/plain": [
       "<matplotlib.figure.Figure at 0x7f12dc6b6910>"
      ]
     },
     "metadata": {
      "image/png": {
       "height": 250,
       "width": 482
      }
     },
     "output_type": "display_data"
    }
   ],
   "source": [
    "############################################\n",
    "# Q2. Hidden state evolution across timesteps\n",
    "############################################\n",
    "\n",
    "_,_,yh = GRUmodel_hidden.predict([x_t,x_p])  \n",
    "plotMelody(y_t[0],y_p[0], dictionaries, yp_t[0],yp_p[0])\n",
    "\n",
    "\n",
    "_,_,yh = RNNmodel_hidden.predict([x_t,x_p])  \n",
    "plotMelody(y_t[0],y_p[0], dictionaries, yp_t[0],yp_p[0])\n",
    "\n"
   ]
  },
  {
   "cell_type": "code",
   "execution_count": 9,
   "metadata": {},
   "outputs": [
    {
     "name": "stdout",
     "output_type": "stream",
     "text": [
      "100/100 [==============================] - 1s     \n",
      "100/100 [==============================] - 0s     \n"
     ]
    },
    {
     "data": {
      "image/png": "[encoded data removed]",
      "text/plain": [
       "<matplotlib.figure.Figure at 0x7f141292cbd0>"
      ]
     },
     "metadata": {
      "image/png": {
       "height": 607,
       "width": 619
      }
     },
     "output_type": "display_data"
    }
   ],
   "source": [
    "##########################################\n",
    "#  Q3 average abolsute change of hidden unit\n",
    "###########################################\n",
    "\n",
    "N=100\n",
    "# for GRU model\n",
    "_,_,yh = GRUmodel_hidden.predict([array_T[:N,:-1,:],array_P[:N,1:,:]], verbose=1)\n",
    "delh_GRU =np.zeros((yh.shape[2]))\n",
    "for j in range(N):\n",
    "    delh_GRU += np.mean(np.abs(yh[j,1:,:]-yh[j,:-1,:]), axis=0)\n",
    "delh_GRU /=array_T.shape[0]\n",
    "\n",
    "# for RNN model\n",
    "_,_,yh = RNNmodel_hidden.predict([array_T[:N,:-1,:],array_P[:N,1:,:]], verbose=1)\n",
    "delh_RNN=np.zeros((yh.shape[2]))\n",
    "for j in range(N):\n",
    "    delh_RNN += np.mean(np.abs(yh[j,1:,:]-yh[j,:-1,:]), axis=0)\n",
    "delh_RNN /=array_T.shape[0]\n",
    "\n",
    "# Histogram plot\n",
    "fig = plt.figure(figsize=(10,10))\n",
    "plt.hist(delh_GRU, bins=50, label='GRU')\n",
    "plt.hist(delh_RNN, bins=50, label='RNN')\n",
    "plt.title('Histogram plot of absolute delta changes of hidden unit ')\n",
    "plt.xlabel('hidden unit')\n",
    "plt.ylabel('average absolute change')\n",
    "plt.legend(loc=\"best\")\n",
    "plt.show()\n"
   ]
  },
  {
   "cell_type": "markdown",
   "metadata": {},
   "source": [
    "**Question**: How does the hidden state dynamics explain the performance of the RNN vs GRU models? Explain in term of temporal dependencies and base your explanation on figures obtained in 6.2 and 6.3.\n",
    "    \n",
    "**Answer**: \n"
   ]
  },
  {
   "cell_type": "markdown",
   "metadata": {
    "collapsed": true
   },
   "source": [
    "## Exercise 7: Generation of new melodies\n",
    "### Description\n",
    "\n",
    "1. Use your trained best model to generate new melodies. You can do that by starting with a random note, feeding it to your network and sample the output predictions in order to select the next note. Then add this note to your iteratively growing melodies. For your convenience, we provided the `sample` and `writeMIDI` functions. You can use the first in order to perform temperature sampling. The `writeMIDI` function allows you to write a MIDI file from the integer representation.\n",
    "2. Try different sampling temperatures (e.g. 0.5, 1., 1.5) and observe the effect on your generated melodies.\n",
    "3. Generate 32 melodies with both the RNN and GRU models\n",
    "4. Listen to 4 randomly chosen melodies (2 from the GRU model and 2 from the RNN model). To play in a notebook, use a similar approach as the one shown below assuming you have the files `GRU_1.mid` and `RNN_1.mid` at the same level as this notebook. For your own curiosity, you can also directly listen to the MIDI files with your favorite MIDI player but make sure that we can listen to the 4 extracts directly from this notebook (without rerunning it). You might have to use the \"Trust notebook\" button (in the top right corner) to see the players. This currently only works in jupyter notebook (not jupyter lab). If you have trouble achieving that, upload the MIDI files with your submission.\n",
    "5. (Optional) If you have a big enough computing power, try adding multiple and bigger layers. You could also try to improve your model with different add-ons, e.g. make your model learn when a melody ends, extend it to other datasets, ...\n",
    "6. (Optional) If you are happy with your results submit a 1 hour long generated MIDI file to the [AI-generated music challenge](https://www.crowdai.org/challenges/ai-generated-music-challenge). "
   ]
  },
  {
   "cell_type": "markdown",
   "metadata": {},
   "source": [
    "### Solution"
   ]
  },
  {
   "cell_type": "code",
   "execution_count": 38,
   "metadata": {},
   "outputs": [
    {
     "name": "stdout",
     "output_type": "stream",
     "text": [
      "[0.37207636 0.45851966 0.54624616 0.03928346 0.75177231 0.38554141\n",
      " 0.93413896 0.97889851 0.34274644 0.15038009 0.19904907 0.30206797\n",
      " 0.97625337 0.51735136 0.85685401 0.18693119 0.11552211 0.44968628\n",
      " 0.76762713]\n"
     ]
    }
   ],
   "source": [
    "####################################################\n",
    "# Q1. Generate melodies\n",
    "###################################################\n",
    "\n",
    "SEQ_LENGTH = array_T.shape[1]\n",
    "\n",
    "def _gen(model):\n",
    "\n",
    "    generated_t = []\n",
    "    generated_p = []\n",
    "    \n",
    "    x_t, x_p  = np.zeros((1, SEQ_LENGTH-1, 19)), np.zeros((1, SEQ_LENGTH-1, 50))\n",
    "    \n",
    "    index= np.random.choice(np.arange(0, x_t.shape[2]))\n",
    "    x_t[0,-1,:]=np.random.rand(19)\n",
    "    \n",
    "    index= np.random.choice(np.arange(0, x_p.shape[2]))\n",
    "    x_p[0,-1,:]=np.random.rand(50)\n",
    "    \n",
    "    \n",
    "    print(x_t[0,-1,:])\n",
    "    \n",
    "    for j in range(SEQ_LENGTH-1):\n",
    "        pred_t, pred_p = model.predict([x_t,x_p]) \n",
    "        \n",
    "        x_t, x_p = x_t[:,1:,:], x_p[:,1:,:] \n",
    "        #print(x_t[0,-2,:])\n",
    "        #break\n",
    "        x_t = np.concatenate((x_t,np.expand_dims(pred_t[:,-1,:],0)), axis=1)\n",
    "        x_p = np.concatenate((x_p,np.expand_dims(pred_p[:,-1,:],0)), axis=1)\n",
    "        np.savetxt(\"./generated/gen_t_{}.txt\".format(j),x_t[0], fmt=\"%.2f\")\n",
    "        \n",
    "    return x_t, x_p\n",
    "\n",
    "gen_t, gen_p = _gen(GRUmodel)\n",
    "\n",
    "writeMIDI(np.argmax(gen_p[0],1), np.argmax(gen_t[0],1), dictionaries, \"dummy.mid\")\n",
    "\n",
    "\n",
    " "
   ]
  },
  {
   "cell_type": "code",
   "execution_count": 47,
   "metadata": {},
   "outputs": [
    {
     "name": "stdout",
     "output_type": "stream",
     "text": [
      "Dataset sample\n"
     ]
    },
    {
     "data": {
      "text/html": [
       "\n",
       "                <div id='midiPlayerDiv13550'></div>\n",
       "                <link rel=\"stylesheet\" href=\"http://artusi.xyz/music21j/css/m21.css\"\n",
       "                    type=\"text/css\" />\n",
       "                <script>\n",
       "                require.config({\n",
       "                    paths: {'music21': 'http://artusi.xyz/music21j/src/music21'}\n",
       "                });\n",
       "                require(['music21'], function() {\n",
       "                               mp = new music21.miditools.MidiPlayer();\n",
       "                               mp.addPlayer('#midiPlayerDiv13550');\n",
       "                               mp.base64Load('data:audio/midi;base64,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');\n",
       "                        });\n",
       "                </script>"
      ],
      "text/plain": [
       "<IPython.core.display.HTML object>"
      ]
     },
     "metadata": {},
     "output_type": "display_data"
    },
    {
     "name": "stdout",
     "output_type": "stream",
     "text": [
      "GRU\n"
     ]
    },
    {
     "data": {
      "text/html": [
       "\n",
       "                <div id='midiPlayerDiv15047'></div>\n",
       "                <link rel=\"stylesheet\" href=\"http://artusi.xyz/music21j/css/m21.css\"\n",
       "                    type=\"text/css\" />\n",
       "                <script>\n",
       "                require.config({\n",
       "                    paths: {'music21': 'http://artusi.xyz/music21j/src/music21'}\n",
       "                });\n",
       "                require(['music21'], function() {\n",
       "                               mp = new music21.miditools.MidiPlayer();\n",
       "                               mp.addPlayer('#midiPlayerDiv15047');\n",
       "                               mp.base64Load('data:audio/midi;base64,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');\n",
       "                        });\n",
       "                </script>"
      ],
      "text/plain": [
       "<IPython.core.display.HTML object>"
      ]
     },
     "metadata": {},
     "output_type": "display_data"
    }
   ],
   "source": [
    "#print(final_dataset['T'])\n",
    "print('Dataset sample')\n",
    "music21.midi.translate.midiFilePathToStream(\"./chorpus/sessiontune33420.mid\").show('midi')\n",
    "\n",
    "print('GRU')\n",
    "music21.midi.translate.midiFilePathToStream(\"dummy1.mid\").show('midi')"
   ]
  },
  {
   "cell_type": "code",
   "execution_count": 29,
   "metadata": {},
   "outputs": [],
   "source": [
    "###################################################\n",
    "# Q2. With different temperatures\n",
    "##################################################\n",
    "def sample(preds, temperature=1.):\n",
    "    \"\"\"Helper function to sample an index from a probability array\"\"\"\n",
    "    preds = np.asarray(preds).astype('float64')\n",
    "    preds = np.log(preds) / temperature\n",
    "    exp_preds = np.exp(preds)\n",
    "    preds = exp_preds / np.sum(exp_preds)\n",
    "    #print(preds.shape)\n",
    "    probas = np.random.multinomial(1, preds, 1)\n",
    "    #print(probas.shape)\n",
    "    return np.argmax(probas)\n",
    "\n",
    "\n",
    "SEQ_LENGTH = array_T.shape[1]\n",
    "\n",
    "def _gen_temp(model, temp):\n",
    "    \n",
    "    x_t, x_p  = np.zeros((1, SEQ_LENGTH-1, 19)), np.zeros((1, SEQ_LENGTH-1, 50))\n",
    "    index= np.random.choice(np.arange(0, x_t.shape[2]))\n",
    "    x_t[0,-1,:]=np.random.rand(19)\n",
    "    index= np.random.choice(np.arange(0, x_p.shape[2]))\n",
    "    x_p[0,-1,:]=np.random.rand(50)\n",
    "    \n",
    "    #print(x_t[0,-1,:])\n",
    "    \n",
    "    for j in range(SEQ_LENGTH-1):\n",
    "        pred_t, pred_p = model.predict([x_t,x_p]) \n",
    "        x_t, x_p = x_t[:,1:,:], x_p[:,1:,:] \n",
    "        \n",
    "        sampled_t = sample(pred_t[0,-1,:], temp)\n",
    "        sampled_p = sample(pred_p[0,-1,:], temp)\n",
    "        \n",
    "        dt,dp = np.zeros((1,x_t.shape[2])),np.zeros((1,x_p.shape[2]))\n",
    "        dt[0,sampled_t] = 1\n",
    "        dp[0,sampled_p] = 1\n",
    "        x_t = np.concatenate((x_t,np.expand_dims(dt,0)), axis=1)\n",
    "        x_p = np.concatenate((x_p,np.expand_dims(dp,0)), axis=1)\n",
    "        #np.savetxt(\"./generated/gen_t_{}.txt\".format(j),x_t[0], fmt=\"%.2f\")\n",
    "        \n",
    "    return x_t, x_p\n",
    "\n",
    "gen_p=[]\n",
    "gen_t=[]\n",
    "for temp in [0.5,1,2]:\n",
    "    _gen_t, _gen_p = _gen_temp(GRUmodel,0.5)\n",
    "    gen_p.append(_gen_p)\n",
    "    gen_t.append(_gen_t)\n",
    "    \n",
    "#print(gen_p)\n"
   ]
  },
  {
   "cell_type": "code",
   "execution_count": 50,
   "metadata": {},
   "outputs": [
    {
     "name": "stdout",
     "output_type": "stream",
     "text": [
      "Creating Melody: 0\n"
     ]
    }
   ],
   "source": [
    "###################################################\n",
    "# Q3. 32 Melodies\n",
    "##################################################\n",
    "\n",
    "GRU_p=[]\n",
    "GRU_t=[]\n",
    "RNN_p=[]\n",
    "RNN_t=[]\n",
    "\n",
    "for j in range(1):\n",
    "    print(\"Creating Melody: {}\".format(j))\n",
    "    _gen_t, _gen_p = _gen_temp(GRUmodel, temp=1.0)\n",
    "    GRU_p.append(_gen_p)\n",
    "    GRU_t.append(_gen_t)\n",
    "    writeMIDI(np.argmax(_gen_p[0],1), np.argmax(_gen_t[0],1), dictionaries, \"./Genmelodies/GRUMelody_{}.mid\".format(j))\n",
    "    \n",
    "    _gen_t, _gen_p = _gen_temp(RNNmodel,  temp=1.0)\n",
    "    RNN_p.append(_gen_p)\n",
    "    RNN_t.append(_gen_t)\n",
    "    \n",
    "    writeMIDI(np.argmax(_gen_p[0],1), np.argmax(_gen_t[0],1), dictionaries, \"./Genmelodies/RNNMelody_{}.mid\".format(j))\n"
   ]
  },
  {
   "cell_type": "code",
   "execution_count": 63,
   "metadata": {},
   "outputs": [
    {
     "data": {
      "text/html": [
       "\n",
       "                <div id='midiPlayerDiv54913'></div>\n",
       "                <link rel=\"stylesheet\" href=\"http://artusi.xyz/music21j/css/m21.css\"\n",
       "                    type=\"text/css\" />\n",
       "                <script>\n",
       "                require.config({\n",
       "                    paths: {'music21': 'http://artusi.xyz/music21j/src/music21'}\n",
       "                });\n",
       "                require(['music21'], function() {\n",
       "                               mp = new music21.miditools.MidiPlayer();\n",
       "                               mp.addPlayer('#midiPlayerDiv54913');\n",
       "                               mp.base64Load('data:audio/midi;base64,TVRoZAAAAAYAAQABBABNVHJrAAAAVQD/AwAA4ABAAP9YBAMCGAiIAJA8WogAgDwAAJA+WoQAgD4AAJBBWoQAgEEAAJBDWoIAgEMAAJBFWoIAgEUAAJBDWoIAgEMAAJBCWoIAgEIAiAD/LwA=');\n",
       "                        });\n",
       "                </script>"
      ],
      "text/plain": [
       "<IPython.core.display.HTML object>"
      ]
     },
     "metadata": {},
     "output_type": "display_data"
    },
    {
     "name": "stdout",
     "output_type": "stream",
     "text": [
      "<music21.stream.Part 0x7f12a86e2590>\n",
      "GRU\n"
     ]
    },
    {
     "data": {
      "text/html": [
       "\n",
       "                <div id='midiPlayerDiv59130'></div>\n",
       "                <link rel=\"stylesheet\" href=\"http://artusi.xyz/music21j/css/m21.css\"\n",
       "                    type=\"text/css\" />\n",
       "                <script>\n",
       "                require.config({\n",
       "                    paths: {'music21': 'http://artusi.xyz/music21j/src/music21'}\n",
       "                });\n",
       "                require(['music21'], function() {\n",
       "                               mp = new music21.miditools.MidiPlayer();\n",
       "                               mp.addPlayer('#midiPlayerDiv59130');\n",
       "                               mp.base64Load('data:audio/midi;base64,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');\n",
       "                        });\n",
       "                </script>"
      ],
      "text/plain": [
       "<IPython.core.display.HTML object>"
      ]
     },
     "metadata": {},
     "output_type": "display_data"
    },
    {
     "name": "stdout",
     "output_type": "stream",
     "text": [
      "None\n",
      "<music21.stream.Score 0x7f13ac6ea550>\n",
      "RNN\n"
     ]
    },
    {
     "data": {
      "text/html": [
       "\n",
       "                <div id='midiPlayerDiv63046'></div>\n",
       "                <link rel=\"stylesheet\" href=\"http://artusi.xyz/music21j/css/m21.css\"\n",
       "                    type=\"text/css\" />\n",
       "                <script>\n",
       "                require.config({\n",
       "                    paths: {'music21': 'http://artusi.xyz/music21j/src/music21'}\n",
       "                });\n",
       "                require(['music21'], function() {\n",
       "                               mp = new music21.miditools.MidiPlayer();\n",
       "                               mp.addPlayer('#midiPlayerDiv63046');\n",
       "                               mp.base64Load('data:audio/midi;base64,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');\n",
       "                        });\n",
       "                </script>"
      ],
      "text/plain": [
       "<IPython.core.display.HTML object>"
      ]
     },
     "metadata": {},
     "output_type": "display_data"
    }
   ],
   "source": [
    "####################################\n",
    "# Q4. Play in the notebook\n",
    "####################################\n",
    "from music21 import *\n",
    "littleMelody = converter.parse(\"tinynotation: 3/4 c4 d8 f g16 a g f#\")\n",
    "#littleMelody.show()\n",
    "littleMelody.show('midi')\n",
    "\n",
    "\n",
    "print('GRU')\n",
    "s=music21.midi.translate.midiFilePathToStream('./Genmelodies/GRUMelody_0.mid').show('midi')\n",
    "print(s)\n",
    "print(music21.midi.translate.midiFilePathToStream('./Genmelodies/GRUMelody_0.mid'))\n",
    "\n",
    "print('RNN')\n",
    "music21.midi.translate.midiFilePathToStream('./Genmelodies/RNNMelody_0.mid').show('midi')"
   ]
  },
  {
   "cell_type": "markdown",
   "metadata": {},
   "source": [
    "**Question**: What is the effect of the sampling temperature on the generated melodies?\n",
    "    \n",
    "**Answer**: \n",
    "\n",
    "**Question**: Are the generated melodies from the RNN model different from the one generated by the GRU model? If yes, what are the main differences?\n",
    "**Answer**: \n",
    "\n"
   ]
  }
 ],
 "metadata": {
  "anaconda-cloud": {},
  "kernelspec": {
   "display_name": "Python 3",
   "language": "python",
   "name": "python3"
  },
  "language_info": {
   "codemirror_mode": {
    "name": "ipython",
    "version": 3
   },
   "file_extension": ".py",
   "mimetype": "text/x-python",
   "name": "python",
   "nbconvert_exporter": "python",
   "pygments_lexer": "ipython3",
   "version": "3.6.3"
  }
 },
 "nbformat": 4,
 "nbformat_minor": 1
}
